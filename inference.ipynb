{
 "cells": [
  {
   "cell_type": "code",
   "execution_count": 1,
   "id": "edb12c91",
   "metadata": {
    "_cell_guid": "b1076dfc-b9ad-4769-8c92-a6c4dae69d19",
    "_uuid": "8f2839f25d086af736a60e9eeb907d3b93b6e0e5",
    "execution": {
     "iopub.execute_input": "2024-07-21T19:17:16.156764Z",
     "iopub.status.busy": "2024-07-21T19:17:16.156406Z",
     "iopub.status.idle": "2024-07-21T19:17:46.553561Z",
     "shell.execute_reply": "2024-07-21T19:17:46.552434Z"
    },
    "papermill": {
     "duration": 30.406417,
     "end_time": "2024-07-21T19:17:46.556020",
     "exception": false,
     "start_time": "2024-07-21T19:17:16.149603",
     "status": "completed"
    },
    "tags": []
   },
   "outputs": [
    {
     "name": "stdout",
     "output_type": "stream",
     "text": [
      "Collecting peft\r\n",
      "  Downloading peft-0.11.1-py3-none-any.whl.metadata (13 kB)\r\n",
      "Requirement already satisfied: numpy>=1.17 in /opt/conda/lib/python3.10/site-packages (from peft) (1.26.4)\r\n",
      "Requirement already satisfied: packaging>=20.0 in /opt/conda/lib/python3.10/site-packages (from peft) (21.3)\r\n",
      "Requirement already satisfied: psutil in /opt/conda/lib/python3.10/site-packages (from peft) (5.9.3)\r\n",
      "Requirement already satisfied: pyyaml in /opt/conda/lib/python3.10/site-packages (from peft) (6.0.1)\r\n",
      "Requirement already satisfied: torch>=1.13.0 in /opt/conda/lib/python3.10/site-packages (from peft) (2.1.2)\r\n",
      "Requirement already satisfied: transformers in /opt/conda/lib/python3.10/site-packages (from peft) (4.42.3)\r\n",
      "Requirement already satisfied: tqdm in /opt/conda/lib/python3.10/site-packages (from peft) (4.66.4)\r\n",
      "Requirement already satisfied: accelerate>=0.21.0 in /opt/conda/lib/python3.10/site-packages (from peft) (0.32.1)\r\n",
      "Requirement already satisfied: safetensors in /opt/conda/lib/python3.10/site-packages (from peft) (0.4.3)\r\n",
      "Requirement already satisfied: huggingface-hub>=0.17.0 in /opt/conda/lib/python3.10/site-packages (from peft) (0.23.4)\r\n",
      "Requirement already satisfied: filelock in /opt/conda/lib/python3.10/site-packages (from huggingface-hub>=0.17.0->peft) (3.13.1)\r\n",
      "Requirement already satisfied: fsspec>=2023.5.0 in /opt/conda/lib/python3.10/site-packages (from huggingface-hub>=0.17.0->peft) (2024.5.0)\r\n",
      "Requirement already satisfied: requests in /opt/conda/lib/python3.10/site-packages (from huggingface-hub>=0.17.0->peft) (2.32.3)\r\n",
      "Requirement already satisfied: typing-extensions>=3.7.4.3 in /opt/conda/lib/python3.10/site-packages (from huggingface-hub>=0.17.0->peft) (4.9.0)\r\n",
      "Requirement already satisfied: pyparsing!=3.0.5,>=2.0.2 in /opt/conda/lib/python3.10/site-packages (from packaging>=20.0->peft) (3.1.1)\r\n",
      "Requirement already satisfied: sympy in /opt/conda/lib/python3.10/site-packages (from torch>=1.13.0->peft) (1.13.0)\r\n",
      "Requirement already satisfied: networkx in /opt/conda/lib/python3.10/site-packages (from torch>=1.13.0->peft) (3.2.1)\r\n",
      "Requirement already satisfied: jinja2 in /opt/conda/lib/python3.10/site-packages (from torch>=1.13.0->peft) (3.1.2)\r\n",
      "Requirement already satisfied: regex!=2019.12.17 in /opt/conda/lib/python3.10/site-packages (from transformers->peft) (2023.12.25)\r\n",
      "Requirement already satisfied: tokenizers<0.20,>=0.19 in /opt/conda/lib/python3.10/site-packages (from transformers->peft) (0.19.1)\r\n",
      "Requirement already satisfied: MarkupSafe>=2.0 in /opt/conda/lib/python3.10/site-packages (from jinja2->torch>=1.13.0->peft) (2.1.3)\r\n",
      "Requirement already satisfied: charset-normalizer<4,>=2 in /opt/conda/lib/python3.10/site-packages (from requests->huggingface-hub>=0.17.0->peft) (3.3.2)\r\n",
      "Requirement already satisfied: idna<4,>=2.5 in /opt/conda/lib/python3.10/site-packages (from requests->huggingface-hub>=0.17.0->peft) (3.6)\r\n",
      "Requirement already satisfied: urllib3<3,>=1.21.1 in /opt/conda/lib/python3.10/site-packages (from requests->huggingface-hub>=0.17.0->peft) (1.26.18)\r\n",
      "Requirement already satisfied: certifi>=2017.4.17 in /opt/conda/lib/python3.10/site-packages (from requests->huggingface-hub>=0.17.0->peft) (2024.7.4)\r\n",
      "Requirement already satisfied: mpmath<1.4,>=1.1.0 in /opt/conda/lib/python3.10/site-packages (from sympy->torch>=1.13.0->peft) (1.3.0)\r\n",
      "Downloading peft-0.11.1-py3-none-any.whl (251 kB)\r\n",
      "\u001b[2K   \u001b[90m━━━━━━━━━━━━━━━━━━━━━━━━━━━━━━━━━━━━━━━━\u001b[0m \u001b[32m251.6/251.6 kB\u001b[0m \u001b[31m7.4 MB/s\u001b[0m eta \u001b[36m0:00:00\u001b[0m\r\n",
      "\u001b[?25hInstalling collected packages: peft\r\n",
      "Successfully installed peft-0.11.1\r\n"
     ]
    }
   ],
   "source": [
    "!pip install transformers accelerate bitsandbytes>0.37.0\n",
    "!pip install peft"
   ]
  },
  {
   "cell_type": "code",
   "execution_count": 2,
   "id": "14ef0810",
   "metadata": {
    "execution": {
     "iopub.execute_input": "2024-07-21T19:17:46.569936Z",
     "iopub.status.busy": "2024-07-21T19:17:46.569652Z",
     "iopub.status.idle": "2024-07-21T19:17:47.739976Z",
     "shell.execute_reply": "2024-07-21T19:17:47.739078Z"
    },
    "papermill": {
     "duration": 1.179609,
     "end_time": "2024-07-21T19:17:47.742010",
     "exception": false,
     "start_time": "2024-07-21T19:17:46.562401",
     "status": "completed"
    },
    "tags": []
   },
   "outputs": [
    {
     "name": "stdout",
     "output_type": "stream",
     "text": [
      "The token has not been saved to the git credentials helper. Pass `add_to_git_credential=True` in this function directly or `--add-to-git-credential` if using via `huggingface-cli` if you want to set the git credential as well.\n",
      "Token is valid (permission: read).\n",
      "Your token has been saved to /root/.cache/huggingface/token\n",
      "Login successful\n",
      "The token has not been saved to the git credentials helper. Pass `add_to_git_credential=True` in this function directly or `--add-to-git-credential` if using via `huggingface-cli` if you want to set the git credential as well.\n",
      "Token is valid (permission: write).\n",
      "Your token has been saved to /root/.cache/huggingface/token\n",
      "Login successful\n"
     ]
    }
   ],
   "source": [
    "from kaggle_secrets import UserSecretsClient\n",
    "user_secrets = UserSecretsClient()\n",
    "from huggingface_hub import login\n",
    "login(token=user_secrets.get_secret(\"HF_READ\"))\n",
    "login(token=user_secrets.get_secret(\"HF_WRITE\"))"
   ]
  },
  {
   "cell_type": "markdown",
   "id": "11a1934b",
   "metadata": {
    "papermill": {
     "duration": 0.006097,
     "end_time": "2024-07-21T19:17:47.754584",
     "exception": false,
     "start_time": "2024-07-21T19:17:47.748487",
     "status": "completed"
    },
    "tags": []
   },
   "source": [
    "# Import Libraries"
   ]
  },
  {
   "cell_type": "code",
   "execution_count": 3,
   "id": "cb09c1fc",
   "metadata": {
    "execution": {
     "iopub.execute_input": "2024-07-21T19:17:47.768260Z",
     "iopub.status.busy": "2024-07-21T19:17:47.767981Z",
     "iopub.status.idle": "2024-07-21T19:17:53.500264Z",
     "shell.execute_reply": "2024-07-21T19:17:53.499505Z"
    },
    "papermill": {
     "duration": 5.741307,
     "end_time": "2024-07-21T19:17:53.502172",
     "exception": false,
     "start_time": "2024-07-21T19:17:47.760865",
     "status": "completed"
    },
    "tags": []
   },
   "outputs": [
    {
     "data": {
      "application/vnd.jupyter.widget-view+json": {
       "model_id": "bb3a88f3ab24457681ba85b0c424cb5e",
       "version_major": 2,
       "version_minor": 0
      },
      "text/plain": [
       "Downloading readme:   0%|          | 0.00/10.0k [00:00<?, ?B/s]"
      ]
     },
     "metadata": {},
     "output_type": "display_data"
    },
    {
     "data": {
      "application/vnd.jupyter.widget-view+json": {
       "model_id": "89c42a30789d4d1ca908ba8e69022fbb",
       "version_major": 2,
       "version_minor": 0
      },
      "text/plain": [
       "Downloading data:   0%|          | 0.00/96.1M [00:00<?, ?B/s]"
      ]
     },
     "metadata": {},
     "output_type": "display_data"
    },
    {
     "data": {
      "application/vnd.jupyter.widget-view+json": {
       "model_id": "bc0040d7974541679efde58af7776685",
       "version_major": 2,
       "version_minor": 0
      },
      "text/plain": [
       "Generating train split:   0%|          | 0/60000 [00:00<?, ? examples/s]"
      ]
     },
     "metadata": {},
     "output_type": "display_data"
    }
   ],
   "source": [
    "from datasets import load_dataset\n",
    "datasets = load_dataset(\"Salesforce/xlam-function-calling-60k\")"
   ]
  },
  {
   "cell_type": "code",
   "execution_count": 4,
   "id": "828a95d9",
   "metadata": {
    "execution": {
     "iopub.execute_input": "2024-07-21T19:17:53.517156Z",
     "iopub.status.busy": "2024-07-21T19:17:53.516873Z",
     "iopub.status.idle": "2024-07-21T19:17:53.553545Z",
     "shell.execute_reply": "2024-07-21T19:17:53.552847Z"
    },
    "papermill": {
     "duration": 0.046464,
     "end_time": "2024-07-21T19:17:53.555690",
     "exception": false,
     "start_time": "2024-07-21T19:17:53.509226",
     "status": "completed"
    },
    "tags": []
   },
   "outputs": [],
   "source": [
    "raw_dataset = datasets['train'].train_test_split(test_size=0.1,seed=1)"
   ]
  },
  {
   "cell_type": "code",
   "execution_count": 5,
   "id": "52e5392c",
   "metadata": {
    "execution": {
     "iopub.execute_input": "2024-07-21T19:17:53.570389Z",
     "iopub.status.busy": "2024-07-21T19:17:53.569922Z",
     "iopub.status.idle": "2024-07-21T19:17:53.588467Z",
     "shell.execute_reply": "2024-07-21T19:17:53.587797Z"
    },
    "papermill": {
     "duration": 0.027876,
     "end_time": "2024-07-21T19:17:53.590340",
     "exception": false,
     "start_time": "2024-07-21T19:17:53.562464",
     "status": "completed"
    },
    "tags": []
   },
   "outputs": [],
   "source": [
    "raw_dataset['train'] = raw_dataset['train'].select([*range(2000)])\n",
    "raw_dataset['test'] = raw_dataset['train'].select([*range(100)])"
   ]
  },
  {
   "cell_type": "markdown",
   "id": "2d0cd120",
   "metadata": {
    "papermill": {
     "duration": 0.006451,
     "end_time": "2024-07-21T19:17:53.603939",
     "exception": false,
     "start_time": "2024-07-21T19:17:53.597488",
     "status": "completed"
    },
    "tags": []
   },
   "source": [
    "# Retrieve Model"
   ]
  },
  {
   "cell_type": "code",
   "execution_count": 6,
   "id": "61329cd8",
   "metadata": {
    "execution": {
     "iopub.execute_input": "2024-07-21T19:17:53.618832Z",
     "iopub.status.busy": "2024-07-21T19:17:53.618020Z",
     "iopub.status.idle": "2024-07-21T19:17:59.168315Z",
     "shell.execute_reply": "2024-07-21T19:17:59.167535Z"
    },
    "papermill": {
     "duration": 5.560134,
     "end_time": "2024-07-21T19:17:59.170716",
     "exception": false,
     "start_time": "2024-07-21T19:17:53.610582",
     "status": "completed"
    },
    "tags": []
   },
   "outputs": [],
   "source": [
    "from peft import AutoPeftModelForCausalLM\n",
    "from transformers import AutoTokenizer,AutoModelForCausalLM\n",
    "from peft import PeftModel, PeftConfig, get_peft_model\n",
    "import torch"
   ]
  },
  {
   "cell_type": "code",
   "execution_count": null,
   "id": "333c39f3",
   "metadata": {
    "papermill": {
     "duration": 0.00659,
     "end_time": "2024-07-21T19:17:59.184685",
     "exception": false,
     "start_time": "2024-07-21T19:17:59.178095",
     "status": "completed"
    },
    "tags": []
   },
   "outputs": [],
   "source": []
  },
  {
   "cell_type": "code",
   "execution_count": 7,
   "id": "3f8b4b8c",
   "metadata": {
    "execution": {
     "iopub.execute_input": "2024-07-21T19:17:59.199997Z",
     "iopub.status.busy": "2024-07-21T19:17:59.199408Z",
     "iopub.status.idle": "2024-07-21T19:18:29.791022Z",
     "shell.execute_reply": "2024-07-21T19:18:29.789776Z"
    },
    "papermill": {
     "duration": 30.602029,
     "end_time": "2024-07-21T19:18:29.793424",
     "exception": false,
     "start_time": "2024-07-21T19:17:59.191395",
     "status": "completed"
    },
    "tags": []
   },
   "outputs": [
    {
     "data": {
      "application/vnd.jupyter.widget-view+json": {
       "model_id": "c07bf1ecf1fb444cb9b7cc082acd2293",
       "version_major": 2,
       "version_minor": 0
      },
      "text/plain": [
       "config.json:   0%|          | 0.00/1.21k [00:00<?, ?B/s]"
      ]
     },
     "metadata": {},
     "output_type": "display_data"
    },
    {
     "name": "stderr",
     "output_type": "stream",
     "text": [
      "Unused kwargs: ['_load_in_4bit', '_load_in_8bit', 'quant_method']. These kwargs are not used in <class 'transformers.utils.quantization_config.BitsAndBytesConfig'>.\n"
     ]
    },
    {
     "data": {
      "application/vnd.jupyter.widget-view+json": {
       "model_id": "e4cd32a02e5f4f0591f5ec58b1bd8481",
       "version_major": 2,
       "version_minor": 0
      },
      "text/plain": [
       "model.safetensors.index.json:   0%|          | 0.00/132k [00:00<?, ?B/s]"
      ]
     },
     "metadata": {},
     "output_type": "display_data"
    },
    {
     "data": {
      "application/vnd.jupyter.widget-view+json": {
       "model_id": "fa3891b8b7d14fed8828c682d02d4728",
       "version_major": 2,
       "version_minor": 0
      },
      "text/plain": [
       "Downloading shards:   0%|          | 0/2 [00:00<?, ?it/s]"
      ]
     },
     "metadata": {},
     "output_type": "display_data"
    },
    {
     "data": {
      "application/vnd.jupyter.widget-view+json": {
       "model_id": "f3d2ea1369c347c8b281bef41998928c",
       "version_major": 2,
       "version_minor": 0
      },
      "text/plain": [
       "model-00001-of-00002.safetensors:   0%|          | 0.00/4.65G [00:00<?, ?B/s]"
      ]
     },
     "metadata": {},
     "output_type": "display_data"
    },
    {
     "data": {
      "application/vnd.jupyter.widget-view+json": {
       "model_id": "18520f3101f642f19c72a2f0b838efd5",
       "version_major": 2,
       "version_minor": 0
      },
      "text/plain": [
       "model-00002-of-00002.safetensors:   0%|          | 0.00/1.05G [00:00<?, ?B/s]"
      ]
     },
     "metadata": {},
     "output_type": "display_data"
    },
    {
     "data": {
      "application/vnd.jupyter.widget-view+json": {
       "model_id": "599cf1e955714566bf035d2d74f66a82",
       "version_major": 2,
       "version_minor": 0
      },
      "text/plain": [
       "Loading checkpoint shards:   0%|          | 0/2 [00:00<?, ?it/s]"
      ]
     },
     "metadata": {},
     "output_type": "display_data"
    },
    {
     "data": {
      "application/vnd.jupyter.widget-view+json": {
       "model_id": "a2941196e61c430aae594450a2ae7a9c",
       "version_major": 2,
       "version_minor": 0
      },
      "text/plain": [
       "generation_config.json:   0%|          | 0.00/194 [00:00<?, ?B/s]"
      ]
     },
     "metadata": {},
     "output_type": "display_data"
    },
    {
     "data": {
      "application/vnd.jupyter.widget-view+json": {
       "model_id": "e29b6455d86c4fa3b2423306c0a12d2a",
       "version_major": 2,
       "version_minor": 0
      },
      "text/plain": [
       "adapter_config.json:   0%|          | 0.00/659 [00:00<?, ?B/s]"
      ]
     },
     "metadata": {},
     "output_type": "display_data"
    },
    {
     "data": {
      "application/vnd.jupyter.widget-view+json": {
       "model_id": "900387af4c4846a192b4ca0ae8e22cb4",
       "version_major": 2,
       "version_minor": 0
      },
      "text/plain": [
       "adapter_model.safetensors:   0%|          | 0.00/13.6M [00:00<?, ?B/s]"
      ]
     },
     "metadata": {},
     "output_type": "display_data"
    },
    {
     "data": {
      "application/vnd.jupyter.widget-view+json": {
       "model_id": "4144a975771b4a40aa717234c5fec5f1",
       "version_major": 2,
       "version_minor": 0
      },
      "text/plain": [
       "tokenizer_config.json:   0%|          | 0.00/51.0k [00:00<?, ?B/s]"
      ]
     },
     "metadata": {},
     "output_type": "display_data"
    },
    {
     "data": {
      "application/vnd.jupyter.widget-view+json": {
       "model_id": "7be85a9b48604ba38d05a8d41490cffe",
       "version_major": 2,
       "version_minor": 0
      },
      "text/plain": [
       "tokenizer.json:   0%|          | 0.00/9.09M [00:00<?, ?B/s]"
      ]
     },
     "metadata": {},
     "output_type": "display_data"
    },
    {
     "data": {
      "application/vnd.jupyter.widget-view+json": {
       "model_id": "67b50ccc57b444cbac7dafb21481ba12",
       "version_major": 2,
       "version_minor": 0
      },
      "text/plain": [
       "special_tokens_map.json:   0%|          | 0.00/73.0 [00:00<?, ?B/s]"
      ]
     },
     "metadata": {},
     "output_type": "display_data"
    },
    {
     "name": "stderr",
     "output_type": "stream",
     "text": [
      "Special tokens have been added in the vocabulary, make sure the associated word embeddings are fine-tuned or trained.\n"
     ]
    }
   ],
   "source": [
    "base_model = AutoModelForCausalLM.from_pretrained(\"SwastikM/Meta-Llama-3-8B-Instruct_bitsandbytes_4bit\",device_map=\"auto\")\n",
    "model = PeftModel.from_pretrained(base_model, \"SwastikM/Meta-Llama3-8B-Chat-Adapter\")\n",
    "tokenizer = AutoTokenizer.from_pretrained(\"meta-llama/Meta-Llama-3-8B-Instruct\")"
   ]
  },
  {
   "cell_type": "code",
   "execution_count": 8,
   "id": "f7018efa",
   "metadata": {
    "execution": {
     "iopub.execute_input": "2024-07-21T19:18:29.816966Z",
     "iopub.status.busy": "2024-07-21T19:18:29.816628Z",
     "iopub.status.idle": "2024-07-21T19:18:29.851303Z",
     "shell.execute_reply": "2024-07-21T19:18:29.850242Z"
    },
    "papermill": {
     "duration": 0.04893,
     "end_time": "2024-07-21T19:18:29.853528",
     "exception": false,
     "start_time": "2024-07-21T19:18:29.804598",
     "status": "completed"
    },
    "tags": []
   },
   "outputs": [
    {
     "data": {
      "text/plain": [
       "PeftModelForCausalLM(\n",
       "  (base_model): LoraModel(\n",
       "    (model): LlamaForCausalLM(\n",
       "      (model): LlamaModel(\n",
       "        (embed_tokens): Embedding(128256, 4096)\n",
       "        (layers): ModuleList(\n",
       "          (0-31): 32 x LlamaDecoderLayer(\n",
       "            (self_attn): LlamaSdpaAttention(\n",
       "              (q_proj): lora.Linear4bit(\n",
       "                (base_layer): Linear4bit(in_features=4096, out_features=4096, bias=False)\n",
       "                (lora_dropout): ModuleDict(\n",
       "                  (default): Dropout(p=0.1, inplace=False)\n",
       "                )\n",
       "                (lora_A): ModuleDict(\n",
       "                  (default): Linear(in_features=4096, out_features=8, bias=False)\n",
       "                )\n",
       "                (lora_B): ModuleDict(\n",
       "                  (default): Linear(in_features=8, out_features=4096, bias=False)\n",
       "                )\n",
       "                (lora_embedding_A): ParameterDict()\n",
       "                (lora_embedding_B): ParameterDict()\n",
       "              )\n",
       "              (k_proj): Linear4bit(in_features=4096, out_features=1024, bias=False)\n",
       "              (v_proj): lora.Linear4bit(\n",
       "                (base_layer): Linear4bit(in_features=4096, out_features=1024, bias=False)\n",
       "                (lora_dropout): ModuleDict(\n",
       "                  (default): Dropout(p=0.1, inplace=False)\n",
       "                )\n",
       "                (lora_A): ModuleDict(\n",
       "                  (default): Linear(in_features=4096, out_features=8, bias=False)\n",
       "                )\n",
       "                (lora_B): ModuleDict(\n",
       "                  (default): Linear(in_features=8, out_features=1024, bias=False)\n",
       "                )\n",
       "                (lora_embedding_A): ParameterDict()\n",
       "                (lora_embedding_B): ParameterDict()\n",
       "              )\n",
       "              (o_proj): Linear4bit(in_features=4096, out_features=4096, bias=False)\n",
       "              (rotary_emb): LlamaRotaryEmbedding()\n",
       "            )\n",
       "            (mlp): LlamaMLP(\n",
       "              (gate_proj): Linear4bit(in_features=4096, out_features=14336, bias=False)\n",
       "              (up_proj): Linear4bit(in_features=4096, out_features=14336, bias=False)\n",
       "              (down_proj): Linear4bit(in_features=14336, out_features=4096, bias=False)\n",
       "              (act_fn): SiLU()\n",
       "            )\n",
       "            (input_layernorm): LlamaRMSNorm()\n",
       "            (post_attention_layernorm): LlamaRMSNorm()\n",
       "          )\n",
       "        )\n",
       "        (norm): LlamaRMSNorm()\n",
       "      )\n",
       "      (lm_head): Linear(in_features=4096, out_features=128256, bias=False)\n",
       "    )\n",
       "  )\n",
       ")"
      ]
     },
     "execution_count": 8,
     "metadata": {},
     "output_type": "execute_result"
    }
   ],
   "source": [
    "model = model.to(\"cuda\")\n",
    "model.eval()"
   ]
  },
  {
   "cell_type": "code",
   "execution_count": 9,
   "id": "5cf6acfc",
   "metadata": {
    "execution": {
     "iopub.execute_input": "2024-07-21T19:18:29.876746Z",
     "iopub.status.busy": "2024-07-21T19:18:29.876018Z",
     "iopub.status.idle": "2024-07-21T19:18:29.883777Z",
     "shell.execute_reply": "2024-07-21T19:18:29.882809Z"
    },
    "papermill": {
     "duration": 0.021472,
     "end_time": "2024-07-21T19:18:29.885734",
     "exception": false,
     "start_time": "2024-07-21T19:18:29.864262",
     "status": "completed"
    },
    "tags": []
   },
   "outputs": [],
   "source": [
    "x1 = {\"role\": \"system\", \"content\": \"\"\"You are a APIGen Function Calling Tool. You will br provided with a user query and associated tools for answering the query.\n",
    "    query (string): The query or problem statement.\n",
    "    tools (array): An array of available tools that can be used to solve the query.\n",
    "    Each tool is represented as an object with the following properties:\n",
    "        name (string): The name of the tool.\n",
    "        description (string): A brief description of what the tool does.\n",
    "        parameters (object): An object representing the parameters required by the tool.\n",
    "            Each parameter is represented as a key-value pair, where the key is the parameter name and the value is an object with the following properties:\n",
    "                type (string): The data type of the parameter (e.g., \"int\", \"float\", \"list\").\n",
    "                description (string): A brief description of the parameter.\n",
    "                required (boolean): Indicates whether the parameter is required or optional.\n",
    "    You will provide the Answer array.\n",
    "        Answers array provides the specific tool and arguments used to generate each answer.\"\"\"}\n",
    "x2 = {\"role\": \"user\", \"content\": None}\n",
    "x3 = {\"role\": \"assistant\", \"content\": None}\n",
    "user_template = 'Query: {Q} Tools: {T}'\n",
    "response_template = '{A}'\n",
    "Q = \"Where can I find live giveaways for beta access and games?\"\n",
    "T = \"\"\"[{\"name\": \"live_giveaways_by_type\", \"description\": \"Retrieve live giveaways from the GamerPower API based on the specified type.\", \"parameters\": {\"type\": {\"description\": \"The type of giveaways to retrieve (e.g., game, loot, beta).\", \"type\": \"str\", \"default\": \"game\"}}}]\"\"\""
   ]
  },
  {
   "cell_type": "code",
   "execution_count": 10,
   "id": "6ab1b04d",
   "metadata": {
    "execution": {
     "iopub.execute_input": "2024-07-21T19:18:29.906737Z",
     "iopub.status.busy": "2024-07-21T19:18:29.906372Z",
     "iopub.status.idle": "2024-07-21T19:18:29.974091Z",
     "shell.execute_reply": "2024-07-21T19:18:29.973158Z"
    },
    "papermill": {
     "duration": 0.081703,
     "end_time": "2024-07-21T19:18:29.976682",
     "exception": false,
     "start_time": "2024-07-21T19:18:29.894979",
     "status": "completed"
    },
    "tags": []
   },
   "outputs": [],
   "source": [
    "x2['content'] = f'{user_template.format(Q=Q,T=T)}'\n",
    "prompts = [x1,x2]\n",
    "input_ids = tokenizer.apply_chat_template(\n",
    "    prompts,\n",
    "    add_generation_prompt=True,\n",
    "    return_tensors=\"pt\"\n",
    ").to(model.device)\n",
    "\n",
    "terminators = [\n",
    "    tokenizer.eos_token_id,\n",
    "    tokenizer.convert_tokens_to_ids(\"<|eot_id|>\")\n",
    "]"
   ]
  },
  {
   "cell_type": "code",
   "execution_count": 11,
   "id": "3260f309",
   "metadata": {
    "execution": {
     "iopub.execute_input": "2024-07-21T19:18:30.000807Z",
     "iopub.status.busy": "2024-07-21T19:18:29.999964Z",
     "iopub.status.idle": "2024-07-21T19:18:49.600821Z",
     "shell.execute_reply": "2024-07-21T19:18:49.599978Z"
    },
    "papermill": {
     "duration": 19.615761,
     "end_time": "2024-07-21T19:18:49.603635",
     "exception": false,
     "start_time": "2024-07-21T19:18:29.987874",
     "status": "completed"
    },
    "tags": []
   },
   "outputs": [
    {
     "name": "stderr",
     "output_type": "stream",
     "text": [
      "The attention mask and the pad token id were not set. As a consequence, you may observe unexpected behavior. Please pass your input's `attention_mask` to obtain reliable results.\n",
      "Setting `pad_token_id` to `eos_token_id`:128009 for open-end generation.\n",
      "The attention mask is not set and cannot be inferred from input because pad token is same as eos token.As a consequence, you may observe unexpected behavior. Please pass your input's `attention_mask` to obtain reliable results.\n",
      "2024-07-21 19:18:33.906664: E external/local_xla/xla/stream_executor/cuda/cuda_dnn.cc:9261] Unable to register cuDNN factory: Attempting to register factory for plugin cuDNN when one has already been registered\n",
      "2024-07-21 19:18:33.906791: E external/local_xla/xla/stream_executor/cuda/cuda_fft.cc:607] Unable to register cuFFT factory: Attempting to register factory for plugin cuFFT when one has already been registered\n",
      "2024-07-21 19:18:34.036417: E external/local_xla/xla/stream_executor/cuda/cuda_blas.cc:1515] Unable to register cuBLAS factory: Attempting to register factory for plugin cuBLAS when one has already been registered\n"
     ]
    }
   ],
   "source": [
    "outputs = model.generate(\n",
    "    input_ids,\n",
    "    max_new_tokens=256,\n",
    "    eos_token_id=terminators\n",
    ")"
   ]
  },
  {
   "cell_type": "code",
   "execution_count": 12,
   "id": "90079ef0",
   "metadata": {
    "execution": {
     "iopub.execute_input": "2024-07-21T19:18:49.624615Z",
     "iopub.status.busy": "2024-07-21T19:18:49.623749Z",
     "iopub.status.idle": "2024-07-21T19:18:49.629596Z",
     "shell.execute_reply": "2024-07-21T19:18:49.628706Z"
    },
    "papermill": {
     "duration": 0.018003,
     "end_time": "2024-07-21T19:18:49.631497",
     "exception": false,
     "start_time": "2024-07-21T19:18:49.613494",
     "status": "completed"
    },
    "tags": []
   },
   "outputs": [
    {
     "name": "stdout",
     "output_type": "stream",
     "text": [
      "[{\"name\": \"live_giveaways_by_type\", \"arguments\": {\"type\": \"beta\"}}, {\"name\": \"live_giveaways_by_type\", \"arguments\": {\"type\": \"game\"}}]\n"
     ]
    }
   ],
   "source": [
    "response = outputs[0][input_ids.shape[-1]:]\n",
    "print(tokenizer.decode(response, skip_special_tokens=True))"
   ]
  },
  {
   "cell_type": "code",
   "execution_count": 13,
   "id": "1f66f880",
   "metadata": {
    "execution": {
     "iopub.execute_input": "2024-07-21T19:18:49.651310Z",
     "iopub.status.busy": "2024-07-21T19:18:49.651033Z",
     "iopub.status.idle": "2024-07-21T19:18:49.656611Z",
     "shell.execute_reply": "2024-07-21T19:18:49.655778Z"
    },
    "papermill": {
     "duration": 0.017795,
     "end_time": "2024-07-21T19:18:49.658575",
     "exception": false,
     "start_time": "2024-07-21T19:18:49.640780",
     "status": "completed"
    },
    "tags": []
   },
   "outputs": [
    {
     "data": {
      "text/plain": [
       "Dataset({\n",
       "    features: ['query', 'id', 'answers', 'tools'],\n",
       "    num_rows: 100\n",
       "})"
      ]
     },
     "execution_count": 13,
     "metadata": {},
     "output_type": "execute_result"
    }
   ],
   "source": [
    "raw_dataset['test']"
   ]
  },
  {
   "cell_type": "code",
   "execution_count": 14,
   "id": "2d278f84",
   "metadata": {
    "execution": {
     "iopub.execute_input": "2024-07-21T19:18:49.678982Z",
     "iopub.status.busy": "2024-07-21T19:18:49.678695Z",
     "iopub.status.idle": "2024-07-21T19:30:09.774709Z",
     "shell.execute_reply": "2024-07-21T19:30:09.773732Z"
    },
    "papermill": {
     "duration": 680.147428,
     "end_time": "2024-07-21T19:30:09.815626",
     "exception": false,
     "start_time": "2024-07-21T19:18:49.668198",
     "status": "completed"
    },
    "tags": []
   },
   "outputs": [
    {
     "name": "stderr",
     "output_type": "stream",
     "text": [
      "The attention mask and the pad token id were not set. As a consequence, you may observe unexpected behavior. Please pass your input's `attention_mask` to obtain reliable results.\n",
      "Setting `pad_token_id` to `eos_token_id`:128009 for open-end generation.\n",
      "The attention mask and the pad token id were not set. As a consequence, you may observe unexpected behavior. Please pass your input's `attention_mask` to obtain reliable results.\n",
      "Setting `pad_token_id` to `eos_token_id`:128009 for open-end generation.\n"
     ]
    },
    {
     "name": "stdout",
     "output_type": "stream",
     "text": [
      "Query : Get a random Counter-Strike skin from the 'Sniper' class and search for E-Sports players, teams, and tournaments related to 'Counter-Strike: Global Offensive'. \n",
      "\n",
      "Answer : [{\"name\": \"random_skin_from_class\", \"arguments\": {\"class_name\": \"Sniper\"}}, {\"name\": \"search\", \"arguments\": {\"term\": \"Counter-Strike: Global Offensive\"}}] \n",
      "\n",
      "Output : [{\"name\": \"random_skin_from_class\", \"arguments\": {\"class_name\": \"Sniper\"}}, {\"name\": \"search\", \"arguments\": {\"term\": \"Counter-Strike: Global Offensive\"}}]\n",
      "==========================================================================\n"
     ]
    },
    {
     "name": "stderr",
     "output_type": "stream",
     "text": [
      "The attention mask and the pad token id were not set. As a consequence, you may observe unexpected behavior. Please pass your input's `attention_mask` to obtain reliable results.\n",
      "Setting `pad_token_id` to `eos_token_id`:128009 for open-end generation.\n"
     ]
    },
    {
     "name": "stdout",
     "output_type": "stream",
     "text": [
      "Query : Search for news on the financial success of recent blockbuster movies with a limit of 7 and an offset of 30. \n",
      "\n",
      "Answer : [{\"name\": \"basic_search\", \"arguments\": {\"q\": \"blockbuster movies financial success\", \"limit\": 7, \"offset\": 30}}] \n",
      "\n",
      "Output : [{\"name\": \"basic_search\", \"arguments\": {\"q\": \"financial success recent blockbuster movies\", \"limit\": 7, \"offset\": 30}}]\n",
      "==========================================================================\n"
     ]
    },
    {
     "name": "stderr",
     "output_type": "stream",
     "text": [
      "The attention mask and the pad token id were not set. As a consequence, you may observe unexpected behavior. Please pass your input's `attention_mask` to obtain reliable results.\n",
      "Setting `pad_token_id` to `eos_token_id`:128009 for open-end generation.\n"
     ]
    },
    {
     "name": "stdout",
     "output_type": "stream",
     "text": [
      "Query : What are the playlists that discovered Adele? And, could you get the top 3 summer songs of all time? \n",
      "\n",
      "Answer : [{\"name\": \"artist_discovered_on\", \"arguments\": {\"is_id\": \"Adele\"}}, {\"name\": \"greatest_of_all_time_songs_of_the_summer\", \"arguments\": {\"range\": \"1-3\"}}] \n",
      "\n",
      "Output : [{\"name\": \"artist_discovered_on\", \"arguments\": {\"is_id\": \"Adele\"}}, {\"name\": \"greatest_of_all_time_songs_of_the_summer\", \"arguments\": {\"range\": \"1-3\"}}]\n",
      "==========================================================================\n"
     ]
    },
    {
     "name": "stderr",
     "output_type": "stream",
     "text": [
      "The attention mask and the pad token id were not set. As a consequence, you may observe unexpected behavior. Please pass your input's `attention_mask` to obtain reliable results.\n",
      "Setting `pad_token_id` to `eos_token_id`:128009 for open-end generation.\n"
     ]
    },
    {
     "name": "stdout",
     "output_type": "stream",
     "text": [
      "Query : Could you please fetch the index price kline data for BTC-USD in the linear category with a 1-minute interval for the past day? Also, could you fetch the latest securities report data for a company with the EDINET code '4001'? Lastly, could you calculate the year fraction between '2022-01-01' and '2022-12-31' using the 'ACT/360' day count convention? \n",
      "\n",
      "Answer : [{\"name\": \"get_index_price_kline\", \"arguments\": {\"symbol\": \"BTC-USD\", \"category\": \"linear\", \"interval\": \"1\", \"end\": 1672492800000, \"start\": 1672406400000}}, {\"name\": \"getlatestbyedinetcode\", \"arguments\": {\"edinet_code\": \"4001\"}}, {\"name\": \"year_fractions\", \"arguments\": {\"start_date\": \"2022-01-01\", \"end_date\": \"2022-12-31\", \"dcc_types\": \"ACT/360\"}}] \n",
      "\n",
      "Output : [{\"name\": \"get_index_price_kline\", \"arguments\": {\"symbol\": \"BTC-USD\", \"category\": \"linear\", \"interval\": \"1\", \"end\": 1652544000000, \"start\": 1652112000000}}, {\"name\": \"getlatestbyedinetcode\", \"arguments\": {\"edinet_code\": \"4001\"}}, {\"name\": \"year_fractions\", \"arguments\": {\"start_date\": \"2022-01-01\", \"end_date\": \"2022-12-31\", \"dcc_types\": \"ACT/360\"}}]\n",
      "==========================================================================\n"
     ]
    },
    {
     "name": "stderr",
     "output_type": "stream",
     "text": [
      "The attention mask and the pad token id were not set. As a consequence, you may observe unexpected behavior. Please pass your input's `attention_mask` to obtain reliable results.\n",
      "Setting `pad_token_id` to `eos_token_id`:128009 for open-end generation.\n"
     ]
    },
    {
     "name": "stdout",
     "output_type": "stream",
     "text": [
      "Query : Can you retrieve comprehensive information about the stocks with ticker IDs AAPL, GOOG, and FB from the Bloomberg Finance API? \n",
      "\n",
      "Answer : [{\"name\": \"market_get_full\", \"arguments\": {\"is_id\": \"AAPL,GOOG,FB\"}}] \n",
      "\n",
      "Output : [{\"name\": \"market_get_full\", \"arguments\": {\"is_id\": \"AAPL,GOOG,FB\"}}]\n",
      "==========================================================================\n"
     ]
    },
    {
     "name": "stderr",
     "output_type": "stream",
     "text": [
      "The attention mask and the pad token id were not set. As a consequence, you may observe unexpected behavior. Please pass your input's `attention_mask` to obtain reliable results.\n",
      "Setting `pad_token_id` to `eos_token_id`:128009 for open-end generation.\n"
     ]
    },
    {
     "name": "stdout",
     "output_type": "stream",
     "text": [
      "Query : I'm looking for location suggestions for vineyards in Napa Valley, and I also want to analyze the SEO of my wine blog, www.vinoviews.com. \n",
      "\n",
      "Answer : [{\"name\": \"locationsuggestions\", \"arguments\": {\"location\": \"Napa Valley, CA\"}}, {\"name\": \"domain_seo_analysis\", \"arguments\": {\"domain\": \"www.vinoviews.com\"}}] \n",
      "\n",
      "Output : [{\"name\": \"locationsuggestions\", \"arguments\": {\"location\": \"Napa Valley, CA\"}}, {\"name\": \"domain_seo_analysis\", \"arguments\": {\"domain\": \"www.vinoviews.com\"}}]\n",
      "==========================================================================\n"
     ]
    },
    {
     "name": "stderr",
     "output_type": "stream",
     "text": [
      "The attention mask and the pad token id were not set. As a consequence, you may observe unexpected behavior. Please pass your input's `attention_mask` to obtain reliable results.\n",
      "Setting `pad_token_id` to `eos_token_id`:128009 for open-end generation.\n"
     ]
    },
    {
     "name": "stdout",
     "output_type": "stream",
     "text": [
      "Query : Validate the CPF number '123.456.789-09' and fetch the pluses and minuses of a 2020 Toyota Corolla. \n",
      "\n",
      "Answer : [{\"name\": \"validate_cpf_number\", \"arguments\": {\"n\": \"123.456.789-09\"}}, {\"name\": \"pluses_and_minuses_of_the_car\", \"arguments\": {\"year\": \"2020\", \"make\": \"Toyota\", \"model\": \"Corolla\"}}] \n",
      "\n",
      "Output : [{\"name\": \"validate_cpf_number\", \"arguments\": {\"n\": \"123.456.789-09\"}}, {\"name\": \"pluses_and_minuses_of_the_car\", \"arguments\": {\"year\": \"2020\", \"make\": \"Toyota\", \"model\": \"Corolla\"}}]\n",
      "==========================================================================\n"
     ]
    },
    {
     "name": "stderr",
     "output_type": "stream",
     "text": [
      "The attention mask and the pad token id were not set. As a consequence, you may observe unexpected behavior. Please pass your input's `attention_mask` to obtain reliable results.\n",
      "Setting `pad_token_id` to `eos_token_id`:128009 for open-end generation.\n"
     ]
    },
    {
     "name": "stdout",
     "output_type": "stream",
     "text": [
      "Query : Can you generate a street view image for CNPJ 12345678901234 with a field of view of 90 degrees and a height of 800 pixels? Also, validate the CPF number 123.456.789-01. \n",
      "\n",
      "Answer : [{\"name\": \"gera_vis_o_da_rua\", \"arguments\": {\"cnpj\": \"12345678901234\", \"fov\": 90, \"height\": 800}}, {\"name\": \"validate_cpf_number\", \"arguments\": {\"n\": \"123.456.789-01\"}}] \n",
      "\n",
      "Output : [{\"name\": \"gera_vis_o_da_rua\", \"arguments\": {\"cnpj\": \"12345678901234\", \"fov\": 90, \"height\": 800}}, {\"name\": \"validate_cpf_number\", \"arguments\": {\"n\": \"123.456.789-01\"}}]\n",
      "==========================================================================\n"
     ]
    },
    {
     "name": "stderr",
     "output_type": "stream",
     "text": [
      "The attention mask and the pad token id were not set. As a consequence, you may observe unexpected behavior. Please pass your input's `attention_mask` to obtain reliable results.\n",
      "Setting `pad_token_id` to `eos_token_id`:128009 for open-end generation.\n"
     ]
    },
    {
     "name": "stdout",
     "output_type": "stream",
     "text": [
      "Query : What is the count of days in the current Hebrew year from today? Also, fetch the public holidays for the United States in 2023. Lastly, check the current status of the flag with code 'US'. \n",
      "\n",
      "Answer : [{\"name\": \"count_of_days\", \"arguments\": {\"datestring\": \"today\"}}, {\"name\": \"public_holidays\", \"arguments\": {\"countrycode\": \"US\", \"year\": \"2023\"}}, {\"name\": \"get_current_status_for_given_flag\", \"arguments\": {\"code\": \"US\"}}] \n",
      "\n",
      "Output : [{\"name\": \"count_of_days\", \"arguments\": {\"datestring\": \"\"}}, {\"name\": \"public_holidays\", \"arguments\": {\"countrycode\": \"US\", \"year\": \"2023\"}}, {\"name\": \"get_current_status_for_given_flag\", \"arguments\": {\"code\": \"US\"}}]\n",
      "==========================================================================\n"
     ]
    },
    {
     "name": "stderr",
     "output_type": "stream",
     "text": [
      "The attention mask and the pad token id were not set. As a consequence, you may observe unexpected behavior. Please pass your input's `attention_mask` to obtain reliable results.\n",
      "Setting `pad_token_id` to `eos_token_id`:128009 for open-end generation.\n"
     ]
    },
    {
     "name": "stdout",
     "output_type": "stream",
     "text": [
      "Query : What's the box office info for the movie 'tt0080684'? Also, get me some health news from the UK. \n",
      "\n",
      "Answer : [{\"name\": \"title_v2_get_business\", \"arguments\": {\"tconst\": \"tt0080684\"}}, {\"name\": \"health\", \"arguments\": {\"lr\": \"en-GB\"}}] \n",
      "\n",
      "Output : [{\"name\": \"title_v2_get_business\", \"arguments\": {\"tconst\": \"tt0080684\"}}, {\"name\": \"health\", \"arguments\": {\"lr\": \"en-UK\"}}]\n",
      "==========================================================================\n"
     ]
    },
    {
     "name": "stderr",
     "output_type": "stream",
     "text": [
      "The attention mask and the pad token id were not set. As a consequence, you may observe unexpected behavior. Please pass your input's `attention_mask` to obtain reliable results.\n",
      "Setting `pad_token_id` to `eos_token_id`:128009 for open-end generation.\n"
     ]
    },
    {
     "name": "stdout",
     "output_type": "stream",
     "text": [
      "Query : Determine the electric field at 5 meters from a 3 Coulomb charge, and then at 15 meters from a 7 Coulomb charge. \n",
      "\n",
      "Answer : [{\"name\": \"calculate_electric_field\", \"arguments\": {\"charge\": 3, \"distance\": 5}}, {\"name\": \"calculate_electric_field\", \"arguments\": {\"charge\": 7, \"distance\": 15}}] \n",
      "\n",
      "Output : [{\"name\": \"calculate_electric_field\", \"arguments\": {\"charge\": 3, \"distance\": 5}}, {\"name\": \"calculate_electric_field\", \"arguments\": {\"charge\": 7, \"distance\": 15}}]\n",
      "==========================================================================\n"
     ]
    },
    {
     "name": "stderr",
     "output_type": "stream",
     "text": [
      "The attention mask and the pad token id were not set. As a consequence, you may observe unexpected behavior. Please pass your input's `attention_mask` to obtain reliable results.\n",
      "Setting `pad_token_id` to `eos_token_id`:128009 for open-end generation.\n"
     ]
    },
    {
     "name": "stdout",
     "output_type": "stream",
     "text": [
      "Query : Fetch the second page of singles for the artist with the ID '111222333' from Spotify and list the first 30 followers for the user 'https://soundcloud.com/atlantic-records-uk' from SoundCloud. \n",
      "\n",
      "Answer : [{\"name\": \"artist_singles\", \"arguments\": {\"is_id\": \"111222333\", \"offset\": \"20\", \"limit\": \"20\"}}, {\"name\": \"list_user_followers\", \"arguments\": {\"limit\": 30, \"user\": \"https://soundcloud.com/atlantic-records-uk\"}}] \n",
      "\n",
      "Output : [{\"name\": \"artist_singles\", \"arguments\": {\"is_id\": \"111222333\", \"offset\": \"1\", \"limit\": \"20\"}}, {\"name\": \"list_user_followers\", \"arguments\": {\"limit\": 30, \"user\": \"https://soundcloud.com/atlantic-records-uk\"}}]\n",
      "==========================================================================\n"
     ]
    },
    {
     "name": "stderr",
     "output_type": "stream",
     "text": [
      "The attention mask and the pad token id were not set. As a consequence, you may observe unexpected behavior. Please pass your input's `attention_mask` to obtain reliable results.\n",
      "Setting `pad_token_id` to `eos_token_id`:128009 for open-end generation.\n"
     ]
    },
    {
     "name": "stdout",
     "output_type": "stream",
     "text": [
      "Query : Retrieve location data for 'London' in the UK and 'Paris' in France. \n",
      "\n",
      "Answer : [{\"name\": \"location\", \"arguments\": {\"location_name\": \"London\", \"country_code\": \"GB\"}}, {\"name\": \"location\", \"arguments\": {\"location_name\": \"Paris\", \"country_code\": \"FR\"}}] \n",
      "\n",
      "Output : [{\"name\": \"location\", \"arguments\": {\"location_name\": \"London\", \"country_code\": \"GB\"}}, {\"name\": \"location\", \"arguments\": {\"location_name\": \"Paris\", \"country_code\": \"FR\"}}]\n",
      "==========================================================================\n"
     ]
    },
    {
     "name": "stderr",
     "output_type": "stream",
     "text": [
      "The attention mask and the pad token id were not set. As a consequence, you may observe unexpected behavior. Please pass your input's `attention_mask` to obtain reliable results.\n",
      "Setting `pad_token_id` to `eos_token_id`:128009 for open-end generation.\n"
     ]
    },
    {
     "name": "stdout",
     "output_type": "stream",
     "text": [
      "Query : What is the definite integral of the function 'x**3 - 2*x' from -1 to 2 using trapezoidal integration? Also, is 625 a power of 5 and a perfect square? \n",
      "\n",
      "Answer : [{\"name\": \"trapezoidal_integration\", \"arguments\": {\"func\": \"x**3 - 2*x\", \"a\": -1, \"b\": 2}}, {\"name\": \"is_power\", \"arguments\": {\"num\": 625, \"base\": 5}}, {\"name\": \"is_perfect_square\", \"arguments\": {\"num\": 625}}] \n",
      "\n",
      "Output : [{\"name\": \"trapezoidal_integration\", \"arguments\": {\"func\": \"x**3 - 2*x\", \"a\": -1, \"b\": 2}}, {\"name\": \"is_power\", \"arguments\": {\"num\": 625, \"base\": 5}}, {\"name\": \"is_perfect_square\", \"arguments\": {\"num\": 625}}]\n",
      "==========================================================================\n"
     ]
    },
    {
     "name": "stderr",
     "output_type": "stream",
     "text": [
      "The attention mask and the pad token id were not set. As a consequence, you may observe unexpected behavior. Please pass your input's `attention_mask` to obtain reliable results.\n",
      "Setting `pad_token_id` to `eos_token_id`:128009 for open-end generation.\n"
     ]
    },
    {
     "name": "stdout",
     "output_type": "stream",
     "text": [
      "Query : Could you get the playlists for 'djmixmaster' and also the top views for the year 2020? \n",
      "\n",
      "Answer : [{\"name\": \"get_user_playlists\", \"arguments\": {\"user_id\": \"djmixmaster\"}}, {\"name\": \"youtube_topviews_year\", \"arguments\": {\"year\": \"2020\"}}] \n",
      "\n",
      "Output : [{\"name\": \"get_user_playlists\", \"arguments\": {\"user_id\": \"djmixmaster\"}}, {\"name\": \"youtube_topviews_year\", \"arguments\": {\"year\": \"2020\"}}]\n",
      "==========================================================================\n"
     ]
    },
    {
     "name": "stderr",
     "output_type": "stream",
     "text": [
      "The attention mask and the pad token id were not set. As a consequence, you may observe unexpected behavior. Please pass your input's `attention_mask` to obtain reliable results.\n",
      "Setting `pad_token_id` to `eos_token_id`:128009 for open-end generation.\n"
     ]
    },
    {
     "name": "stdout",
     "output_type": "stream",
     "text": [
      "Query : What is the probability of getting a sum of 10 when rolling two 8-sided dice? \n",
      "\n",
      "Answer : [{\"name\": \"dice_roll_probability\", \"arguments\": {\"target_sum\": 10, \"num_dice\": 2, \"num_faces\": 8}}] \n",
      "\n",
      "Output : [{\"name\": \"dice_roll_probability\", \"arguments\": {\"target_sum\": 10, \"num_dice\": 2, \"num_faces\": 8}}]\n",
      "==========================================================================\n"
     ]
    },
    {
     "name": "stderr",
     "output_type": "stream",
     "text": [
      "The attention mask and the pad token id were not set. As a consequence, you may observe unexpected behavior. Please pass your input's `attention_mask` to obtain reliable results.\n",
      "Setting `pad_token_id` to `eos_token_id`:128009 for open-end generation.\n"
     ]
    },
    {
     "name": "stdout",
     "output_type": "stream",
     "text": [
      "Query : Fetch the misinformation score for @newsoutlet and get the details of Instagram user with ID 2468101214. \n",
      "\n",
      "Answer : [{\"name\": \"get_misinformation_score_account_twitter_account_get\", \"arguments\": {\"twitter_account\": \"@newsoutlet\"}}, {\"name\": \"get_user_info\", \"arguments\": {\"is_id\": 2468101214}}] \n",
      "\n",
      "Output : [{\"name\": \"get_misinformation_score_account_twitter_account_get\", \"arguments\": {\"twitter_account\": \"@newsoutlet\"}}, {\"name\": \"get_user_info\", \"arguments\": {\"is_id\": 2468101214}}]\n",
      "==========================================================================\n"
     ]
    },
    {
     "name": "stderr",
     "output_type": "stream",
     "text": [
      "The attention mask and the pad token id were not set. As a consequence, you may observe unexpected behavior. Please pass your input's `attention_mask` to obtain reliable results.\n",
      "Setting `pad_token_id` to `eos_token_id`:128009 for open-end generation.\n"
     ]
    },
    {
     "name": "stdout",
     "output_type": "stream",
     "text": [
      "Query : Convert the date '12/31/2022' from 'MM/DD/YYYY' format to 'YYYY-MM-DD' format. \n",
      "\n",
      "Answer : [{\"name\": \"format_date\", \"arguments\": {\"date\": \"12/31/2022\", \"input_format\": \"%m/%d/%Y\", \"output_format\": \"%Y-%m-%d\"}}] \n",
      "\n",
      "Output : [{\"name\": \"format_date\", \"arguments\": {\"date\": \"12/31/2022\", \"input_format\": \"%m/%d/%Y\", \"output_format\": \"%Y-%m-%d\"}}]\n",
      "==========================================================================\n"
     ]
    },
    {
     "name": "stderr",
     "output_type": "stream",
     "text": [
      "The attention mask and the pad token id were not set. As a consequence, you may observe unexpected behavior. Please pass your input's `attention_mask` to obtain reliable results.\n",
      "Setting `pad_token_id` to `eos_token_id`:128009 for open-end generation.\n"
     ]
    },
    {
     "name": "stdout",
     "output_type": "stream",
     "text": [
      "Query : Is the Sudoku board with the following values valid? ['53..7....', '6..195...', '.98....6.', '8...6...3', '4..8.3..1', '7...2...6', '.6....28.', '...419..5', '....8..79'] \n",
      "\n",
      "Answer : [{\"name\": \"is_valid_sudoku\", \"arguments\": {\"board\": [[\"5\", \"3\", \".\", \".\", \"7\", \".\", \".\", \".\", \".\"], [\"6\", \".\", \".\", \"1\", \"9\", \"5\", \".\", \".\", \".\"], [\".\", \"9\", \"8\", \".\", \".\", \".\", \".\", \"6\", \".\"], [\"8\", \".\", \".\", \".\", \"6\", \".\", \".\", \"3\", \".\"], [\"4\", \".\", \".\", \"8\", \".\", \"3\", \".\", \".\", \"1\"], [\"7\", \".\", \".\", \".\", \"2\", \".\", \".\", \"6\", \".\"], [\".\", \"6\", \".\", \".\", \".\", \".\", \"2\", \"8\", \".\"], [\".\", \".\", \"4\", \"1\", \"9\", \".\", \".\", \"5\", \".\"], [\".\", \".\", \".\", \".\", \"8\", \".\", \".\", \"7\", \"9\"]]}}] \n",
      "\n",
      "Output : [{\"name\": \"is_valid_sudoku\", \"arguments\": {\"board\": [[\"5\", \"3\", \".\", \".\", \".\", \".\", \".\", \".\", \".\"], [\"6\", \"9\", \"8\", \".\", \".\", \".\", \".\", \".\", \".\"], [\".\", \"8\", \"7\", \".\", \".\", \".\", \".\", \".\", \".\"], [\".\", \".\", \".\", \"4\", \"3\", \".\", \".\", \".\", \".\"], [\".\", \".\", \".\", \".\", \"8\", \".\", \".\", \".\", \".\"], [\".\", \".\", \".\", \".\", \".\", \"3\", \".\", \".\", \".\"], [\".\", \".\", \".\", \".\", \".\", \".\", \"9\", \".\", \".\"], [\".\", \".\", \".\", \".\", \".\", \".\", \".\", \"8\", \".\"], [\".\", \".\", \".\", \".\", \".\", \".\", \".\", \".\", \"9\"]]}}]\n",
      "==========================================================================\n"
     ]
    },
    {
     "name": "stderr",
     "output_type": "stream",
     "text": [
      "The attention mask and the pad token id were not set. As a consequence, you may observe unexpected behavior. Please pass your input's `attention_mask` to obtain reliable results.\n",
      "Setting `pad_token_id` to `eos_token_id`:128009 for open-end generation.\n"
     ]
    },
    {
     "name": "stdout",
     "output_type": "stream",
     "text": [
      "Query : Determine if the word 'level' is a palindrome and check if the words 'star' and 'rats' are anagrams. Additionally, split the list [100, 200, 300, 400, 500, 600, 700] into chunks of size 5. \n",
      "\n",
      "Answer : [{\"name\": \"is_palindrome\", \"arguments\": {\"text\": \"level\"}}, {\"name\": \"is_anagram\", \"arguments\": {\"word1\": \"star\", \"word2\": \"rats\"}}, {\"name\": \"split_list\", \"arguments\": {\"lst\": [100, 200, 300, 400, 500, 600, 700], \"chunk_size\": 5}}] \n",
      "\n",
      "Output : [{\"name\": \"is_palindrome\", \"arguments\": {\"text\": \"level\"}}, {\"name\": \"is_anagram\", \"arguments\": {\"word1\": \"star\", \"word2\": \"rats\"}}, {\"name\": \"split_list\", \"arguments\": {\"lst\": [100, 200, 300, 400, 500, 600, 700], \"chunk_size\": 5}}]\n",
      "==========================================================================\n"
     ]
    },
    {
     "name": "stderr",
     "output_type": "stream",
     "text": [
      "The attention mask and the pad token id were not set. As a consequence, you may observe unexpected behavior. Please pass your input's `attention_mask` to obtain reliable results.\n",
      "Setting `pad_token_id` to `eos_token_id`:128009 for open-end generation.\n"
     ]
    },
    {
     "name": "stdout",
     "output_type": "stream",
     "text": [
      "Query : Get subtitles for the YouTube video with id 'abcd1234' using the default RapidAPI key \n",
      "\n",
      "Answer : [{\"name\": \"video_subtitles\", \"arguments\": {\"video_id\": \"abcd1234\"}}] \n",
      "\n",
      "Output : [{\"name\": \"video_subtitles\", \"arguments\": {\"video_id\": \"abcd1234\"}}]\n",
      "==========================================================================\n"
     ]
    },
    {
     "name": "stderr",
     "output_type": "stream",
     "text": [
      "The attention mask and the pad token id were not set. As a consequence, you may observe unexpected behavior. Please pass your input's `attention_mask` to obtain reliable results.\n",
      "Setting `pad_token_id` to `eos_token_id`:128009 for open-end generation.\n"
     ]
    },
    {
     "name": "stdout",
     "output_type": "stream",
     "text": [
      "Query : Request 2 packs of pasta and 1 bottle of olive oil from the Safeway in Denver, CO. \n",
      "\n",
      "Answer : [{\"name\": \"place_safeway_order\", \"arguments\": {\"location\": \"Denver, CO\", \"items\": [\"pasta\", \"olive oil\"], \"quantity\": [2, 1]}}] \n",
      "\n",
      "Output : [{\"name\": \"place_safeway_order\", \"arguments\": {\"location\": \"Denver, CO\", \"items\": [\"pasta\", \"olive oil\"], \"quantity\": [2, 1]}}]\n",
      "==========================================================================\n"
     ]
    },
    {
     "name": "stderr",
     "output_type": "stream",
     "text": [
      "The attention mask and the pad token id were not set. As a consequence, you may observe unexpected behavior. Please pass your input's `attention_mask` to obtain reliable results.\n",
      "Setting `pad_token_id` to `eos_token_id`:128009 for open-end generation.\n"
     ]
    },
    {
     "name": "stdout",
     "output_type": "stream",
     "text": [
      "Query : List all sources of information collected by Jailbase. \n",
      "\n",
      "Answer : [{\"name\": \"sources\", \"arguments\": {}}] \n",
      "\n",
      "Output : [{\"name\": \"sources\", \"arguments\": {}}]\n",
      "==========================================================================\n"
     ]
    },
    {
     "name": "stderr",
     "output_type": "stream",
     "text": [
      "The attention mask and the pad token id were not set. As a consequence, you may observe unexpected behavior. Please pass your input's `attention_mask` to obtain reliable results.\n",
      "Setting `pad_token_id` to `eos_token_id`:128009 for open-end generation.\n"
     ]
    },
    {
     "name": "stdout",
     "output_type": "stream",
     "text": [
      "Query : Retrieve information for CPF 987.654.321-09 with the name 'John Doe'. Additionally, get the theme details for ID 1234. \n",
      "\n",
      "Answer : [{\"name\": \"cpf\", \"arguments\": {\"cpf\": \"987.654.321-09\", \"nome\": \"John Doe\"}}, {\"name\": \"theme_detail\", \"arguments\": {\"dtid\": 1234}}] \n",
      "\n",
      "Output : [{\"name\": \"cpf\", \"arguments\": {\"cpf\": \"98765432109\", \"nome\": \"John Doe\"}}, {\"name\": \"theme_detail\", \"arguments\": {\"dtid\": 1234}}]\n",
      "==========================================================================\n"
     ]
    },
    {
     "name": "stderr",
     "output_type": "stream",
     "text": [
      "The attention mask and the pad token id were not set. As a consequence, you may observe unexpected behavior. Please pass your input's `attention_mask` to obtain reliable results.\n",
      "Setting `pad_token_id` to `eos_token_id`:128009 for open-end generation.\n"
     ]
    },
    {
     "name": "stdout",
     "output_type": "stream",
     "text": [
      "Query : What is the cell density for a sample with an optical density of 0.5, a dilution factor of 10, and using the default calibration factor? \n",
      "\n",
      "Answer : [{\"name\": \"cell_density\", \"arguments\": {\"od\": 0.5, \"dilution\": 10}}] \n",
      "\n",
      "Output : [{\"name\": \"cell_density\", \"arguments\": {\"od\": 0.5, \"dilution\": 10}}]\n",
      "==========================================================================\n"
     ]
    },
    {
     "name": "stderr",
     "output_type": "stream",
     "text": [
      "The attention mask and the pad token id were not set. As a consequence, you may observe unexpected behavior. Please pass your input's `attention_mask` to obtain reliable results.\n",
      "Setting `pad_token_id` to `eos_token_id`:128009 for open-end generation.\n"
     ]
    },
    {
     "name": "stdout",
     "output_type": "stream",
     "text": [
      "Query : Get information about event 'EVT45678' and find the date 4 working days after '2024-02-15' in France. \n",
      "\n",
      "Answer : [{\"name\": \"get_specific_event_information\", \"arguments\": {\"eventidentifier\": \"EVT45678\"}}, {\"name\": \"get_1_3_add_working_days\", \"arguments\": {\"country_code\": \"FR\", \"start_date\": \"2024-02-15\", \"increment\": 4}}] \n",
      "\n",
      "Output : [{\"name\": \"get_specific_event_information\", \"arguments\": {\"eventidentifier\": \"EVT45678\"}}, {\"name\": \"get_1_3_add_working_days\", \"arguments\": {\"country_code\": \"FR\", \"start_date\": \"2024-02-15\", \"increment\": 4}}]\n",
      "==========================================================================\n"
     ]
    },
    {
     "name": "stderr",
     "output_type": "stream",
     "text": [
      "The attention mask and the pad token id were not set. As a consequence, you may observe unexpected behavior. Please pass your input's `attention_mask` to obtain reliable results.\n",
      "Setting `pad_token_id` to `eos_token_id`:128009 for open-end generation.\n"
     ]
    },
    {
     "name": "stdout",
     "output_type": "stream",
     "text": [
      "Query : Please find out 'latest news on climate change' and give me the country codes. \n",
      "\n",
      "Answer : [{\"name\": \"search_web\", \"arguments\": {\"q\": \"latest news on climate change\"}}, {\"name\": \"getcountrycode\", \"arguments\": {}}] \n",
      "\n",
      "Output : [{\"name\": \"search\", \"arguments\": {\"q\": \"latest news on climate change\"}}, {\"name\": \"getcountrycode\", \"arguments\": {}}]\n",
      "==========================================================================\n"
     ]
    },
    {
     "name": "stderr",
     "output_type": "stream",
     "text": [
      "The attention mask and the pad token id were not set. As a consequence, you may observe unexpected behavior. Please pass your input's `attention_mask` to obtain reliable results.\n",
      "Setting `pad_token_id` to `eos_token_id`:128009 for open-end generation.\n"
     ]
    },
    {
     "name": "stdout",
     "output_type": "stream",
     "text": [
      "Query : In a recent survey, we asked people their age. The ages were 23, 45, 32.5, 56.7, 45, 34.5, 67, 34, 56, 78, 90, 22, 33, 44.5, 55, 66.7, 77, 88.8, 99.9, and 100. Could you calculate the standard deviation of these ages? \n",
      "\n",
      "Answer : [{\"name\": \"calculate_standard_deviation\", \"arguments\": {\"numbers\": [23, 45, 32.5, 56.7, 45, 34.5, 67, 34, 56, 78, 90, 22, 33, 44.5, 55, 66.7, 77, 88.8, 99.9, 100]}}] \n",
      "\n",
      "Output : [{\"name\": \"calculate_standard_deviation\", \"arguments\": {\"numbers\": [23, 45, 32.5, 56.7, 45, 34.5, 67, 34, 56, 78, 90, 22, 33, 44.5, 55, 66.7, 77, 88.8, 99.9, 100]}}]\n",
      "==========================================================================\n"
     ]
    },
    {
     "name": "stderr",
     "output_type": "stream",
     "text": [
      "The attention mask and the pad token id were not set. As a consequence, you may observe unexpected behavior. Please pass your input's `attention_mask` to obtain reliable results.\n",
      "Setting `pad_token_id` to `eos_token_id`:128009 for open-end generation.\n"
     ]
    },
    {
     "name": "stdout",
     "output_type": "stream",
     "text": [
      "Query : What are the current live basketball games in the Australian Eastern Standard Time? Additionally, fetch the live soccer matches in the Greenwich Mean Time. \n",
      "\n",
      "Answer : [{\"name\": \"matches_v2_list_live\", \"arguments\": {\"category\": \"basketball\", \"timezone\": 10}}, {\"name\": \"matches_v2_list_live\", \"arguments\": {\"category\": \"soccer\", \"timezone\": 0}}] \n",
      "\n",
      "Output : [{\"name\": \"matches_v2_list_live\", \"arguments\": {\"category\": \"basketball\", \"timezone\": 10}}, {\"name\": \"matches_v2_list_live\", \"arguments\": {\"category\": \"soccer\", \"timezone\": 0}}]\n",
      "==========================================================================\n"
     ]
    },
    {
     "name": "stderr",
     "output_type": "stream",
     "text": [
      "The attention mask and the pad token id were not set. As a consequence, you may observe unexpected behavior. Please pass your input's `attention_mask` to obtain reliable results.\n",
      "Setting `pad_token_id` to `eos_token_id`:128009 for open-end generation.\n"
     ]
    },
    {
     "name": "stdout",
     "output_type": "stream",
     "text": [
      "Query : What are the top restaurants in Nice, France, listed on page 3? \n",
      "\n",
      "Answer : [{\"name\": \"pagesjaunes\", \"arguments\": {\"pjpage\": 3, \"pjlocation\": \"Nice, France\", \"pjkeyword\": \"restaurants\"}}] \n",
      "\n",
      "Output : [{\"name\": \"pagesjaunes\", \"arguments\": {\"pjpage\": 3, \"pjlocation\": \"Nice, France\", \"pjkeyword\": \"restaurant\"}}]\n",
      "==========================================================================\n"
     ]
    },
    {
     "name": "stderr",
     "output_type": "stream",
     "text": [
      "The attention mask and the pad token id were not set. As a consequence, you may observe unexpected behavior. Please pass your input's `attention_mask` to obtain reliable results.\n",
      "Setting `pad_token_id` to `eos_token_id`:128009 for open-end generation.\n"
     ]
    },
    {
     "name": "stdout",
     "output_type": "stream",
     "text": [
      "Query : Fetch the highlight items for 'adventure_seeker' on Instagram and the latest shorts from 'SpaceChannel' on YouTube. \n",
      "\n",
      "Answer : [{\"name\": \"get_highlight_item\", \"arguments\": {\"is_id\": \"adventure_seeker\"}}, {\"name\": \"channel_shorts\", \"arguments\": {\"channel_id\": \"SpaceChannel\"}}] \n",
      "\n",
      "Output : [{\"name\": \"get_highlight_item\", \"arguments\": {\"is_id\": \"adventure_seeker\"}}, {\"name\": \"channel_shorts\", \"arguments\": {\"channel_id\": \"SpaceChannel\"}}]\n",
      "==========================================================================\n"
     ]
    },
    {
     "name": "stderr",
     "output_type": "stream",
     "text": [
      "The attention mask and the pad token id were not set. As a consequence, you may observe unexpected behavior. Please pass your input's `attention_mask` to obtain reliable results.\n",
      "Setting `pad_token_id` to `eos_token_id`:128009 for open-end generation.\n"
     ]
    },
    {
     "name": "stdout",
     "output_type": "stream",
     "text": [
      "Query : How can I log in as a user with username 'johndoe' and password 'password123' on the Swagger Petstore system? \n",
      "\n",
      "Answer : [{\"name\": \"loginuser\", \"arguments\": {\"username\": \"johndoe\", \"password\": \"password123\"}}] \n",
      "\n",
      "Output : [{\"name\": \"loginuser\", \"arguments\": {\"username\": \"johndoe\", \"password\": \"password123\"}}]\n",
      "==========================================================================\n"
     ]
    },
    {
     "name": "stderr",
     "output_type": "stream",
     "text": [
      "The attention mask and the pad token id were not set. As a consequence, you may observe unexpected behavior. Please pass your input's `attention_mask` to obtain reliable results.\n",
      "Setting `pad_token_id` to `eos_token_id`:128009 for open-end generation.\n"
     ]
    },
    {
     "name": "stdout",
     "output_type": "stream",
     "text": [
      "Query : Calculate the weighted average grade for scores [88, 92, 96, 100] with weights [0.25, 0.25, 0.25, 0.25], and check if 1331 is the sum of the cubes of its digits. \n",
      "\n",
      "Answer : [{\"name\": \"calculate_grade\", \"arguments\": {\"scores\": [88, 92, 96, 100], \"weights\": [0.25, 0.25, 0.25, 0.25]}}, {\"name\": \"is_sum_of_cubes\", \"arguments\": {\"num\": 1331}}] \n",
      "\n",
      "Output : [{\"name\": \"calculate_grade\", \"arguments\": {\"scores\": [88, 92, 96, 100], \"weights\": [0.25, 0.25, 0.25, 0.25]}}, {\"name\": \"is_sum_of_cubes\", \"arguments\": {\"num\": 1331}}]\n",
      "==========================================================================\n"
     ]
    },
    {
     "name": "stderr",
     "output_type": "stream",
     "text": [
      "The attention mask and the pad token id were not set. As a consequence, you may observe unexpected behavior. Please pass your input's `attention_mask` to obtain reliable results.\n",
      "Setting `pad_token_id` to `eos_token_id`:128009 for open-end generation.\n"
     ]
    },
    {
     "name": "stdout",
     "output_type": "stream",
     "text": [
      "Query : I need to know the details of a cryptocurrency with ID 12345. Additionally, could you provide the property details for a house with ID 1497548641? \n",
      "\n",
      "Answer : [{\"name\": \"random_crypto_by_id\", \"arguments\": {\"is_id\": 12345}}, {\"name\": \"property_details\", \"arguments\": {\"property_id\": \"1497548641\"}}] \n",
      "\n",
      "Output : [{\"name\": \"random_crypto_by_id\", \"arguments\": {\"is_id\": 12345}}, {\"name\": \"property_details\", \"arguments\": {\"property_id\": \"1497548641\"}}]\n",
      "==========================================================================\n"
     ]
    },
    {
     "name": "stderr",
     "output_type": "stream",
     "text": [
      "The attention mask and the pad token id were not set. As a consequence, you may observe unexpected behavior. Please pass your input's `attention_mask` to obtain reliable results.\n",
      "Setting `pad_token_id` to `eos_token_id`:128009 for open-end generation.\n"
     ]
    },
    {
     "name": "stdout",
     "output_type": "stream",
     "text": [
      "Query : Generate the first 10 Fibonacci numbers. \n",
      "\n",
      "Answer : [{\"name\": \"fibonacci_numbers\", \"arguments\": {\"n\": 10}}] \n",
      "\n",
      "Output : [{\"name\": \"fibonacci_numbers\", \"arguments\": {\"n\": 10}}]\n",
      "==========================================================================\n"
     ]
    },
    {
     "name": "stderr",
     "output_type": "stream",
     "text": [
      "The attention mask and the pad token id were not set. As a consequence, you may observe unexpected behavior. Please pass your input's `attention_mask` to obtain reliable results.\n",
      "Setting `pad_token_id` to `eos_token_id`:128009 for open-end generation.\n"
     ]
    },
    {
     "name": "stdout",
     "output_type": "stream",
     "text": [
      "Query : What are the label templates for 'A4' format paper from 'Megastar' in 'square' shape with a height and width of '3x3'? Also, find me the label templates for 'Letter' format paper from 'Sheetlabels' in 'rectangle' shape with a height of '1.5 inches' and a width of '2.5 inches'. \n",
      "\n",
      "Answer : [{\"name\": \"label_templates\", \"arguments\": {\"format\": \"A4\", \"brand\": \"Megastar\", \"shape\": \"square\", \"code\": \"3x3\"}}, {\"name\": \"label_templates\", \"arguments\": {\"format\": \"Letter\", \"brand\": \"Sheetlabels\", \"shape\": \"rectangle\", \"height\": \"1.5 inches\", \"width\": \"2.5 inches\"}}] \n",
      "\n",
      "Output : [{\"name\": \"label_templates\", \"arguments\": {\"format\": \"A4\", \"brand\": \"Megastar\", \"code\": \"3x3\", \"shape\": \"square\"}}, {\"name\": \"label_templates\", \"arguments\": {\"format\": \"Letter\", \"brand\": \"Sheetlabels\", \"code\": \"1.5x2.5\", \"shape\": \"rectangle\"}}]\n",
      "==========================================================================\n"
     ]
    },
    {
     "name": "stderr",
     "output_type": "stream",
     "text": [
      "The attention mask and the pad token id were not set. As a consequence, you may observe unexpected behavior. Please pass your input's `attention_mask` to obtain reliable results.\n",
      "Setting `pad_token_id` to `eos_token_id`:128009 for open-end generation.\n"
     ]
    },
    {
     "name": "stdout",
     "output_type": "stream",
     "text": [
      "Query : Fetch recipes by 'Jamie Oliver' starting from page 2. \n",
      "\n",
      "Answer : [{\"name\": \"recipes_by_author\", \"arguments\": {\"profile_name\": \"Jamie Oliver\", \"start\": 20}}] \n",
      "\n",
      "Output : [{\"name\": \"recipes_by_author\", \"arguments\": {\"profile_name\": \"Jamie Oliver\", \"start\": 20}}]\n",
      "==========================================================================\n"
     ]
    },
    {
     "name": "stderr",
     "output_type": "stream",
     "text": [
      "The attention mask and the pad token id were not set. As a consequence, you may observe unexpected behavior. Please pass your input's `attention_mask` to obtain reliable results.\n",
      "Setting `pad_token_id` to `eos_token_id`:128009 for open-end generation.\n"
     ]
    },
    {
     "name": "stdout",
     "output_type": "stream",
     "text": [
      "Query : What is the range string for numbers from 10 to 20 and from 30 to 40? \n",
      "\n",
      "Answer : [{\"name\": \"get_range\", \"arguments\": {\"start\": 10, \"end\": 20}}, {\"name\": \"get_range\", \"arguments\": {\"start\": 30, \"end\": 40}}] \n",
      "\n",
      "Output : [{\"name\": \"get_range\", \"arguments\": {\"start\": 10, \"end\": 20}}, {\"name\": \"get_range\", \"arguments\": {\"start\": 30, \"end\": 40}}]\n",
      "==========================================================================\n"
     ]
    },
    {
     "name": "stderr",
     "output_type": "stream",
     "text": [
      "The attention mask and the pad token id were not set. As a consequence, you may observe unexpected behavior. Please pass your input's `attention_mask` to obtain reliable results.\n",
      "Setting `pad_token_id` to `eos_token_id`:128009 for open-end generation.\n"
     ]
    },
    {
     "name": "stdout",
     "output_type": "stream",
     "text": [
      "Query : I need to see the latest 30 transactions across all blockchains, can you provide that? \n",
      "\n",
      "Answer : [{\"name\": \"transactions_feed\", \"arguments\": {\"size\": \"30\"}}] \n",
      "\n",
      "Output : [{\"name\": \"transactions_feed\", \"arguments\": {\"s_amount_usd\": \"desc\", \"size\": \"30\", \"t_blockchain\": \"all\"}}]\n",
      "==========================================================================\n"
     ]
    },
    {
     "name": "stderr",
     "output_type": "stream",
     "text": [
      "The attention mask and the pad token id were not set. As a consequence, you may observe unexpected behavior. Please pass your input's `attention_mask` to obtain reliable results.\n",
      "Setting `pad_token_id` to `eos_token_id`:128009 for open-end generation.\n"
     ]
    },
    {
     "name": "stdout",
     "output_type": "stream",
     "text": [
      "Query : Find the top 10 popular movies available on Netflix and Hulu in the US, and also search for books titled 'To Kill a Mockingbird'. \n",
      "\n",
      "Answer : [{\"name\": \"movies\", \"arguments\": {\"limit\": 10, \"sources\": \"netflix,hulu\", \"region\": \"US\", \"sort\": \"popularity\"}}, {\"name\": \"search_title\", \"arguments\": {\"title\": \"To Kill a Mockingbird\"}}] \n",
      "\n",
      "Output : [{\"name\": \"movies\", \"arguments\": {\"limit\": 10, \"sources\": \"netflix,hulu\", \"region\": \"US\", \"sort\": \"popularity\"}}, {\"name\": \"search_title\", \"arguments\": {\"title\": \"To Kill a Mockingbird\"}}]\n",
      "==========================================================================\n"
     ]
    },
    {
     "name": "stderr",
     "output_type": "stream",
     "text": [
      "The attention mask and the pad token id were not set. As a consequence, you may observe unexpected behavior. Please pass your input's `attention_mask` to obtain reliable results.\n",
      "Setting `pad_token_id` to `eos_token_id`:128009 for open-end generation.\n"
     ]
    },
    {
     "name": "stdout",
     "output_type": "stream",
     "text": [
      "Query : Retrieve the air quality data for Madrid and Cairo, and fetch the first 40 lines of data from the 'health' subset in the 'hospitals' dataset. \n",
      "\n",
      "Answer : [{\"name\": \"v1_airquality\", \"arguments\": {\"city\": \"Madrid\"}}, {\"name\": \"v1_airquality\", \"arguments\": {\"city\": \"Cairo\"}}, {\"name\": \"tsv2\", \"arguments\": {\"subset\": \"health\", \"dataset\": \"hospitals\", \"limit\": 40}}] \n",
      "\n",
      "Output : [{\"name\": \"v1_airquality\", \"arguments\": {\"city\": \"Madrid\"}}, {\"name\": \"v1_airquality\", \"arguments\": {\"city\": \"Cairo\"}}, {\"name\": \"tsv2\", \"arguments\": {\"subset\": \"health\", \"dataset\": \"hospitals\", \"limit\": 40}}]\n",
      "==========================================================================\n"
     ]
    },
    {
     "name": "stderr",
     "output_type": "stream",
     "text": [
      "The attention mask and the pad token id were not set. As a consequence, you may observe unexpected behavior. Please pass your input's `attention_mask` to obtain reliable results.\n",
      "Setting `pad_token_id` to `eos_token_id`:128009 for open-end generation.\n"
     ]
    },
    {
     "name": "stdout",
     "output_type": "stream",
     "text": [
      "Query : Search for 'Golden Gate Bridge' in English and include polygons in the response. Also, get a map tile with French labels for San Francisco at zoom 15. \n",
      "\n",
      "Answer : [{\"name\": \"search\", \"arguments\": {\"q\": \"Golden Gate Bridge\", \"language\": \"en\", \"polygon\": \"on\"}}, {\"name\": \"getmaptilewithfrenchlabels\", \"arguments\": {\"x\": 7500, \"y\": 5000, \"z\": 15}}] \n",
      "\n",
      "Output : [{\"name\": \"search\", \"arguments\": {\"q\": \"Golden Gate Bridge\", \"polygon\": \"on\"}}, {\"name\": \"get_vector_tile\", \"arguments\": {\"x\": 58211, \"y\": 25806, \"z\": 16}}]\n",
      "==========================================================================\n"
     ]
    },
    {
     "name": "stderr",
     "output_type": "stream",
     "text": [
      "The attention mask and the pad token id were not set. As a consequence, you may observe unexpected behavior. Please pass your input's `attention_mask` to obtain reliable results.\n",
      "Setting `pad_token_id` to `eos_token_id`:128009 for open-end generation.\n"
     ]
    },
    {
     "name": "stdout",
     "output_type": "stream",
     "text": [
      "Query : What are the webhooks for API key 'stu901' and what is the status of message 123098? \n",
      "\n",
      "Answer : [{\"name\": \"get_webhooks\", \"arguments\": {\"p\": \"stu901\"}}, {\"name\": \"get_status\", \"arguments\": {\"msg_id\": 123098, \"p\": \"stu901\"}}] \n",
      "\n",
      "Output : [{\"name\": \"get_webhooks\", \"arguments\": {\"p\": \"stu901\"}}, {\"name\": \"get_status\", \"arguments\": {\"msg_id\": 123098, \"p\": \"stu901\"}}]\n",
      "==========================================================================\n"
     ]
    },
    {
     "name": "stderr",
     "output_type": "stream",
     "text": [
      "The attention mask and the pad token id were not set. As a consequence, you may observe unexpected behavior. Please pass your input's `attention_mask` to obtain reliable results.\n",
      "Setting `pad_token_id` to `eos_token_id`:128009 for open-end generation.\n"
     ]
    },
    {
     "name": "stdout",
     "output_type": "stream",
     "text": [
      "Query : Retrieve the player details for 'Faker' in the 'KR' region. \n",
      "\n",
      "Answer : [{\"name\": \"get_player_details\", \"arguments\": {\"name\": \"Faker\", \"region\": \"KR\"}}] \n",
      "\n",
      "Output : [{\"name\": \"get_player_details\", \"arguments\": {\"name\": \"Faker\", \"region\": \"KR\"}}]\n",
      "==========================================================================\n"
     ]
    },
    {
     "name": "stderr",
     "output_type": "stream",
     "text": [
      "The attention mask and the pad token id were not set. As a consequence, you may observe unexpected behavior. Please pass your input's `attention_mask` to obtain reliable results.\n",
      "Setting `pad_token_id` to `eos_token_id`:128009 for open-end generation.\n"
     ]
    },
    {
     "name": "stdout",
     "output_type": "stream",
     "text": [
      "Query : Verify the validity of the email address with a long domain name, such as john.doe@thisisalongdomainname.com. \n",
      "\n",
      "Answer : [{\"name\": \"email_verifier\", \"arguments\": {\"email\": \"john.doe@thisisalongdomainname.com\"}}] \n",
      "\n",
      "Output : [{\"name\": \"email_verifier\", \"arguments\": {\"email\": \"john.doe@thisisalongdomainname.com\"}}]\n",
      "==========================================================================\n"
     ]
    },
    {
     "name": "stderr",
     "output_type": "stream",
     "text": [
      "The attention mask and the pad token id were not set. As a consequence, you may observe unexpected behavior. Please pass your input's `attention_mask` to obtain reliable results.\n",
      "Setting `pad_token_id` to `eos_token_id`:128009 for open-end generation.\n"
     ]
    },
    {
     "name": "stdout",
     "output_type": "stream",
     "text": [
      "Query : Determine if 47 is a prime number. \n",
      "\n",
      "Answer : [{\"name\": \"is_prime\", \"arguments\": {\"num\": 47}}] \n",
      "\n",
      "Output : [{\"name\": \"is_prime\", \"arguments\": {\"num\": 47}}]\n",
      "==========================================================================\n"
     ]
    },
    {
     "name": "stderr",
     "output_type": "stream",
     "text": [
      "The attention mask and the pad token id were not set. As a consequence, you may observe unexpected behavior. Please pass your input's `attention_mask` to obtain reliable results.\n",
      "Setting `pad_token_id` to `eos_token_id`:128009 for open-end generation.\n"
     ]
    },
    {
     "name": "stdout",
     "output_type": "stream",
     "text": [
      "Query : Can you provide the regions of France and the details of the YouTube channel with ID 'UC-9-mcznarfncfuW8Ft67YUg'? \n",
      "\n",
      "Answer : [{\"name\": \"get_regions\", \"arguments\": {\"country_code\": \"FR\"}}, {\"name\": \"channel_details\", \"arguments\": {\"is_id\": \"UC-9-mcznarfncfuW8Ft67YUg\", \"part\": \"snippet,statistics\"}}] \n",
      "\n",
      "Output : [{\"name\": \"get_regions\", \"arguments\": {\"country_code\": \"FR\"}}, {\"name\": \"channel_details\", \"arguments\": {\"is_id\": \"UC-9-mcznarfncfuW8Ft67YUg\", \"part\": \"snippet,statistics\"}}]\n",
      "==========================================================================\n"
     ]
    },
    {
     "name": "stderr",
     "output_type": "stream",
     "text": [
      "The attention mask and the pad token id were not set. As a consequence, you may observe unexpected behavior. Please pass your input's `attention_mask` to obtain reliable results.\n",
      "Setting `pad_token_id` to `eos_token_id`:128009 for open-end generation.\n"
     ]
    },
    {
     "name": "stdout",
     "output_type": "stream",
     "text": [
      "Query : Given a list of numbers [1, 2, 3, 4, 5], find the next greater element for each number and calculate the mean confidence interval for the sample mean of 3 with a standard deviation of 0.5 and a sample size of 10. \n",
      "\n",
      "Answer : [{\"name\": \"find_next_greater_element\", \"arguments\": {\"nums\": [1, 2, 3, 4, 5]}}, {\"name\": \"mean_confidence_interval\", \"arguments\": {\"std_dev\": 0.5, \"sample_size\": 10, \"mean\": 3}}] \n",
      "\n",
      "Output : [{\"name\": \"find_next_greater_element\", \"arguments\": {\"nums\": [1, 2, 3, 4, 5]}}, {\"name\": \"mean_confidence_interval\", \"arguments\": {\"std_dev\": 0.5, \"sample_size\": 10, \"mean\": 3}}]\n",
      "==========================================================================\n"
     ]
    },
    {
     "name": "stderr",
     "output_type": "stream",
     "text": [
      "The attention mask and the pad token id were not set. As a consequence, you may observe unexpected behavior. Please pass your input's `attention_mask` to obtain reliable results.\n",
      "Setting `pad_token_id` to `eos_token_id`:128009 for open-end generation.\n"
     ]
    },
    {
     "name": "stdout",
     "output_type": "stream",
     "text": [
      "Query : Get the product reviews for a specific product from the Real-Time Product Search API, starting from the 100th review and limiting the number of reviews to 25. \n",
      "\n",
      "Answer : [{\"name\": \"product_reviews\", \"arguments\": {\"product_id\": \"some_product_id\", \"offset\": \"100\", \"limit\": \"25\"}}] \n",
      "\n",
      "Output : [{\"name\": \"product_reviews\", \"arguments\": {\"product_id\": \"12345678901234567890\", \"country\": \"us\", \"language\": \"en\", \"offset\": \"100\", \"rating\": \"4\", \"limit\": \"25\"}}]\n",
      "==========================================================================\n"
     ]
    },
    {
     "name": "stderr",
     "output_type": "stream",
     "text": [
      "The attention mask and the pad token id were not set. As a consequence, you may observe unexpected behavior. Please pass your input's `attention_mask` to obtain reliable results.\n",
      "Setting `pad_token_id` to `eos_token_id`:128009 for open-end generation.\n"
     ]
    },
    {
     "name": "stdout",
     "output_type": "stream",
     "text": [
      "Query : I want to hear a voice response for the phrase 'こんにちは、どうしたの？' in a female anime character's voice and also translate it to English. \n",
      "\n",
      "Answer : [{\"name\": \"get_voice\", \"arguments\": {\"text\": \"\\u3053\\u3093\\u306b\\u3061\\u306f\\u3001\\u3069\\u3046\\u3057\\u305f\\u306e\\uff1f\", \"speaker\": \"female\"}}, {\"name\": \"translate\", \"arguments\": {\"text\": \"\\u3053\\u3093\\u306b\\u3061\\u306f\\u3001\\u3069\\u3046\\u3057\\u305f\\u306e\\uff1f\", \"target\": \"en\"}}] \n",
      "\n",
      "Output : [{\"name\": \"get_voice\", \"arguments\": {\"text\": \"こんにちはどうしたの？\", \"speaker\": \"Female Anime Character\"}}, {\"name\": \"translate\", \"arguments\": {\"text\": \"こんにちはどうしたの？\", \"target\": \"en\"}}]\n",
      "==========================================================================\n"
     ]
    },
    {
     "name": "stderr",
     "output_type": "stream",
     "text": [
      "The attention mask and the pad token id were not set. As a consequence, you may observe unexpected behavior. Please pass your input's `attention_mask` to obtain reliable results.\n",
      "Setting `pad_token_id` to `eos_token_id`:128009 for open-end generation.\n"
     ]
    },
    {
     "name": "stdout",
     "output_type": "stream",
     "text": [
      "Query : Get the 10-year historical quarterly prices for Apple Inc., including adjusted Open, High, Low, Close prices, volume, dividends, and splits. \n",
      "\n",
      "Answer : [{\"name\": \"get_10_year_historical_quarterly_prices\", \"arguments\": {\"ticker\": \"AAPL\"}}] \n",
      "\n",
      "Output : [{\"name\": \"get_10_year_historical_quarterly_prices\", \"arguments\": {\"ticker\": \"AAPL\"}}]\n",
      "==========================================================================\n"
     ]
    },
    {
     "name": "stderr",
     "output_type": "stream",
     "text": [
      "The attention mask and the pad token id were not set. As a consequence, you may observe unexpected behavior. Please pass your input's `attention_mask` to obtain reliable results.\n",
      "Setting `pad_token_id` to `eos_token_id`:128009 for open-end generation.\n"
     ]
    },
    {
     "name": "stdout",
     "output_type": "stream",
     "text": [
      "Query : Simulate querying the 'products' table with conditions: price<50 and category='electronics'. \n",
      "\n",
      "Answer : [{\"name\": \"simulate_query_database\", \"arguments\": {\"table\": \"products\", \"conditions\": [{\"price\": {\"$lt\": 50}}, {\"category\": \"electronics\"}]}}] \n",
      "\n",
      "Output : [{\"name\": \"simulate_query_database\", \"arguments\": {\"table\": \"products\", \"conditions\": [{\"field\": \"price\", \"operator\": \"<\", \"value\": 50}, {\"field\": \"category\", \"operator\": \"=\", \"value\": \"electronics\"}]}}]\n",
      "==========================================================================\n"
     ]
    },
    {
     "name": "stderr",
     "output_type": "stream",
     "text": [
      "The attention mask and the pad token id were not set. As a consequence, you may observe unexpected behavior. Please pass your input's `attention_mask` to obtain reliable results.\n",
      "Setting `pad_token_id` to `eos_token_id`:128009 for open-end generation.\n"
     ]
    },
    {
     "name": "stdout",
     "output_type": "stream",
     "text": [
      "Query : Mary is a demographer interested in the population growth of her city. Currently, the city has a population of 500,000 people and it's expected to grow at an annual rate of 2%. Mary wants to know the projected population after 10 years. Additionally, she wants to know if any of those years will be a leap year. \n",
      "\n",
      "Answer : [{\"name\": \"project_population\", \"arguments\": {\"current_pop\": 500000, \"num_years\": 10, \"annual_growth\": 2}}, {\"name\": \"is_leap_year\", \"arguments\": {\"year\": 2031}}] \n",
      "\n",
      "Output : [{\"name\": \"project_population\", \"arguments\": {\"current_pop\": 500000, \"num_years\": 10, \"annual_growth\": 0.02}}, {\"name\": \"is_leap_year\", \"arguments\": {\"year\": 2025}}]\n",
      "==========================================================================\n"
     ]
    },
    {
     "name": "stderr",
     "output_type": "stream",
     "text": [
      "The attention mask and the pad token id were not set. As a consequence, you may observe unexpected behavior. Please pass your input's `attention_mask` to obtain reliable results.\n",
      "Setting `pad_token_id` to `eos_token_id`:128009 for open-end generation.\n"
     ]
    },
    {
     "name": "stdout",
     "output_type": "stream",
     "text": [
      "Query : What are the names of the top 3 weed strains with the highest THC content, and how can I get a list of cat breeds ordered by their popularity in descending order? \n",
      "\n",
      "Answer : [{\"name\": \"all_strains_descending\", \"arguments\": {\"ordering\": \"thc\"}}, {\"name\": \"order_by_descending\", \"arguments\": {\"ordering\": \"popularity\"}}] \n",
      "\n",
      "Output : [{\"name\": \"all_strains_descending\", \"arguments\": {\"ordering\": \"thc\"}}, {\"name\": \"order_by_descending\", \"arguments\": {}}]\n",
      "==========================================================================\n"
     ]
    },
    {
     "name": "stderr",
     "output_type": "stream",
     "text": [
      "The attention mask and the pad token id were not set. As a consequence, you may observe unexpected behavior. Please pass your input's `attention_mask` to obtain reliable results.\n",
      "Setting `pad_token_id` to `eos_token_id`:128009 for open-end generation.\n"
     ]
    },
    {
     "name": "stdout",
     "output_type": "stream",
     "text": [
      "Query : Get auto-complete suggestions for the query 'shirts' using the auto_complete_deprecating function. \n",
      "\n",
      "Answer : [{\"name\": \"auto_complete_deprecating\", \"arguments\": {\"query\": \"shirts\"}}] \n",
      "\n",
      "Output : [{\"name\": \"auto_complete_deprecating\", \"arguments\": {\"query\": \"shirts\"}}]\n",
      "==========================================================================\n"
     ]
    },
    {
     "name": "stderr",
     "output_type": "stream",
     "text": [
      "The attention mask and the pad token id were not set. As a consequence, you may observe unexpected behavior. Please pass your input's `attention_mask` to obtain reliable results.\n",
      "Setting `pad_token_id` to `eos_token_id`:128009 for open-end generation.\n"
     ]
    },
    {
     "name": "stdout",
     "output_type": "stream",
     "text": [
      "Query : Get a list of available forex pairs with base currency Euro (EUR) and quote currency US Dollar (USD) from the Twelve Data API in JSON format. \n",
      "\n",
      "Answer : [{\"name\": \"forex_pairs_list\", \"arguments\": {\"currency_base\": \"EUR\", \"currency_quote\": \"USD\", \"format\": \"json\"}}] \n",
      "\n",
      "Output : [{\"name\": \"forex_pairs_list\", \"arguments\": {\"currency_base\": \"EUR\", \"currency_quote\": \"USD\", \"format\": \"json\"}}]\n",
      "==========================================================================\n"
     ]
    },
    {
     "name": "stderr",
     "output_type": "stream",
     "text": [
      "The attention mask and the pad token id were not set. As a consequence, you may observe unexpected behavior. Please pass your input's `attention_mask` to obtain reliable results.\n",
      "Setting `pad_token_id` to `eos_token_id`:128009 for open-end generation.\n"
     ]
    },
    {
     "name": "stdout",
     "output_type": "stream",
     "text": [
      "Query : I'm looking for information on channels 'UCq-Fj5jknLsUjA_QzB9vqMw' and 'UCDH7-VwS_ZwQlGmYdHZqW4w' for a digital content analysis. \n",
      "\n",
      "Answer : [{\"name\": \"about_channel\", \"arguments\": {\"is_id\": \"UCq-Fj5jknLsUjA_QzB9vqMw\"}}, {\"name\": \"about_channel\", \"arguments\": {\"is_id\": \"UCDH7-VwS_ZwQlGmYdHZqW4w\"}}] \n",
      "\n",
      "Output : [{\"name\": \"about_channel\", \"arguments\": {\"is_id\": \"UCq-Fj5jknLsUjA_QzB9vqMw\"}}, {\"name\": \"about_channel\", \"arguments\": {\"is_id\": \"UCDH7-VwS_ZwQlGmYdHZqW4w\"}}]\n",
      "==========================================================================\n"
     ]
    },
    {
     "name": "stderr",
     "output_type": "stream",
     "text": [
      "The attention mask and the pad token id were not set. As a consequence, you may observe unexpected behavior. Please pass your input's `attention_mask` to obtain reliable results.\n",
      "Setting `pad_token_id` to `eos_token_id`:128009 for open-end generation.\n"
     ]
    },
    {
     "name": "stdout",
     "output_type": "stream",
     "text": [
      "Query : Can you search for radio channels that have the word 'love' in their names or descriptions? \n",
      "\n",
      "Answer : [{\"name\": \"get_channels\", \"arguments\": {\"keyword\": \"love\"}}] \n",
      "\n",
      "Output : [{\"name\": \"get_channels\", \"arguments\": {\"keyword\": \"love\"}}]\n",
      "==========================================================================\n"
     ]
    },
    {
     "name": "stderr",
     "output_type": "stream",
     "text": [
      "The attention mask and the pad token id were not set. As a consequence, you may observe unexpected behavior. Please pass your input's `attention_mask` to obtain reliable results.\n",
      "Setting `pad_token_id` to `eos_token_id`:128009 for open-end generation.\n"
     ]
    },
    {
     "name": "stdout",
     "output_type": "stream",
     "text": [
      "Query : What are the trending tags in Japan and Germany? \n",
      "\n",
      "Answer : [{\"name\": \"trending_tags_from_country\", \"arguments\": {\"country_name\": \"Japan\"}}, {\"name\": \"trending_tags_from_country\", \"arguments\": {\"country_name\": \"Germany\"}}] \n",
      "\n",
      "Output : [{\"name\": \"trending_tags_from_country\", \"arguments\": {\"country_name\": \"Japan\"}}, {\"name\": \"trending_tags_from_country\", \"arguments\": {\"country_name\": \"Germany\"}}]\n",
      "==========================================================================\n"
     ]
    },
    {
     "name": "stderr",
     "output_type": "stream",
     "text": [
      "The attention mask and the pad token id were not set. As a consequence, you may observe unexpected behavior. Please pass your input's `attention_mask` to obtain reliable results.\n",
      "Setting `pad_token_id` to `eos_token_id`:128009 for open-end generation.\n"
     ]
    },
    {
     "name": "stdout",
     "output_type": "stream",
     "text": [
      "Query : Please get me 15 gray icons of size 64 for 'science' starting from the 40th result. \n",
      "\n",
      "Answer : [{\"name\": \"search\", \"arguments\": {\"term\": \"science\", \"size\": 64, \"limit\": 15, \"color\": \"808080\", \"offset\": 40}}] \n",
      "\n",
      "Output : [{\"name\": \"search\", \"arguments\": {\"term\": \"science\", \"size\": 64, \"limit\": 15, \"offset\": 40}}]\n",
      "==========================================================================\n"
     ]
    },
    {
     "name": "stderr",
     "output_type": "stream",
     "text": [
      "The attention mask and the pad token id were not set. As a consequence, you may observe unexpected behavior. Please pass your input's `attention_mask` to obtain reliable results.\n",
      "Setting `pad_token_id` to `eos_token_id`:128009 for open-end generation.\n"
     ]
    },
    {
     "name": "stdout",
     "output_type": "stream",
     "text": [
      "Query : I'm looking for related artists for the album with ID '24680' in Spanish, but there might be some typos or grammar mistakes. \n",
      "\n",
      "Answer : [{\"name\": \"albums_get_related_artist\", \"arguments\": {\"is_id\": \"24680\", \"l\": \"es-ES\"}}] \n",
      "\n",
      "Output : [{\"name\": \"albums_get_related_artist\", \"arguments\": {\"is_id\": \"24680\", \"l\": \"es-ES\"}}]\n",
      "==========================================================================\n"
     ]
    },
    {
     "name": "stderr",
     "output_type": "stream",
     "text": [
      "The attention mask and the pad token id were not set. As a consequence, you may observe unexpected behavior. Please pass your input's `attention_mask` to obtain reliable results.\n",
      "Setting `pad_token_id` to `eos_token_id`:128009 for open-end generation.\n"
     ]
    },
    {
     "name": "stdout",
     "output_type": "stream",
     "text": [
      "Query : What category does a 'Sony WH-1000XM4' headphone fall into, and what are the details of a product with TIN 987654321 from store 102? \n",
      "\n",
      "Answer : [{\"name\": \"product_categorization\", \"arguments\": {\"title\": \"Sony WH-1000XM4\"}}, {\"name\": \"product_details\", \"arguments\": {\"tcin\": \"987654321\", \"store_id\": \"102\"}}] \n",
      "\n",
      "Output : [{\"name\": \"product_categorization\", \"arguments\": {\"title\": \"Sony WH-1000XM4\"}}, {\"name\": \"product_details\", \"arguments\": {\"tcin\": \"987654321\", \"store_id\": \"102\"}}]\n",
      "==========================================================================\n"
     ]
    },
    {
     "name": "stderr",
     "output_type": "stream",
     "text": [
      "The attention mask and the pad token id were not set. As a consequence, you may observe unexpected behavior. Please pass your input's `attention_mask` to obtain reliable results.\n",
      "Setting `pad_token_id` to `eos_token_id`:128009 for open-end generation.\n"
     ]
    },
    {
     "name": "stdout",
     "output_type": "stream",
     "text": [
      "Query : Retrieve the list of vehicle models for the makes 'Toyota' and 'Ford'. \n",
      "\n",
      "Answer : [{\"name\": \"vehicles_models\", \"arguments\": {\"vehicle_make\": \"Toyota\"}}, {\"name\": \"vehicles_models\", \"arguments\": {\"vehicle_make\": \"Ford\"}}] \n",
      "\n",
      "Output : [{\"name\": \"vehicles_models\", \"arguments\": {\"vehicle_make\": \"Toyota\"}}, {\"name\": \"vehicles_models\", \"arguments\": {\"vehicle_make\": \"Ford\"}}]\n",
      "==========================================================================\n"
     ]
    },
    {
     "name": "stderr",
     "output_type": "stream",
     "text": [
      "The attention mask and the pad token id were not set. As a consequence, you may observe unexpected behavior. Please pass your input's `attention_mask` to obtain reliable results.\n",
      "Setting `pad_token_id` to `eos_token_id`:128009 for open-end generation.\n"
     ]
    },
    {
     "name": "stdout",
     "output_type": "stream",
     "text": [
      "Query : Fetch planet data for 'Jupiter' with a minimum mass of 0.5 Jupiter masses and a maximum radius of 1.5 Jupiter radii. \n",
      "\n",
      "Answer : [{\"name\": \"v1_planets\", \"arguments\": {\"name\": \"Jupiter\", \"min_mass\": 0.5, \"max_radius\": 1.5}}] \n",
      "\n",
      "Output : [{\"name\": \"v1_planets\", \"arguments\": {\"min_mass\": 0.5, \"max_radius\": 1.5, \"name\": \"Jupiter\"}}]\n",
      "==========================================================================\n"
     ]
    },
    {
     "name": "stderr",
     "output_type": "stream",
     "text": [
      "The attention mask and the pad token id were not set. As a consequence, you may observe unexpected behavior. Please pass your input's `attention_mask` to obtain reliable results.\n",
      "Setting `pad_token_id` to `eos_token_id`:128009 for open-end generation.\n"
     ]
    },
    {
     "name": "stdout",
     "output_type": "stream",
     "text": [
      "Query : Fetch the compensation details for ID '67890' and the latest CO2 emissions data in Germany. \n",
      "\n",
      "Answer : [{\"name\": \"retrieve_compensation\", \"arguments\": {\"is_id\": \"67890\"}}, {\"name\": \"co2_emission\", \"arguments\": {}}] \n",
      "\n",
      "Output : [{\"name\": \"retrieve_compensation\", \"arguments\": {\"is_id\": \"67890\"}}, {\"name\": \"co2_emission\", \"arguments\": {\"date\": \"2022-08-20\"}}]\n",
      "==========================================================================\n"
     ]
    },
    {
     "name": "stderr",
     "output_type": "stream",
     "text": [
      "The attention mask and the pad token id were not set. As a consequence, you may observe unexpected behavior. Please pass your input's `attention_mask` to obtain reliable results.\n",
      "Setting `pad_token_id` to `eos_token_id`:128009 for open-end generation.\n"
     ]
    },
    {
     "name": "stdout",
     "output_type": "stream",
     "text": [
      "Query : What's the 3rd smallest number in the list [10, 1, 3, 5, 9]? Also, can you tell me the smallest number in [23, 45, 12, 8, 34]? Lastly, I need the 2nd smallest number from the array [5, 2, 9, 3, 7]. \n",
      "\n",
      "Answer : [{\"name\": \"find_kth_smallest_number\", \"arguments\": {\"nums\": [10, 1, 3, 5, 9], \"k\": 3}}, {\"name\": \"find_kth_smallest_number\", \"arguments\": {\"nums\": [23, 45, 12, 8, 34], \"k\": 1}}, {\"name\": \"find_kth_smallest_number\", \"arguments\": {\"nums\": [5, 2, 9, 3, 7], \"k\": 2}}] \n",
      "\n",
      "Output : [{\"name\": \"find_kth_smallest_number\", \"arguments\": {\"nums\": [10, 1, 3, 5, 9], \"k\": 3}}, {\"name\": \"find_kth_smallest_number\", \"arguments\": {\"nums\": [23, 45, 12, 8, 34], \"k\": 1}}, {\"name\": \"find_kth_smallest_number\", \"arguments\": {\"nums\": [5, 2, 9, 3, 7], \"k\": 2}}]\n",
      "==========================================================================\n"
     ]
    },
    {
     "name": "stderr",
     "output_type": "stream",
     "text": [
      "The attention mask and the pad token id were not set. As a consequence, you may observe unexpected behavior. Please pass your input's `attention_mask` to obtain reliable results.\n",
      "Setting `pad_token_id` to `eos_token_id`:128009 for open-end generation.\n"
     ]
    },
    {
     "name": "stdout",
     "output_type": "stream",
     "text": [
      "Query : I have a string 'racecar'. What is the longest palindromic substring in this string? Also, I want to know if the number 64 is a power of 2 and if 100 is a power of 10. \n",
      "\n",
      "Answer : [{\"name\": \"find_longest_palindromic_substring\", \"arguments\": {\"s\": \"racecar\"}}, {\"name\": \"is_power\", \"arguments\": {\"num\": 64, \"base\": 2}}, {\"name\": \"is_power\", \"arguments\": {\"num\": 100, \"base\": 10}}] \n",
      "\n",
      "Output : [{\"name\": \"find_longest_palindromic_substring\", \"arguments\": {\"s\": \"racecar\"}}, {\"name\": \"is_power\", \"arguments\": {\"num\": 64, \"base\": 2}}, {\"name\": \"is_power\", \"arguments\": {\"num\": 100, \"base\": 10}}]\n",
      "==========================================================================\n"
     ]
    },
    {
     "name": "stderr",
     "output_type": "stream",
     "text": [
      "The attention mask and the pad token id were not set. As a consequence, you may observe unexpected behavior. Please pass your input's `attention_mask` to obtain reliable results.\n",
      "Setting `pad_token_id` to `eos_token_id`:128009 for open-end generation.\n"
     ]
    },
    {
     "name": "stdout",
     "output_type": "stream",
     "text": [
      "Query : What is the next greater element for each number in the list [5, 4, 3, 2, 1]? \n",
      "\n",
      "Answer : [{\"name\": \"find_next_greater_element\", \"arguments\": {\"nums\": [5, 4, 3, 2, 1]}}] \n",
      "\n",
      "Output : [{\"name\": \"find_next_greater_element\", \"arguments\": {\"nums\": [5, 4, 3, 2, 1]}}]\n",
      "==========================================================================\n"
     ]
    },
    {
     "name": "stderr",
     "output_type": "stream",
     "text": [
      "The attention mask and the pad token id were not set. As a consequence, you may observe unexpected behavior. Please pass your input's `attention_mask` to obtain reliable results.\n",
      "Setting `pad_token_id` to `eos_token_id`:128009 for open-end generation.\n"
     ]
    },
    {
     "name": "stdout",
     "output_type": "stream",
     "text": [
      "Query : What does the OBD2 code P0171 mean? \n",
      "\n",
      "Answer : [{\"name\": \"obd2_code\", \"arguments\": {\"code\": \"P0171\"}}] \n",
      "\n",
      "Output : [{\"name\": \"obd2_code\", \"arguments\": {\"code\": \"P0171\"}}]\n",
      "==========================================================================\n"
     ]
    },
    {
     "name": "stderr",
     "output_type": "stream",
     "text": [
      "The attention mask and the pad token id were not set. As a consequence, you may observe unexpected behavior. Please pass your input's `attention_mask` to obtain reliable results.\n",
      "Setting `pad_token_id` to `eos_token_id`:128009 for open-end generation.\n"
     ]
    },
    {
     "name": "stdout",
     "output_type": "stream",
     "text": [
      "Query : Calculate the number of permutations of 3 elements from a set of 10 elements. \n",
      "\n",
      "Answer : [{\"name\": \"permutation_count\", \"arguments\": {\"n\": 10, \"k\": 3}}] \n",
      "\n",
      "Output : [{\"name\": \"permutation_count\", \"arguments\": {\"n\": 10, \"k\": 3}}]\n",
      "==========================================================================\n"
     ]
    },
    {
     "name": "stderr",
     "output_type": "stream",
     "text": [
      "The attention mask and the pad token id were not set. As a consequence, you may observe unexpected behavior. Please pass your input's `attention_mask` to obtain reliable results.\n",
      "Setting `pad_token_id` to `eos_token_id`:128009 for open-end generation.\n"
     ]
    },
    {
     "name": "stdout",
     "output_type": "stream",
     "text": [
      "Query : Calculate the calories burned for 30 minutes of jogging at a weight of 180 pounds, and find exercises targeting the chest muscle. \n",
      "\n",
      "Answer : [{\"name\": \"v1_caloriesburned\", \"arguments\": {\"activity\": \"jogging\", \"weight\": 180, \"duration\": \"30\"}}, {\"name\": \"v1_exercises\", \"arguments\": {\"muscle\": \"chest\"}}] \n",
      "\n",
      "Output : [{\"name\": \"v1_caloriesburned\", \"arguments\": {\"activity\": \"jogging\", \"weight\": 180, \"duration\": \"30\"}}, {\"name\": \"v1_exercises\", \"arguments\": {\"muscle\": \"chest\"}}]\n",
      "==========================================================================\n"
     ]
    },
    {
     "name": "stderr",
     "output_type": "stream",
     "text": [
      "The attention mask and the pad token id were not set. As a consequence, you may observe unexpected behavior. Please pass your input's `attention_mask` to obtain reliable results.\n",
      "Setting `pad_token_id` to `eos_token_id`:128009 for open-end generation.\n"
     ]
    },
    {
     "name": "stdout",
     "output_type": "stream",
     "text": [
      "Query : Analyze the content of the website 'https://www.example.com' using the Toolbench RapidAPI service. \n",
      "\n",
      "Answer : [{\"name\": \"url_analysis\", \"arguments\": {\"url\": \"https://www.example.com\"}}] \n",
      "\n",
      "Output : [{\"name\": \"url_analysis\", \"arguments\": {\"url\": \"https://www.example.com\"}}]\n",
      "==========================================================================\n"
     ]
    },
    {
     "name": "stderr",
     "output_type": "stream",
     "text": [
      "The attention mask and the pad token id were not set. As a consequence, you may observe unexpected behavior. Please pass your input's `attention_mask` to obtain reliable results.\n",
      "Setting `pad_token_id` to `eos_token_id`:128009 for open-end generation.\n"
     ]
    },
    {
     "name": "stdout",
     "output_type": "stream",
     "text": [
      "Query : Can you provide the latest stock quotes for Apple, Microsoft, and Google? Also, could you give me a detailed summary of Apple's stock performance? \n",
      "\n",
      "Answer : [{\"name\": \"stock_quotes\", \"arguments\": {\"symbols\": \"AAPL,MSFT,GOOGL\"}}, {\"name\": \"summary_details\", \"arguments\": {\"symbol\": \"AAPL\"}}] \n",
      "\n",
      "Output : [{\"name\": \"stock_quotes\", \"arguments\": {\"symbols\": \"AAPL,MSFT,GLC\"}}, {\"name\": \"summary_details\", \"arguments\": {\"symbol\": \"AAPL\"}}]\n",
      "==========================================================================\n"
     ]
    },
    {
     "name": "stderr",
     "output_type": "stream",
     "text": [
      "The attention mask and the pad token id were not set. As a consequence, you may observe unexpected behavior. Please pass your input's `attention_mask` to obtain reliable results.\n",
      "Setting `pad_token_id` to `eos_token_id`:128009 for open-end generation.\n"
     ]
    },
    {
     "name": "stdout",
     "output_type": "stream",
     "text": [
      "Query : Search for countries in Europe with fields including 'population' and 'capital'. \n",
      "\n",
      "Answer : [{\"name\": \"search_countries_by_continent\", \"arguments\": {\"continent\": \"Europe\", \"fields\": \"population,capital\"}}] \n",
      "\n",
      "Output : [{\"name\": \"search_countries_by_continent\", \"arguments\": {\"continent\": \"Europe\", \"fields\": \"population,capital\"}}]\n",
      "==========================================================================\n"
     ]
    },
    {
     "name": "stderr",
     "output_type": "stream",
     "text": [
      "The attention mask and the pad token id were not set. As a consequence, you may observe unexpected behavior. Please pass your input's `attention_mask` to obtain reliable results.\n",
      "Setting `pad_token_id` to `eos_token_id`:128009 for open-end generation.\n"
     ]
    },
    {
     "name": "stdout",
     "output_type": "stream",
     "text": [
      "Query : Simulate rolling 2 dice, each with 6 sides, 3 times. \n",
      "\n",
      "Answer : [{\"name\": \"custom_dice_rolls\", \"arguments\": {\"dice\": 2, \"sides\": 6, \"rolls\": \"3\"}}] \n",
      "\n",
      "Output : [{\"name\": \"custom_dice_rolls\", \"arguments\": {\"dice\": 2, \"sides\": 6, \"rolls\": 3}}]\n",
      "==========================================================================\n"
     ]
    },
    {
     "name": "stderr",
     "output_type": "stream",
     "text": [
      "The attention mask and the pad token id were not set. As a consequence, you may observe unexpected behavior. Please pass your input's `attention_mask` to obtain reliable results.\n",
      "Setting `pad_token_id` to `eos_token_id`:128009 for open-end generation.\n"
     ]
    },
    {
     "name": "stdout",
     "output_type": "stream",
     "text": [
      "Query : Generate a password of 8 characters including special characters, and reverse the sentence 'To be or not to be, that is the question'. \n",
      "\n",
      "Answer : [{\"name\": \"generate_password\", \"arguments\": {\"length\": 8, \"include_special\": true}}, {\"name\": \"reverse_string\", \"arguments\": {\"text\": \"To be or not to be, that is the question\"}}] \n",
      "\n",
      "Output : [{\"name\": \"generate_password\", \"arguments\": {\"length\": 8, \"include_special\": true}}, {\"name\": \"reverse_string\", \"arguments\": {\"text\": \"To be or not to be, that is the question\"}}]\n",
      "==========================================================================\n"
     ]
    },
    {
     "name": "stderr",
     "output_type": "stream",
     "text": [
      "The attention mask and the pad token id were not set. As a consequence, you may observe unexpected behavior. Please pass your input's `attention_mask` to obtain reliable results.\n",
      "Setting `pad_token_id` to `eos_token_id`:128009 for open-end generation.\n"
     ]
    },
    {
     "name": "stdout",
     "output_type": "stream",
     "text": [
      "Query : Determine the exchange rate of AUD to NZD. \n",
      "\n",
      "Answer : [{\"name\": \"v1_exchangerate\", \"arguments\": {\"pair\": \"AUD_NZD\"}}] \n",
      "\n",
      "Output : [{\"name\": \"v1_exchangerate\", \"arguments\": {\"pair\": \"AUD_NZD\"}}]\n",
      "==========================================================================\n"
     ]
    },
    {
     "name": "stderr",
     "output_type": "stream",
     "text": [
      "The attention mask and the pad token id were not set. As a consequence, you may observe unexpected behavior. Please pass your input's `attention_mask` to obtain reliable results.\n",
      "Setting `pad_token_id` to `eos_token_id`:128009 for open-end generation.\n"
     ]
    },
    {
     "name": "stdout",
     "output_type": "stream",
     "text": [
      "Query : Which countries starting with the letter 'A' have an active pageant contest and what are the names of all cat breeds sorted in ascending order by their rarity? \n",
      "\n",
      "Answer : [{\"name\": \"search_country\", \"arguments\": {\"search\": \"A\"}}, {\"name\": \"order_by_ascending\", \"arguments\": {\"ordering\": \"rarity\"}}] \n",
      "\n",
      "Output : [{\"name\": \"search_country\", \"arguments\": {\"search\": \"A\"}}, {\"name\": \"order_by_ascending\", \"arguments\": {\"ordering\": \"rarity\"}}]\n",
      "==========================================================================\n"
     ]
    },
    {
     "name": "stderr",
     "output_type": "stream",
     "text": [
      "The attention mask and the pad token id were not set. As a consequence, you may observe unexpected behavior. Please pass your input's `attention_mask` to obtain reliable results.\n",
      "Setting `pad_token_id` to `eos_token_id`:128009 for open-end generation.\n"
     ]
    },
    {
     "name": "stdout",
     "output_type": "stream",
     "text": [
      "Query : Verify if marketing@newstartup.io is a valid email address. \n",
      "\n",
      "Answer : [{\"name\": \"email_checker\", \"arguments\": {\"email\": \"marketing@newstartup.io\"}}] \n",
      "\n",
      "Output : [{\"name\": \"email_checker\", \"arguments\": {\"email\": \"marketing@newstartup.io\"}}]\n",
      "==========================================================================\n"
     ]
    },
    {
     "name": "stderr",
     "output_type": "stream",
     "text": [
      "The attention mask and the pad token id were not set. As a consequence, you may observe unexpected behavior. Please pass your input's `attention_mask` to obtain reliable results.\n",
      "Setting `pad_token_id` to `eos_token_id`:128009 for open-end generation.\n"
     ]
    },
    {
     "name": "stdout",
     "output_type": "stream",
     "text": [
      "Query : Find the first unique character in 'unique' and 'character'. Also, generate a random string of length 4 with only digits. \n",
      "\n",
      "Answer : [{\"name\": \"find_first_non_repeating_char\", \"arguments\": {\"s\": \"unique\"}}, {\"name\": \"find_first_non_repeating_char\", \"arguments\": {\"s\": \"character\"}}, {\"name\": \"generate_random_string\", \"arguments\": {\"length\": 4, \"uppercase\": false, \"lowercase\": false, \"digits\": true, \"special_chars\": false}}] \n",
      "\n",
      "Output : [{\"name\": \"find_first_non_repeating_char\", \"arguments\": {\"s\": \"unique\"}}, {\"name\": \"find_first_non_repeating_char\", \"arguments\": {\"s\": \"character\"}}, {\"name\": \"generate_random_string\", \"arguments\": {\"length\": 4, \"digits\": True}}]\n",
      "==========================================================================\n"
     ]
    },
    {
     "name": "stderr",
     "output_type": "stream",
     "text": [
      "The attention mask and the pad token id were not set. As a consequence, you may observe unexpected behavior. Please pass your input's `attention_mask` to obtain reliable results.\n",
      "Setting `pad_token_id` to `eos_token_id`:128009 for open-end generation.\n"
     ]
    },
    {
     "name": "stdout",
     "output_type": "stream",
     "text": [
      "Query : Compute the factorial of twenty, please. Also, what are your thoughts on the new policy? \n",
      "\n",
      "Answer : [{\"name\": \"calculate_factorial\", \"arguments\": {\"n\": 20}}] \n",
      "\n",
      "Output : [{\"name\": \"calculate_factorial\", \"arguments\": {\"n\": 20}}]\n",
      "==========================================================================\n"
     ]
    },
    {
     "name": "stderr",
     "output_type": "stream",
     "text": [
      "The attention mask and the pad token id were not set. As a consequence, you may observe unexpected behavior. Please pass your input's `attention_mask` to obtain reliable results.\n",
      "Setting `pad_token_id` to `eos_token_id`:128009 for open-end generation.\n"
     ]
    },
    {
     "name": "stdout",
     "output_type": "stream",
     "text": [
      "Query : Could you fetch the air quality forecast for Mumbai, India, considering the city's default latitude and longitude? \n",
      "\n",
      "Answer : [{\"name\": \"air_quality_forecasts\", \"arguments\": {\"country\": \"India\", \"city\": \"Mumbai\"}}] \n",
      "\n",
      "Output : [{\"name\": \"air_quality_forecasts\", \"arguments\": {\"country\": \"India\", \"city\": \"Mumbai\", \"lat\": \"18.96\", \"lon\": \"72.82\"}}]\n",
      "==========================================================================\n"
     ]
    },
    {
     "name": "stderr",
     "output_type": "stream",
     "text": [
      "The attention mask and the pad token id were not set. As a consequence, you may observe unexpected behavior. Please pass your input's `attention_mask` to obtain reliable results.\n",
      "Setting `pad_token_id` to `eos_token_id`:128009 for open-end generation.\n"
     ]
    },
    {
     "name": "stdout",
     "output_type": "stream",
     "text": [
      "Query : Get the T3MA for 'SPY' with a volume factor of 3, using daily intervals for the last 30 days. \n",
      "\n",
      "Answer : [{\"name\": \"t3ma\", \"arguments\": {\"symbol\": \"SPY\", \"interval\": \"1day\", \"v_factor\": 3, \"outputsize\": 30}}] \n",
      "\n",
      "Output : [{\"name\": \"t3ma\", \"arguments\": {\"symbol\": \"SPY\", \"interval\": \"1day\", \"format\": \"json\", \"v_factor\": 3, \"series_type\": \"close\", \"outputsize\": 30}}]\n",
      "==========================================================================\n"
     ]
    },
    {
     "name": "stderr",
     "output_type": "stream",
     "text": [
      "The attention mask and the pad token id were not set. As a consequence, you may observe unexpected behavior. Please pass your input's `attention_mask` to obtain reliable results.\n",
      "Setting `pad_token_id` to `eos_token_id`:128009 for open-end generation.\n"
     ]
    },
    {
     "name": "stdout",
     "output_type": "stream",
     "text": [
      "Query : What are the social dynamics like in a large group of 50, with 30 extroverts and 20 introverts? \n",
      "\n",
      "Answer : [{\"name\": \"analyze_social_group_dynamics\", \"arguments\": {\"total\": 50, \"extroverts\": 30, \"introverts\": 20}}] \n",
      "\n",
      "Output : [{\"name\": \"analyze_social_group_dynamics\", \"arguments\": {\"total\": 50, \"extroverts\": 30, \"introverts\": 20}}]\n",
      "==========================================================================\n"
     ]
    },
    {
     "name": "stderr",
     "output_type": "stream",
     "text": [
      "The attention mask and the pad token id were not set. As a consequence, you may observe unexpected behavior. Please pass your input's `attention_mask` to obtain reliable results.\n",
      "Setting `pad_token_id` to `eos_token_id`:128009 for open-end generation.\n"
     ]
    },
    {
     "name": "stdout",
     "output_type": "stream",
     "text": [
      "Query : Fetch currency options data for the stock identified by the slug 'tsla'. \n",
      "\n",
      "Answer : [{\"name\": \"currency_options\", \"arguments\": {\"slug\": \"tsla\"}}] \n",
      "\n",
      "Output : [{\"name\": \"currency_options\", \"arguments\": {\"slug\": \"tsla\"}}]\n",
      "==========================================================================\n"
     ]
    },
    {
     "name": "stderr",
     "output_type": "stream",
     "text": [
      "The attention mask and the pad token id were not set. As a consequence, you may observe unexpected behavior. Please pass your input's `attention_mask` to obtain reliable results.\n",
      "Setting `pad_token_id` to `eos_token_id`:128009 for open-end generation.\n"
     ]
    },
    {
     "name": "stdout",
     "output_type": "stream",
     "text": [
      "Query : How many set bits are there in the binary representation of the number 23? \n",
      "\n",
      "Answer : [{\"name\": \"count_bits\", \"arguments\": {\"num\": 23}}] \n",
      "\n",
      "Output : [{\"name\": \"count_bits\", \"arguments\": {\"num\": 23}}]\n",
      "==========================================================================\n"
     ]
    },
    {
     "name": "stderr",
     "output_type": "stream",
     "text": [
      "The attention mask and the pad token id were not set. As a consequence, you may observe unexpected behavior. Please pass your input's `attention_mask` to obtain reliable results.\n",
      "Setting `pad_token_id` to `eos_token_id`:128009 for open-end generation.\n"
     ]
    },
    {
     "name": "stdout",
     "output_type": "stream",
     "text": [
      "Query : Fetch head-to-head statistics for the match with ID 9876, limiting to the last 3 encounters. \n",
      "\n",
      "Answer : [{\"name\": \"head_to_head\", \"arguments\": {\"is_id\": 9876, \"limit\": 3}}] \n",
      "\n",
      "Output : [{\"name\": \"head_to_head\", \"arguments\": {\"is_id\": 9876, \"limit\": 3}}]\n",
      "==========================================================================\n"
     ]
    },
    {
     "name": "stderr",
     "output_type": "stream",
     "text": [
      "The attention mask and the pad token id were not set. As a consequence, you may observe unexpected behavior. Please pass your input's `attention_mask` to obtain reliable results.\n",
      "Setting `pad_token_id` to `eos_token_id`:128009 for open-end generation.\n"
     ]
    },
    {
     "name": "stdout",
     "output_type": "stream",
     "text": [
      "Query : Retrieve trading signals and trends for Bitcoin on the Binance exchange in the SPOT market. \n",
      "\n",
      "Answer : [{\"name\": \"get_signals\", \"arguments\": {\"coin\": \"BTC\", \"exchange\": \"Binance\", \"market_type\": \"SPOT\"}}] \n",
      "\n",
      "Output : [{\"name\": \"get_signals\", \"arguments\": {\"coin\": \"BTC\", \"exchange\": \"Binance\", \"market_type\": \"SPOT\"}}]\n",
      "==========================================================================\n"
     ]
    },
    {
     "name": "stderr",
     "output_type": "stream",
     "text": [
      "The attention mask and the pad token id were not set. As a consequence, you may observe unexpected behavior. Please pass your input's `attention_mask` to obtain reliable results.\n",
      "Setting `pad_token_id` to `eos_token_id`:128009 for open-end generation.\n"
     ]
    },
    {
     "name": "stdout",
     "output_type": "stream",
     "text": [
      "Query : Fetch details of expired users with a specific field 'email' starting from offset 600 in Mountain Time Zone. \n",
      "\n",
      "Answer : [{\"name\": \"list\", \"arguments\": {\"sort\": \"value\", \"signend\": \"value\", \"signstart\": \"value\", \"apptoken\": \"value\", \"xbc\": \"value\", \"timezone\": \"America/Denver\", \"useragent\": \"value\", \"field\": \"email\", \"offset\": \"600\", \"sess\": \"value\", \"auth_id\": \"value\"}}] \n",
      "\n",
      "Output : [{\"name\": \"list\", \"arguments\": {\"sort\": \"\", \"signend\": \"\", \"signstart\": \"\", \"apptoken\": \"\", \"xbc\": \"\", \"timezone\": \"America/Mountain\", \"useragent\": \"\", \"field\": \"email\", \"offset\": \"600\", \"sess\": \"\", \"auth_id\": \"\"}}]\n",
      "==========================================================================\n"
     ]
    },
    {
     "name": "stderr",
     "output_type": "stream",
     "text": [
      "The attention mask and the pad token id were not set. As a consequence, you may observe unexpected behavior. Please pass your input's `attention_mask` to obtain reliable results.\n",
      "Setting `pad_token_id` to `eos_token_id`:128009 for open-end generation.\n"
     ]
    },
    {
     "name": "stdout",
     "output_type": "stream",
     "text": [
      "Query : What is the neuronal activity rate for a synaptic input rate of 10 per second, a synaptic weight of 2.5, and a decay constant of 0.2? \n",
      "\n",
      "Answer : [{\"name\": \"neuronal_activity_rate\", \"arguments\": {\"synaptic_input_rate\": 10, \"synaptic_weight\": 2.5, \"decay_constant\": 0.2}}] \n",
      "\n",
      "Output : [{\"name\": \"neuronal_activity_rate\", \"arguments\": {\"synaptic_input_rate\": 10, \"synaptic_weight\": 2.5, \"decay_constant\": 0.2}}]\n",
      "==========================================================================\n"
     ]
    },
    {
     "name": "stderr",
     "output_type": "stream",
     "text": [
      "The attention mask and the pad token id were not set. As a consequence, you may observe unexpected behavior. Please pass your input's `attention_mask` to obtain reliable results.\n",
      "Setting `pad_token_id` to `eos_token_id`:128009 for open-end generation.\n"
     ]
    },
    {
     "name": "stdout",
     "output_type": "stream",
     "text": [
      "Query : I'm doing a project on e-commerce sites. Can you capture images of 'https://www.amazon.com' with a width of 1300 pixels and a height of 1000 pixels? Also, I need one of 'https://www.ebay.com' with a width of 1400 pixels and a height of 1100 pixels. \n",
      "\n",
      "Answer : [{\"name\": \"take_image_screenshot\", \"arguments\": {\"width\": 1300, \"url\": \"https://www.amazon.com\", \"height\": 1000}}, {\"name\": \"take_image_screenshot\", \"arguments\": {\"width\": 1400, \"url\": \"https://www.ebay.com\", \"height\": 1100}}] \n",
      "\n",
      "Output : [{\"name\": \"take_image_screenshot\", \"arguments\": {\"width\": 1300, \"url\": \"https://www.amazon.com\", \"height\": 1000}}, {\"name\": \"take_image_screenshot\", \"arguments\": {\"width\": 1400, \"url\": \"https://www.ebay.com\", \"height\": 1100}}]\n",
      "==========================================================================\n"
     ]
    },
    {
     "name": "stderr",
     "output_type": "stream",
     "text": [
      "The attention mask and the pad token id were not set. As a consequence, you may observe unexpected behavior. Please pass your input's `attention_mask` to obtain reliable results.\n",
      "Setting `pad_token_id` to `eos_token_id`:128009 for open-end generation.\n"
     ]
    },
    {
     "name": "stdout",
     "output_type": "stream",
     "text": [
      "Query : Can you fetch the details of the YouTube video with ID 'dQw4w9WgXcQ' and also get a cat image for HTTP status code 200? \n",
      "\n",
      "Answer : [{\"name\": \"video_details\", \"arguments\": {\"is_id\": \"dQw4w9WgXcQ\"}}, {\"name\": \"get_status_cat_image\", \"arguments\": {\"status\": \"200\"}}] \n",
      "\n",
      "Output : [{\"name\": \"video_details\", \"arguments\": {\"is_id\": \"dQw4w9WgXcQ\"}}, {\"name\": \"get_status_cat_image\", \"arguments\": {\"status\": \"200\"}}]\n",
      "==========================================================================\n"
     ]
    },
    {
     "name": "stderr",
     "output_type": "stream",
     "text": [
      "The attention mask and the pad token id were not set. As a consequence, you may observe unexpected behavior. Please pass your input's `attention_mask` to obtain reliable results.\n",
      "Setting `pad_token_id` to `eos_token_id`:128009 for open-end generation.\n"
     ]
    },
    {
     "name": "stdout",
     "output_type": "stream",
     "text": [
      "Query : What is the weather forecast for Sydney, Australia for the next 3 days? \n",
      "\n",
      "Answer : [{\"name\": \"forecast_weather_api\", \"arguments\": {\"q\": \"Sydney\", \"days\": 3}}] \n",
      "\n",
      "Output : [{\"name\": \"forecast_weather_api\", \"arguments\": {\"q\": \"Sydney, Australia\", \"days\": 3}}]\n",
      "==========================================================================\n"
     ]
    },
    {
     "name": "stderr",
     "output_type": "stream",
     "text": [
      "The attention mask and the pad token id were not set. As a consequence, you may observe unexpected behavior. Please pass your input's `attention_mask` to obtain reliable results.\n",
      "Setting `pad_token_id` to `eos_token_id`:128009 for open-end generation.\n"
     ]
    },
    {
     "name": "stdout",
     "output_type": "stream",
     "text": [
      "Query : What is the distance between H3 indexes '8d2baad9c6f073f' and '8d09a6b6ed2d37f'? Also, fetch the map tile at coordinates (10, 20) with zoom level 5. \n",
      "\n",
      "Answer : [{\"name\": \"query_for_distance_between_two_h3_indexes\", \"arguments\": {\"h3index1\": \"8d2baad9c6f073f\", \"h3index2\": \"8d09a6b6ed2d37f\"}}, {\"name\": \"getstandardmaptile\", \"arguments\": {\"y\": 10, \"x\": 20, \"z\": 5}}] \n",
      "\n",
      "Output : [{\"name\": \"query_for_distance_between_two_h3_indexes\", \"arguments\": {\"h3index1\": \"8d2baad9c6f073f\", \"h3index2\": \"8d09a6b6ed2d37f\"}}, {\"name\": \"getstandardmaptile\", \"arguments\": {\"y\": 20, \"x\": 10, \"z\": 5}}]\n",
      "==========================================================================\n"
     ]
    },
    {
     "name": "stderr",
     "output_type": "stream",
     "text": [
      "The attention mask and the pad token id were not set. As a consequence, you may observe unexpected behavior. Please pass your input's `attention_mask` to obtain reliable results.\n",
      "Setting `pad_token_id` to `eos_token_id`:128009 for open-end generation.\n"
     ]
    },
    {
     "name": "stdout",
     "output_type": "stream",
     "text": [
      "Query : How many grams of sugar are there in 2 cups? \n",
      "\n",
      "Answer : [{\"name\": \"convert_cooking_measurements\", \"arguments\": {\"quantity\": 2, \"from_unit\": \"cup\", \"to_unit\": \"gram\", \"item\": \"sugar\"}}] \n",
      "\n",
      "Output : [{\"name\": \"convert_cooking_measurements\", \"arguments\": {\"quantity\": 2000, \"from_unit\": \"cup\", \"to_unit\": \"gram\", \"item\": \"sugar\"}}]\n",
      "==========================================================================\n"
     ]
    },
    {
     "name": "stderr",
     "output_type": "stream",
     "text": [
      "The attention mask and the pad token id were not set. As a consequence, you may observe unexpected behavior. Please pass your input's `attention_mask` to obtain reliable results.\n",
      "Setting `pad_token_id` to `eos_token_id`:128009 for open-end generation.\n"
     ]
    },
    {
     "name": "stdout",
     "output_type": "stream",
     "text": [
      "Query : Can you fetch the theme details for ID 12345 and all KFC locations in California on page 1? \n",
      "\n",
      "Answer : [{\"name\": \"theme_detail\", \"arguments\": {\"dtid\": 12345}}, {\"name\": \"get_all_kfc_locations_by_state\", \"arguments\": {\"page\": 1, \"state\": \"CA\"}}] \n",
      "\n",
      "Output : [{\"name\": \"theme_detail\", \"arguments\": {\"dtid\": 12345}}, {\"name\": \"get_all_kfc_locations_by_state\", \"arguments\": {\"page\": 1, \"state\": \"CA\"}}]\n",
      "==========================================================================\n"
     ]
    },
    {
     "name": "stderr",
     "output_type": "stream",
     "text": [
      "The attention mask and the pad token id were not set. As a consequence, you may observe unexpected behavior. Please pass your input's `attention_mask` to obtain reliable results.\n",
      "Setting `pad_token_id` to `eos_token_id`:128009 for open-end generation.\n"
     ]
    },
    {
     "name": "stdout",
     "output_type": "stream",
     "text": [
      "Query : Get the catalog albums chart for the week starting October 1, 2022. \n",
      "\n",
      "Answer : [{\"name\": \"catalog_albums\", \"arguments\": {\"week\": \"2022-10-01\"}}] \n",
      "\n",
      "Output : [{\"name\": \"catalog_albums\", \"arguments\": {\"week\": \"2022-10-01\"}}]\n",
      "==========================================================================\n"
     ]
    },
    {
     "name": "stderr",
     "output_type": "stream",
     "text": [
      "The attention mask and the pad token id were not set. As a consequence, you may observe unexpected behavior. Please pass your input's `attention_mask` to obtain reliable results.\n",
      "Setting `pad_token_id` to `eos_token_id`:128009 for open-end generation.\n"
     ]
    },
    {
     "name": "stdout",
     "output_type": "stream",
     "text": [
      "Query : Get information about stickers with ids 123, 456, and 789 using the RapidAPI service. \n",
      "\n",
      "Answer : [{\"name\": \"v1_sticker\", \"arguments\": {\"sticker_ids\": \"123,456,789\"}}] \n",
      "\n",
      "Output : [{\"name\": \"v1_sticker\", \"arguments\": {\"sticker_ids\": \"123,456,789\"}}]\n",
      "==========================================================================\n"
     ]
    },
    {
     "name": "stderr",
     "output_type": "stream",
     "text": [
      "The attention mask and the pad token id were not set. As a consequence, you may observe unexpected behavior. Please pass your input's `attention_mask` to obtain reliable results.\n",
      "Setting `pad_token_id` to `eos_token_id`:128009 for open-end generation.\n"
     ]
    },
    {
     "name": "stdout",
     "output_type": "stream",
     "text": [
      "Query : What is the information about the TV show with ID 12345? \n",
      "\n",
      "Answer : [{\"name\": \"shows_id\", \"arguments\": {\"is_id\": 12345}}] \n",
      "\n",
      "Output : [{\"name\": \"shows_id\", \"arguments\": {\"is_id\": 12345}}]\n",
      "==========================================================================\n",
      "Query : Check the validity of parentheses in '(({[]}))' and count the occurrences of each color in ['red', 'blue', 'red', 'green', 'blue', 'blue', 'red']. \n",
      "\n",
      "Answer : [{\"name\": \"is_valid_parentheses\", \"arguments\": {\"s\": \"(({[]}))\"}}, {\"name\": \"count_occurrences\", \"arguments\": {\"lst\": [\"red\", \"blue\", \"red\", \"green\", \"blue\", \"blue\", \"red\"]}}] \n",
      "\n",
      "Output : [{\"name\": \"is_valid_parentheses\", \"arguments\": {\"s\": \"(({[]}))\"}}, {\"name\": \"count_occurrences\", \"arguments\": {\"lst\": [\"red\", \"blue\", \"red\", \"green\", \"blue\", \"blue\", \"red\"]}}]\n",
      "==========================================================================\n"
     ]
    }
   ],
   "source": [
    "for item in raw_dataset['test']:\n",
    "    Q = item['query']\n",
    "    T = item['tools']\n",
    "    A = item['answers']\n",
    "    x2['content'] = f'{user_template.format(Q=Q,T=T)}'\n",
    "    x3['content'] = f'{response_template.format(A=A)}'\n",
    "    prompts = [x1,x2]\n",
    "    input_ids = tokenizer.apply_chat_template(\n",
    "        prompts,\n",
    "        add_generation_prompt=True,\n",
    "        return_tensors=\"pt\"\n",
    "        ).to(model.device)\n",
    "    \n",
    "    with torch.no_grad():\n",
    "        outputs = model.generate(\n",
    "            input_ids,\n",
    "            max_new_tokens=256,\n",
    "            eos_token_id=terminators\n",
    "            )\n",
    "    \n",
    "    response = outputs[0][input_ids.shape[-1]:]\n",
    "    print(f\"Query : {Q} \\n\")\n",
    "#     print(f\"Tools : {T} \\n\")\n",
    "    print(f\"Answer : {A} \\n\")\n",
    "    print(f\"Output : {tokenizer.decode(response, skip_special_tokens=True)}\")\n",
    "    print(\"==========================================================================\")"
   ]
  },
  {
   "cell_type": "code",
   "execution_count": null,
   "id": "243c1cd4",
   "metadata": {
    "papermill": {
     "duration": 0.033727,
     "end_time": "2024-07-21T19:30:09.883105",
     "exception": false,
     "start_time": "2024-07-21T19:30:09.849378",
     "status": "completed"
    },
    "tags": []
   },
   "outputs": [],
   "source": []
  }
 ],
 "metadata": {
  "kaggle": {
   "accelerator": "gpu",
   "dataSources": [],
   "dockerImageVersionId": 30747,
   "isGpuEnabled": true,
   "isInternetEnabled": true,
   "language": "python",
   "sourceType": "notebook"
  },
  "kernelspec": {
   "display_name": "Python 3",
   "language": "python",
   "name": "python3"
  },
  "language_info": {
   "codemirror_mode": {
    "name": "ipython",
    "version": 3
   },
   "file_extension": ".py",
   "mimetype": "text/x-python",
   "name": "python",
   "nbconvert_exporter": "python",
   "pygments_lexer": "ipython3",
   "version": "3.10.13"
  },
  "papermill": {
   "default_parameters": {},
   "duration": 779.525712,
   "end_time": "2024-07-21T19:30:12.918405",
   "environment_variables": {},
   "exception": null,
   "input_path": "__notebook__.ipynb",
   "output_path": "__notebook__.ipynb",
   "parameters": {},
   "start_time": "2024-07-21T19:17:13.392693",
   "version": "2.5.0"
  },
  "widgets": {
   "application/vnd.jupyter.widget-state+json": {
    "state": {
     "00afc68bc7ed44578e17d026d9a62d8d": {
      "model_module": "@jupyter-widgets/base",
      "model_module_version": "1.2.0",
      "model_name": "LayoutModel",
      "state": {
       "_model_module": "@jupyter-widgets/base",
       "_model_module_version": "1.2.0",
       "_model_name": "LayoutModel",
       "_view_count": null,
       "_view_module": "@jupyter-widgets/base",
       "_view_module_version": "1.2.0",
       "_view_name": "LayoutView",
       "align_content": null,
       "align_items": null,
       "align_self": null,
       "border": null,
       "bottom": null,
       "display": null,
       "flex": null,
       "flex_flow": null,
       "grid_area": null,
       "grid_auto_columns": null,
       "grid_auto_flow": null,
       "grid_auto_rows": null,
       "grid_column": null,
       "grid_gap": null,
       "grid_row": null,
       "grid_template_areas": null,
       "grid_template_columns": null,
       "grid_template_rows": null,
       "height": null,
       "justify_content": null,
       "justify_items": null,
       "left": null,
       "margin": null,
       "max_height": null,
       "max_width": null,
       "min_height": null,
       "min_width": null,
       "object_fit": null,
       "object_position": null,
       "order": null,
       "overflow": null,
       "overflow_x": null,
       "overflow_y": null,
       "padding": null,
       "right": null,
       "top": null,
       "visibility": null,
       "width": null
      }
     },
     "0128e319ea784eb79908e5a696b6c1aa": {
      "model_module": "@jupyter-widgets/base",
      "model_module_version": "1.2.0",
      "model_name": "LayoutModel",
      "state": {
       "_model_module": "@jupyter-widgets/base",
       "_model_module_version": "1.2.0",
       "_model_name": "LayoutModel",
       "_view_count": null,
       "_view_module": "@jupyter-widgets/base",
       "_view_module_version": "1.2.0",
       "_view_name": "LayoutView",
       "align_content": null,
       "align_items": null,
       "align_self": null,
       "border": null,
       "bottom": null,
       "display": null,
       "flex": null,
       "flex_flow": null,
       "grid_area": null,
       "grid_auto_columns": null,
       "grid_auto_flow": null,
       "grid_auto_rows": null,
       "grid_column": null,
       "grid_gap": null,
       "grid_row": null,
       "grid_template_areas": null,
       "grid_template_columns": null,
       "grid_template_rows": null,
       "height": null,
       "justify_content": null,
       "justify_items": null,
       "left": null,
       "margin": null,
       "max_height": null,
       "max_width": null,
       "min_height": null,
       "min_width": null,
       "object_fit": null,
       "object_position": null,
       "order": null,
       "overflow": null,
       "overflow_x": null,
       "overflow_y": null,
       "padding": null,
       "right": null,
       "top": null,
       "visibility": null,
       "width": null
      }
     },
     "023e5acda86a4af5a8642de5652449bd": {
      "model_module": "@jupyter-widgets/controls",
      "model_module_version": "1.5.0",
      "model_name": "HTMLModel",
      "state": {
       "_dom_classes": [],
       "_model_module": "@jupyter-widgets/controls",
       "_model_module_version": "1.5.0",
       "_model_name": "HTMLModel",
       "_view_count": null,
       "_view_module": "@jupyter-widgets/controls",
       "_view_module_version": "1.5.0",
       "_view_name": "HTMLView",
       "description": "",
       "description_tooltip": null,
       "layout": "IPY_MODEL_169feed6fab34a1f8fa809475b3788a4",
       "placeholder": "​",
       "style": "IPY_MODEL_6c3a3b903f1945219279016683d61db4",
       "value": " 96.1M/96.1M [00:00&lt;00:00, 133MB/s]"
      }
     },
     "05a0ced419714e35a3bc8b4f49893312": {
      "model_module": "@jupyter-widgets/controls",
      "model_module_version": "1.5.0",
      "model_name": "HTMLModel",
      "state": {
       "_dom_classes": [],
       "_model_module": "@jupyter-widgets/controls",
       "_model_module_version": "1.5.0",
       "_model_name": "HTMLModel",
       "_view_count": null,
       "_view_module": "@jupyter-widgets/controls",
       "_view_module_version": "1.5.0",
       "_view_name": "HTMLView",
       "description": "",
       "description_tooltip": null,
       "layout": "IPY_MODEL_e9cb5d7ac4e844fb8cf58feb9a31d130",
       "placeholder": "​",
       "style": "IPY_MODEL_e670db2456564df99ff195b642e73cf0",
       "value": "special_tokens_map.json: 100%"
      }
     },
     "05cc72ec8f6c4329b15c43212d680866": {
      "model_module": "@jupyter-widgets/base",
      "model_module_version": "1.2.0",
      "model_name": "LayoutModel",
      "state": {
       "_model_module": "@jupyter-widgets/base",
       "_model_module_version": "1.2.0",
       "_model_name": "LayoutModel",
       "_view_count": null,
       "_view_module": "@jupyter-widgets/base",
       "_view_module_version": "1.2.0",
       "_view_name": "LayoutView",
       "align_content": null,
       "align_items": null,
       "align_self": null,
       "border": null,
       "bottom": null,
       "display": null,
       "flex": null,
       "flex_flow": null,
       "grid_area": null,
       "grid_auto_columns": null,
       "grid_auto_flow": null,
       "grid_auto_rows": null,
       "grid_column": null,
       "grid_gap": null,
       "grid_row": null,
       "grid_template_areas": null,
       "grid_template_columns": null,
       "grid_template_rows": null,
       "height": null,
       "justify_content": null,
       "justify_items": null,
       "left": null,
       "margin": null,
       "max_height": null,
       "max_width": null,
       "min_height": null,
       "min_width": null,
       "object_fit": null,
       "object_position": null,
       "order": null,
       "overflow": null,
       "overflow_x": null,
       "overflow_y": null,
       "padding": null,
       "right": null,
       "top": null,
       "visibility": null,
       "width": null
      }
     },
     "08c3642445b2465bbbb23a943addd6e8": {
      "model_module": "@jupyter-widgets/base",
      "model_module_version": "1.2.0",
      "model_name": "LayoutModel",
      "state": {
       "_model_module": "@jupyter-widgets/base",
       "_model_module_version": "1.2.0",
       "_model_name": "LayoutModel",
       "_view_count": null,
       "_view_module": "@jupyter-widgets/base",
       "_view_module_version": "1.2.0",
       "_view_name": "LayoutView",
       "align_content": null,
       "align_items": null,
       "align_self": null,
       "border": null,
       "bottom": null,
       "display": null,
       "flex": null,
       "flex_flow": null,
       "grid_area": null,
       "grid_auto_columns": null,
       "grid_auto_flow": null,
       "grid_auto_rows": null,
       "grid_column": null,
       "grid_gap": null,
       "grid_row": null,
       "grid_template_areas": null,
       "grid_template_columns": null,
       "grid_template_rows": null,
       "height": null,
       "justify_content": null,
       "justify_items": null,
       "left": null,
       "margin": null,
       "max_height": null,
       "max_width": null,
       "min_height": null,
       "min_width": null,
       "object_fit": null,
       "object_position": null,
       "order": null,
       "overflow": null,
       "overflow_x": null,
       "overflow_y": null,
       "padding": null,
       "right": null,
       "top": null,
       "visibility": null,
       "width": null
      }
     },
     "0989f88fc9564cc4a225c27d0f178218": {
      "model_module": "@jupyter-widgets/base",
      "model_module_version": "1.2.0",
      "model_name": "LayoutModel",
      "state": {
       "_model_module": "@jupyter-widgets/base",
       "_model_module_version": "1.2.0",
       "_model_name": "LayoutModel",
       "_view_count": null,
       "_view_module": "@jupyter-widgets/base",
       "_view_module_version": "1.2.0",
       "_view_name": "LayoutView",
       "align_content": null,
       "align_items": null,
       "align_self": null,
       "border": null,
       "bottom": null,
       "display": null,
       "flex": null,
       "flex_flow": null,
       "grid_area": null,
       "grid_auto_columns": null,
       "grid_auto_flow": null,
       "grid_auto_rows": null,
       "grid_column": null,
       "grid_gap": null,
       "grid_row": null,
       "grid_template_areas": null,
       "grid_template_columns": null,
       "grid_template_rows": null,
       "height": null,
       "justify_content": null,
       "justify_items": null,
       "left": null,
       "margin": null,
       "max_height": null,
       "max_width": null,
       "min_height": null,
       "min_width": null,
       "object_fit": null,
       "object_position": null,
       "order": null,
       "overflow": null,
       "overflow_x": null,
       "overflow_y": null,
       "padding": null,
       "right": null,
       "top": null,
       "visibility": null,
       "width": null
      }
     },
     "0f2dd0d921dc4203b99602b509d4d560": {
      "model_module": "@jupyter-widgets/base",
      "model_module_version": "1.2.0",
      "model_name": "LayoutModel",
      "state": {
       "_model_module": "@jupyter-widgets/base",
       "_model_module_version": "1.2.0",
       "_model_name": "LayoutModel",
       "_view_count": null,
       "_view_module": "@jupyter-widgets/base",
       "_view_module_version": "1.2.0",
       "_view_name": "LayoutView",
       "align_content": null,
       "align_items": null,
       "align_self": null,
       "border": null,
       "bottom": null,
       "display": null,
       "flex": null,
       "flex_flow": null,
       "grid_area": null,
       "grid_auto_columns": null,
       "grid_auto_flow": null,
       "grid_auto_rows": null,
       "grid_column": null,
       "grid_gap": null,
       "grid_row": null,
       "grid_template_areas": null,
       "grid_template_columns": null,
       "grid_template_rows": null,
       "height": null,
       "justify_content": null,
       "justify_items": null,
       "left": null,
       "margin": null,
       "max_height": null,
       "max_width": null,
       "min_height": null,
       "min_width": null,
       "object_fit": null,
       "object_position": null,
       "order": null,
       "overflow": null,
       "overflow_x": null,
       "overflow_y": null,
       "padding": null,
       "right": null,
       "top": null,
       "visibility": null,
       "width": null
      }
     },
     "0f92ad38de574e7cbde8c4817496c566": {
      "model_module": "@jupyter-widgets/base",
      "model_module_version": "1.2.0",
      "model_name": "LayoutModel",
      "state": {
       "_model_module": "@jupyter-widgets/base",
       "_model_module_version": "1.2.0",
       "_model_name": "LayoutModel",
       "_view_count": null,
       "_view_module": "@jupyter-widgets/base",
       "_view_module_version": "1.2.0",
       "_view_name": "LayoutView",
       "align_content": null,
       "align_items": null,
       "align_self": null,
       "border": null,
       "bottom": null,
       "display": null,
       "flex": null,
       "flex_flow": null,
       "grid_area": null,
       "grid_auto_columns": null,
       "grid_auto_flow": null,
       "grid_auto_rows": null,
       "grid_column": null,
       "grid_gap": null,
       "grid_row": null,
       "grid_template_areas": null,
       "grid_template_columns": null,
       "grid_template_rows": null,
       "height": null,
       "justify_content": null,
       "justify_items": null,
       "left": null,
       "margin": null,
       "max_height": null,
       "max_width": null,
       "min_height": null,
       "min_width": null,
       "object_fit": null,
       "object_position": null,
       "order": null,
       "overflow": null,
       "overflow_x": null,
       "overflow_y": null,
       "padding": null,
       "right": null,
       "top": null,
       "visibility": null,
       "width": null
      }
     },
     "11ff1308bfdb4d879f4562b6372b009d": {
      "model_module": "@jupyter-widgets/controls",
      "model_module_version": "1.5.0",
      "model_name": "FloatProgressModel",
      "state": {
       "_dom_classes": [],
       "_model_module": "@jupyter-widgets/controls",
       "_model_module_version": "1.5.0",
       "_model_name": "FloatProgressModel",
       "_view_count": null,
       "_view_module": "@jupyter-widgets/controls",
       "_view_module_version": "1.5.0",
       "_view_name": "ProgressView",
       "bar_style": "success",
       "description": "",
       "description_tooltip": null,
       "layout": "IPY_MODEL_29bb27cd31b24c29bec18a4c2af537ca",
       "max": 2.0,
       "min": 0.0,
       "orientation": "horizontal",
       "style": "IPY_MODEL_5bee5a5f65554d3aa877b93e4335289a",
       "value": 2.0
      }
     },
     "1367294f36344b9489a408b94c0db956": {
      "model_module": "@jupyter-widgets/controls",
      "model_module_version": "1.5.0",
      "model_name": "FloatProgressModel",
      "state": {
       "_dom_classes": [],
       "_model_module": "@jupyter-widgets/controls",
       "_model_module_version": "1.5.0",
       "_model_name": "FloatProgressModel",
       "_view_count": null,
       "_view_module": "@jupyter-widgets/controls",
       "_view_module_version": "1.5.0",
       "_view_name": "ProgressView",
       "bar_style": "success",
       "description": "",
       "description_tooltip": null,
       "layout": "IPY_MODEL_96c7348ef63f4399835b8510e32138e0",
       "max": 1050673280.0,
       "min": 0.0,
       "orientation": "horizontal",
       "style": "IPY_MODEL_8869c78bedcb489ea8ff2c53b28a5dec",
       "value": 1050673280.0
      }
     },
     "14923b0898fa482ca54aff07446b1438": {
      "model_module": "@jupyter-widgets/controls",
      "model_module_version": "1.5.0",
      "model_name": "DescriptionStyleModel",
      "state": {
       "_model_module": "@jupyter-widgets/controls",
       "_model_module_version": "1.5.0",
       "_model_name": "DescriptionStyleModel",
       "_view_count": null,
       "_view_module": "@jupyter-widgets/base",
       "_view_module_version": "1.2.0",
       "_view_name": "StyleView",
       "description_width": ""
      }
     },
     "15ad039b545c4a9f9425add84f4d93b3": {
      "model_module": "@jupyter-widgets/controls",
      "model_module_version": "1.5.0",
      "model_name": "ProgressStyleModel",
      "state": {
       "_model_module": "@jupyter-widgets/controls",
       "_model_module_version": "1.5.0",
       "_model_name": "ProgressStyleModel",
       "_view_count": null,
       "_view_module": "@jupyter-widgets/base",
       "_view_module_version": "1.2.0",
       "_view_name": "StyleView",
       "bar_color": null,
       "description_width": ""
      }
     },
     "169feed6fab34a1f8fa809475b3788a4": {
      "model_module": "@jupyter-widgets/base",
      "model_module_version": "1.2.0",
      "model_name": "LayoutModel",
      "state": {
       "_model_module": "@jupyter-widgets/base",
       "_model_module_version": "1.2.0",
       "_model_name": "LayoutModel",
       "_view_count": null,
       "_view_module": "@jupyter-widgets/base",
       "_view_module_version": "1.2.0",
       "_view_name": "LayoutView",
       "align_content": null,
       "align_items": null,
       "align_self": null,
       "border": null,
       "bottom": null,
       "display": null,
       "flex": null,
       "flex_flow": null,
       "grid_area": null,
       "grid_auto_columns": null,
       "grid_auto_flow": null,
       "grid_auto_rows": null,
       "grid_column": null,
       "grid_gap": null,
       "grid_row": null,
       "grid_template_areas": null,
       "grid_template_columns": null,
       "grid_template_rows": null,
       "height": null,
       "justify_content": null,
       "justify_items": null,
       "left": null,
       "margin": null,
       "max_height": null,
       "max_width": null,
       "min_height": null,
       "min_width": null,
       "object_fit": null,
       "object_position": null,
       "order": null,
       "overflow": null,
       "overflow_x": null,
       "overflow_y": null,
       "padding": null,
       "right": null,
       "top": null,
       "visibility": null,
       "width": null
      }
     },
     "18520f3101f642f19c72a2f0b838efd5": {
      "model_module": "@jupyter-widgets/controls",
      "model_module_version": "1.5.0",
      "model_name": "HBoxModel",
      "state": {
       "_dom_classes": [],
       "_model_module": "@jupyter-widgets/controls",
       "_model_module_version": "1.5.0",
       "_model_name": "HBoxModel",
       "_view_count": null,
       "_view_module": "@jupyter-widgets/controls",
       "_view_module_version": "1.5.0",
       "_view_name": "HBoxView",
       "box_style": "",
       "children": [
        "IPY_MODEL_397362f9a62a47f5aa3b6bd6f130eaea",
        "IPY_MODEL_1367294f36344b9489a408b94c0db956",
        "IPY_MODEL_bf8d63db9e0d466e9a24342a2747061d"
       ],
       "layout": "IPY_MODEL_0f2dd0d921dc4203b99602b509d4d560"
      }
     },
     "18a68056a8204f699c884ab44bc1f732": {
      "model_module": "@jupyter-widgets/controls",
      "model_module_version": "1.5.0",
      "model_name": "FloatProgressModel",
      "state": {
       "_dom_classes": [],
       "_model_module": "@jupyter-widgets/controls",
       "_model_module_version": "1.5.0",
       "_model_name": "FloatProgressModel",
       "_view_count": null,
       "_view_module": "@jupyter-widgets/controls",
       "_view_module_version": "1.5.0",
       "_view_name": "ProgressView",
       "bar_style": "success",
       "description": "",
       "description_tooltip": null,
       "layout": "IPY_MODEL_fb8378b753de413dbfab00dbbeaa1f1e",
       "max": 73.0,
       "min": 0.0,
       "orientation": "horizontal",
       "style": "IPY_MODEL_7878e5221d9e4cc799028b2b93bc17d8",
       "value": 73.0
      }
     },
     "199e5c5ce065479e9398f76a1eaa99aa": {
      "model_module": "@jupyter-widgets/base",
      "model_module_version": "1.2.0",
      "model_name": "LayoutModel",
      "state": {
       "_model_module": "@jupyter-widgets/base",
       "_model_module_version": "1.2.0",
       "_model_name": "LayoutModel",
       "_view_count": null,
       "_view_module": "@jupyter-widgets/base",
       "_view_module_version": "1.2.0",
       "_view_name": "LayoutView",
       "align_content": null,
       "align_items": null,
       "align_self": null,
       "border": null,
       "bottom": null,
       "display": null,
       "flex": null,
       "flex_flow": null,
       "grid_area": null,
       "grid_auto_columns": null,
       "grid_auto_flow": null,
       "grid_auto_rows": null,
       "grid_column": null,
       "grid_gap": null,
       "grid_row": null,
       "grid_template_areas": null,
       "grid_template_columns": null,
       "grid_template_rows": null,
       "height": null,
       "justify_content": null,
       "justify_items": null,
       "left": null,
       "margin": null,
       "max_height": null,
       "max_width": null,
       "min_height": null,
       "min_width": null,
       "object_fit": null,
       "object_position": null,
       "order": null,
       "overflow": null,
       "overflow_x": null,
       "overflow_y": null,
       "padding": null,
       "right": null,
       "top": null,
       "visibility": null,
       "width": null
      }
     },
     "19ba0c8eb1484ac3bc01a910e042216f": {
      "model_module": "@jupyter-widgets/controls",
      "model_module_version": "1.5.0",
      "model_name": "ProgressStyleModel",
      "state": {
       "_model_module": "@jupyter-widgets/controls",
       "_model_module_version": "1.5.0",
       "_model_name": "ProgressStyleModel",
       "_view_count": null,
       "_view_module": "@jupyter-widgets/base",
       "_view_module_version": "1.2.0",
       "_view_name": "StyleView",
       "bar_color": null,
       "description_width": ""
      }
     },
     "1c1e9ea3f9d545dfb396c0d8b0582d9f": {
      "model_module": "@jupyter-widgets/base",
      "model_module_version": "1.2.0",
      "model_name": "LayoutModel",
      "state": {
       "_model_module": "@jupyter-widgets/base",
       "_model_module_version": "1.2.0",
       "_model_name": "LayoutModel",
       "_view_count": null,
       "_view_module": "@jupyter-widgets/base",
       "_view_module_version": "1.2.0",
       "_view_name": "LayoutView",
       "align_content": null,
       "align_items": null,
       "align_self": null,
       "border": null,
       "bottom": null,
       "display": null,
       "flex": null,
       "flex_flow": null,
       "grid_area": null,
       "grid_auto_columns": null,
       "grid_auto_flow": null,
       "grid_auto_rows": null,
       "grid_column": null,
       "grid_gap": null,
       "grid_row": null,
       "grid_template_areas": null,
       "grid_template_columns": null,
       "grid_template_rows": null,
       "height": null,
       "justify_content": null,
       "justify_items": null,
       "left": null,
       "margin": null,
       "max_height": null,
       "max_width": null,
       "min_height": null,
       "min_width": null,
       "object_fit": null,
       "object_position": null,
       "order": null,
       "overflow": null,
       "overflow_x": null,
       "overflow_y": null,
       "padding": null,
       "right": null,
       "top": null,
       "visibility": null,
       "width": null
      }
     },
     "1c91a372f8694e02ac803caf81849e83": {
      "model_module": "@jupyter-widgets/controls",
      "model_module_version": "1.5.0",
      "model_name": "DescriptionStyleModel",
      "state": {
       "_model_module": "@jupyter-widgets/controls",
       "_model_module_version": "1.5.0",
       "_model_name": "DescriptionStyleModel",
       "_view_count": null,
       "_view_module": "@jupyter-widgets/base",
       "_view_module_version": "1.2.0",
       "_view_name": "StyleView",
       "description_width": ""
      }
     },
     "1fb605e2e7a2459f91ae24687cc4f0c4": {
      "model_module": "@jupyter-widgets/base",
      "model_module_version": "1.2.0",
      "model_name": "LayoutModel",
      "state": {
       "_model_module": "@jupyter-widgets/base",
       "_model_module_version": "1.2.0",
       "_model_name": "LayoutModel",
       "_view_count": null,
       "_view_module": "@jupyter-widgets/base",
       "_view_module_version": "1.2.0",
       "_view_name": "LayoutView",
       "align_content": null,
       "align_items": null,
       "align_self": null,
       "border": null,
       "bottom": null,
       "display": null,
       "flex": null,
       "flex_flow": null,
       "grid_area": null,
       "grid_auto_columns": null,
       "grid_auto_flow": null,
       "grid_auto_rows": null,
       "grid_column": null,
       "grid_gap": null,
       "grid_row": null,
       "grid_template_areas": null,
       "grid_template_columns": null,
       "grid_template_rows": null,
       "height": null,
       "justify_content": null,
       "justify_items": null,
       "left": null,
       "margin": null,
       "max_height": null,
       "max_width": null,
       "min_height": null,
       "min_width": null,
       "object_fit": null,
       "object_position": null,
       "order": null,
       "overflow": null,
       "overflow_x": null,
       "overflow_y": null,
       "padding": null,
       "right": null,
       "top": null,
       "visibility": null,
       "width": null
      }
     },
     "2095f63910ca4b558f9fc34b4417eede": {
      "model_module": "@jupyter-widgets/base",
      "model_module_version": "1.2.0",
      "model_name": "LayoutModel",
      "state": {
       "_model_module": "@jupyter-widgets/base",
       "_model_module_version": "1.2.0",
       "_model_name": "LayoutModel",
       "_view_count": null,
       "_view_module": "@jupyter-widgets/base",
       "_view_module_version": "1.2.0",
       "_view_name": "LayoutView",
       "align_content": null,
       "align_items": null,
       "align_self": null,
       "border": null,
       "bottom": null,
       "display": null,
       "flex": null,
       "flex_flow": null,
       "grid_area": null,
       "grid_auto_columns": null,
       "grid_auto_flow": null,
       "grid_auto_rows": null,
       "grid_column": null,
       "grid_gap": null,
       "grid_row": null,
       "grid_template_areas": null,
       "grid_template_columns": null,
       "grid_template_rows": null,
       "height": null,
       "justify_content": null,
       "justify_items": null,
       "left": null,
       "margin": null,
       "max_height": null,
       "max_width": null,
       "min_height": null,
       "min_width": null,
       "object_fit": null,
       "object_position": null,
       "order": null,
       "overflow": null,
       "overflow_x": null,
       "overflow_y": null,
       "padding": null,
       "right": null,
       "top": null,
       "visibility": null,
       "width": null
      }
     },
     "21d52730d4754087aaaecffa453c40ac": {
      "model_module": "@jupyter-widgets/base",
      "model_module_version": "1.2.0",
      "model_name": "LayoutModel",
      "state": {
       "_model_module": "@jupyter-widgets/base",
       "_model_module_version": "1.2.0",
       "_model_name": "LayoutModel",
       "_view_count": null,
       "_view_module": "@jupyter-widgets/base",
       "_view_module_version": "1.2.0",
       "_view_name": "LayoutView",
       "align_content": null,
       "align_items": null,
       "align_self": null,
       "border": null,
       "bottom": null,
       "display": null,
       "flex": null,
       "flex_flow": null,
       "grid_area": null,
       "grid_auto_columns": null,
       "grid_auto_flow": null,
       "grid_auto_rows": null,
       "grid_column": null,
       "grid_gap": null,
       "grid_row": null,
       "grid_template_areas": null,
       "grid_template_columns": null,
       "grid_template_rows": null,
       "height": null,
       "justify_content": null,
       "justify_items": null,
       "left": null,
       "margin": null,
       "max_height": null,
       "max_width": null,
       "min_height": null,
       "min_width": null,
       "object_fit": null,
       "object_position": null,
       "order": null,
       "overflow": null,
       "overflow_x": null,
       "overflow_y": null,
       "padding": null,
       "right": null,
       "top": null,
       "visibility": null,
       "width": null
      }
     },
     "224fe28b40104089ab8735834253fc9d": {
      "model_module": "@jupyter-widgets/controls",
      "model_module_version": "1.5.0",
      "model_name": "ProgressStyleModel",
      "state": {
       "_model_module": "@jupyter-widgets/controls",
       "_model_module_version": "1.5.0",
       "_model_name": "ProgressStyleModel",
       "_view_count": null,
       "_view_module": "@jupyter-widgets/base",
       "_view_module_version": "1.2.0",
       "_view_name": "StyleView",
       "bar_color": null,
       "description_width": ""
      }
     },
     "2354e9336ddc474dbac470c93453d53d": {
      "model_module": "@jupyter-widgets/controls",
      "model_module_version": "1.5.0",
      "model_name": "HTMLModel",
      "state": {
       "_dom_classes": [],
       "_model_module": "@jupyter-widgets/controls",
       "_model_module_version": "1.5.0",
       "_model_name": "HTMLModel",
       "_view_count": null,
       "_view_module": "@jupyter-widgets/controls",
       "_view_module_version": "1.5.0",
       "_view_name": "HTMLView",
       "description": "",
       "description_tooltip": null,
       "layout": "IPY_MODEL_543f4c6ad4af48a7878441b44c8c3d43",
       "placeholder": "​",
       "style": "IPY_MODEL_e62cb49bc820417c9c36f5baafafcba7",
       "value": "Loading checkpoint shards: 100%"
      }
     },
     "236117534bb94759837af649b425418b": {
      "model_module": "@jupyter-widgets/base",
      "model_module_version": "1.2.0",
      "model_name": "LayoutModel",
      "state": {
       "_model_module": "@jupyter-widgets/base",
       "_model_module_version": "1.2.0",
       "_model_name": "LayoutModel",
       "_view_count": null,
       "_view_module": "@jupyter-widgets/base",
       "_view_module_version": "1.2.0",
       "_view_name": "LayoutView",
       "align_content": null,
       "align_items": null,
       "align_self": null,
       "border": null,
       "bottom": null,
       "display": null,
       "flex": null,
       "flex_flow": null,
       "grid_area": null,
       "grid_auto_columns": null,
       "grid_auto_flow": null,
       "grid_auto_rows": null,
       "grid_column": null,
       "grid_gap": null,
       "grid_row": null,
       "grid_template_areas": null,
       "grid_template_columns": null,
       "grid_template_rows": null,
       "height": null,
       "justify_content": null,
       "justify_items": null,
       "left": null,
       "margin": null,
       "max_height": null,
       "max_width": null,
       "min_height": null,
       "min_width": null,
       "object_fit": null,
       "object_position": null,
       "order": null,
       "overflow": null,
       "overflow_x": null,
       "overflow_y": null,
       "padding": null,
       "right": null,
       "top": null,
       "visibility": null,
       "width": null
      }
     },
     "25445c94bb624123bf2fba60c2310720": {
      "model_module": "@jupyter-widgets/base",
      "model_module_version": "1.2.0",
      "model_name": "LayoutModel",
      "state": {
       "_model_module": "@jupyter-widgets/base",
       "_model_module_version": "1.2.0",
       "_model_name": "LayoutModel",
       "_view_count": null,
       "_view_module": "@jupyter-widgets/base",
       "_view_module_version": "1.2.0",
       "_view_name": "LayoutView",
       "align_content": null,
       "align_items": null,
       "align_self": null,
       "border": null,
       "bottom": null,
       "display": null,
       "flex": null,
       "flex_flow": null,
       "grid_area": null,
       "grid_auto_columns": null,
       "grid_auto_flow": null,
       "grid_auto_rows": null,
       "grid_column": null,
       "grid_gap": null,
       "grid_row": null,
       "grid_template_areas": null,
       "grid_template_columns": null,
       "grid_template_rows": null,
       "height": null,
       "justify_content": null,
       "justify_items": null,
       "left": null,
       "margin": null,
       "max_height": null,
       "max_width": null,
       "min_height": null,
       "min_width": null,
       "object_fit": null,
       "object_position": null,
       "order": null,
       "overflow": null,
       "overflow_x": null,
       "overflow_y": null,
       "padding": null,
       "right": null,
       "top": null,
       "visibility": null,
       "width": null
      }
     },
     "274d52a8855840b8b8ff7a600254c6f3": {
      "model_module": "@jupyter-widgets/base",
      "model_module_version": "1.2.0",
      "model_name": "LayoutModel",
      "state": {
       "_model_module": "@jupyter-widgets/base",
       "_model_module_version": "1.2.0",
       "_model_name": "LayoutModel",
       "_view_count": null,
       "_view_module": "@jupyter-widgets/base",
       "_view_module_version": "1.2.0",
       "_view_name": "LayoutView",
       "align_content": null,
       "align_items": null,
       "align_self": null,
       "border": null,
       "bottom": null,
       "display": null,
       "flex": null,
       "flex_flow": null,
       "grid_area": null,
       "grid_auto_columns": null,
       "grid_auto_flow": null,
       "grid_auto_rows": null,
       "grid_column": null,
       "grid_gap": null,
       "grid_row": null,
       "grid_template_areas": null,
       "grid_template_columns": null,
       "grid_template_rows": null,
       "height": null,
       "justify_content": null,
       "justify_items": null,
       "left": null,
       "margin": null,
       "max_height": null,
       "max_width": null,
       "min_height": null,
       "min_width": null,
       "object_fit": null,
       "object_position": null,
       "order": null,
       "overflow": null,
       "overflow_x": null,
       "overflow_y": null,
       "padding": null,
       "right": null,
       "top": null,
       "visibility": null,
       "width": null
      }
     },
     "29bb27cd31b24c29bec18a4c2af537ca": {
      "model_module": "@jupyter-widgets/base",
      "model_module_version": "1.2.0",
      "model_name": "LayoutModel",
      "state": {
       "_model_module": "@jupyter-widgets/base",
       "_model_module_version": "1.2.0",
       "_model_name": "LayoutModel",
       "_view_count": null,
       "_view_module": "@jupyter-widgets/base",
       "_view_module_version": "1.2.0",
       "_view_name": "LayoutView",
       "align_content": null,
       "align_items": null,
       "align_self": null,
       "border": null,
       "bottom": null,
       "display": null,
       "flex": null,
       "flex_flow": null,
       "grid_area": null,
       "grid_auto_columns": null,
       "grid_auto_flow": null,
       "grid_auto_rows": null,
       "grid_column": null,
       "grid_gap": null,
       "grid_row": null,
       "grid_template_areas": null,
       "grid_template_columns": null,
       "grid_template_rows": null,
       "height": null,
       "justify_content": null,
       "justify_items": null,
       "left": null,
       "margin": null,
       "max_height": null,
       "max_width": null,
       "min_height": null,
       "min_width": null,
       "object_fit": null,
       "object_position": null,
       "order": null,
       "overflow": null,
       "overflow_x": null,
       "overflow_y": null,
       "padding": null,
       "right": null,
       "top": null,
       "visibility": null,
       "width": null
      }
     },
     "2c851900b362432c88d2322d2a3f3861": {
      "model_module": "@jupyter-widgets/controls",
      "model_module_version": "1.5.0",
      "model_name": "DescriptionStyleModel",
      "state": {
       "_model_module": "@jupyter-widgets/controls",
       "_model_module_version": "1.5.0",
       "_model_name": "DescriptionStyleModel",
       "_view_count": null,
       "_view_module": "@jupyter-widgets/base",
       "_view_module_version": "1.2.0",
       "_view_name": "StyleView",
       "description_width": ""
      }
     },
     "2d62e7ac57734ff5ac7c85ac3540c71a": {
      "model_module": "@jupyter-widgets/controls",
      "model_module_version": "1.5.0",
      "model_name": "FloatProgressModel",
      "state": {
       "_dom_classes": [],
       "_model_module": "@jupyter-widgets/controls",
       "_model_module_version": "1.5.0",
       "_model_name": "FloatProgressModel",
       "_view_count": null,
       "_view_module": "@jupyter-widgets/controls",
       "_view_module_version": "1.5.0",
       "_view_name": "ProgressView",
       "bar_style": "success",
       "description": "",
       "description_tooltip": null,
       "layout": "IPY_MODEL_25445c94bb624123bf2fba60c2310720",
       "max": 96116570.0,
       "min": 0.0,
       "orientation": "horizontal",
       "style": "IPY_MODEL_7f6013315f79451f9265b1c4486b3f17",
       "value": 96116570.0
      }
     },
     "31afc264cfe448738f36f6458c5f42a2": {
      "model_module": "@jupyter-widgets/controls",
      "model_module_version": "1.5.0",
      "model_name": "HTMLModel",
      "state": {
       "_dom_classes": [],
       "_model_module": "@jupyter-widgets/controls",
       "_model_module_version": "1.5.0",
       "_model_name": "HTMLModel",
       "_view_count": null,
       "_view_module": "@jupyter-widgets/controls",
       "_view_module_version": "1.5.0",
       "_view_name": "HTMLView",
       "description": "",
       "description_tooltip": null,
       "layout": "IPY_MODEL_0128e319ea784eb79908e5a696b6c1aa",
       "placeholder": "​",
       "style": "IPY_MODEL_99df713e39644782adf734f32c0c6847",
       "value": "generation_config.json: 100%"
      }
     },
     "331793c1de814489b09f25f5e5d6cf75": {
      "model_module": "@jupyter-widgets/controls",
      "model_module_version": "1.5.0",
      "model_name": "DescriptionStyleModel",
      "state": {
       "_model_module": "@jupyter-widgets/controls",
       "_model_module_version": "1.5.0",
       "_model_name": "DescriptionStyleModel",
       "_view_count": null,
       "_view_module": "@jupyter-widgets/base",
       "_view_module_version": "1.2.0",
       "_view_name": "StyleView",
       "description_width": ""
      }
     },
     "332b88ba2ad643ac84af832bf9755582": {
      "model_module": "@jupyter-widgets/base",
      "model_module_version": "1.2.0",
      "model_name": "LayoutModel",
      "state": {
       "_model_module": "@jupyter-widgets/base",
       "_model_module_version": "1.2.0",
       "_model_name": "LayoutModel",
       "_view_count": null,
       "_view_module": "@jupyter-widgets/base",
       "_view_module_version": "1.2.0",
       "_view_name": "LayoutView",
       "align_content": null,
       "align_items": null,
       "align_self": null,
       "border": null,
       "bottom": null,
       "display": null,
       "flex": null,
       "flex_flow": null,
       "grid_area": null,
       "grid_auto_columns": null,
       "grid_auto_flow": null,
       "grid_auto_rows": null,
       "grid_column": null,
       "grid_gap": null,
       "grid_row": null,
       "grid_template_areas": null,
       "grid_template_columns": null,
       "grid_template_rows": null,
       "height": null,
       "justify_content": null,
       "justify_items": null,
       "left": null,
       "margin": null,
       "max_height": null,
       "max_width": null,
       "min_height": null,
       "min_width": null,
       "object_fit": null,
       "object_position": null,
       "order": null,
       "overflow": null,
       "overflow_x": null,
       "overflow_y": null,
       "padding": null,
       "right": null,
       "top": null,
       "visibility": null,
       "width": null
      }
     },
     "35d21063c3924c92a6c96637b75c5bda": {
      "model_module": "@jupyter-widgets/controls",
      "model_module_version": "1.5.0",
      "model_name": "DescriptionStyleModel",
      "state": {
       "_model_module": "@jupyter-widgets/controls",
       "_model_module_version": "1.5.0",
       "_model_name": "DescriptionStyleModel",
       "_view_count": null,
       "_view_module": "@jupyter-widgets/base",
       "_view_module_version": "1.2.0",
       "_view_name": "StyleView",
       "description_width": ""
      }
     },
     "397362f9a62a47f5aa3b6bd6f130eaea": {
      "model_module": "@jupyter-widgets/controls",
      "model_module_version": "1.5.0",
      "model_name": "HTMLModel",
      "state": {
       "_dom_classes": [],
       "_model_module": "@jupyter-widgets/controls",
       "_model_module_version": "1.5.0",
       "_model_name": "HTMLModel",
       "_view_count": null,
       "_view_module": "@jupyter-widgets/controls",
       "_view_module_version": "1.5.0",
       "_view_name": "HTMLView",
       "description": "",
       "description_tooltip": null,
       "layout": "IPY_MODEL_41f626886e4e45aebce607ea1305a756",
       "placeholder": "​",
       "style": "IPY_MODEL_a4c2ad193e2940108ef1138e1c06b696",
       "value": "model-00002-of-00002.safetensors: 100%"
      }
     },
     "39bf7ec3624141da99740ace09be81f5": {
      "model_module": "@jupyter-widgets/controls",
      "model_module_version": "1.5.0",
      "model_name": "HTMLModel",
      "state": {
       "_dom_classes": [],
       "_model_module": "@jupyter-widgets/controls",
       "_model_module_version": "1.5.0",
       "_model_name": "HTMLModel",
       "_view_count": null,
       "_view_module": "@jupyter-widgets/controls",
       "_view_module_version": "1.5.0",
       "_view_name": "HTMLView",
       "description": "",
       "description_tooltip": null,
       "layout": "IPY_MODEL_2095f63910ca4b558f9fc34b4417eede",
       "placeholder": "​",
       "style": "IPY_MODEL_83ea9a7d0fe14f0ea3ddefb1d7ce9b18",
       "value": "config.json: 100%"
      }
     },
     "3c6c8feed0784702ada68a252ef55a16": {
      "model_module": "@jupyter-widgets/controls",
      "model_module_version": "1.5.0",
      "model_name": "HTMLModel",
      "state": {
       "_dom_classes": [],
       "_model_module": "@jupyter-widgets/controls",
       "_model_module_version": "1.5.0",
       "_model_name": "HTMLModel",
       "_view_count": null,
       "_view_module": "@jupyter-widgets/controls",
       "_view_module_version": "1.5.0",
       "_view_name": "HTMLView",
       "description": "",
       "description_tooltip": null,
       "layout": "IPY_MODEL_a2eb75a7c71847d68f2afcf7ab2080ef",
       "placeholder": "​",
       "style": "IPY_MODEL_7a87dcfa03184e47b9e465cb9c24fe93",
       "value": "adapter_config.json: 100%"
      }
     },
     "3e8d2648650140ff844556f73a71d0c6": {
      "model_module": "@jupyter-widgets/base",
      "model_module_version": "1.2.0",
      "model_name": "LayoutModel",
      "state": {
       "_model_module": "@jupyter-widgets/base",
       "_model_module_version": "1.2.0",
       "_model_name": "LayoutModel",
       "_view_count": null,
       "_view_module": "@jupyter-widgets/base",
       "_view_module_version": "1.2.0",
       "_view_name": "LayoutView",
       "align_content": null,
       "align_items": null,
       "align_self": null,
       "border": null,
       "bottom": null,
       "display": null,
       "flex": null,
       "flex_flow": null,
       "grid_area": null,
       "grid_auto_columns": null,
       "grid_auto_flow": null,
       "grid_auto_rows": null,
       "grid_column": null,
       "grid_gap": null,
       "grid_row": null,
       "grid_template_areas": null,
       "grid_template_columns": null,
       "grid_template_rows": null,
       "height": null,
       "justify_content": null,
       "justify_items": null,
       "left": null,
       "margin": null,
       "max_height": null,
       "max_width": null,
       "min_height": null,
       "min_width": null,
       "object_fit": null,
       "object_position": null,
       "order": null,
       "overflow": null,
       "overflow_x": null,
       "overflow_y": null,
       "padding": null,
       "right": null,
       "top": null,
       "visibility": null,
       "width": null
      }
     },
     "3f0e588dcf1a4f28ab70f5735dc1a75f": {
      "model_module": "@jupyter-widgets/base",
      "model_module_version": "1.2.0",
      "model_name": "LayoutModel",
      "state": {
       "_model_module": "@jupyter-widgets/base",
       "_model_module_version": "1.2.0",
       "_model_name": "LayoutModel",
       "_view_count": null,
       "_view_module": "@jupyter-widgets/base",
       "_view_module_version": "1.2.0",
       "_view_name": "LayoutView",
       "align_content": null,
       "align_items": null,
       "align_self": null,
       "border": null,
       "bottom": null,
       "display": null,
       "flex": null,
       "flex_flow": null,
       "grid_area": null,
       "grid_auto_columns": null,
       "grid_auto_flow": null,
       "grid_auto_rows": null,
       "grid_column": null,
       "grid_gap": null,
       "grid_row": null,
       "grid_template_areas": null,
       "grid_template_columns": null,
       "grid_template_rows": null,
       "height": null,
       "justify_content": null,
       "justify_items": null,
       "left": null,
       "margin": null,
       "max_height": null,
       "max_width": null,
       "min_height": null,
       "min_width": null,
       "object_fit": null,
       "object_position": null,
       "order": null,
       "overflow": null,
       "overflow_x": null,
       "overflow_y": null,
       "padding": null,
       "right": null,
       "top": null,
       "visibility": null,
       "width": null
      }
     },
     "4144a975771b4a40aa717234c5fec5f1": {
      "model_module": "@jupyter-widgets/controls",
      "model_module_version": "1.5.0",
      "model_name": "HBoxModel",
      "state": {
       "_dom_classes": [],
       "_model_module": "@jupyter-widgets/controls",
       "_model_module_version": "1.5.0",
       "_model_name": "HBoxModel",
       "_view_count": null,
       "_view_module": "@jupyter-widgets/controls",
       "_view_module_version": "1.5.0",
       "_view_name": "HBoxView",
       "box_style": "",
       "children": [
        "IPY_MODEL_f433ec72b2a14e4bbf82cf078bb31a92",
        "IPY_MODEL_dca40f203424491f9436e67557314996",
        "IPY_MODEL_8119550dc408482aa7441ae14c5a46bc"
       ],
       "layout": "IPY_MODEL_3f0e588dcf1a4f28ab70f5735dc1a75f"
      }
     },
     "41f626886e4e45aebce607ea1305a756": {
      "model_module": "@jupyter-widgets/base",
      "model_module_version": "1.2.0",
      "model_name": "LayoutModel",
      "state": {
       "_model_module": "@jupyter-widgets/base",
       "_model_module_version": "1.2.0",
       "_model_name": "LayoutModel",
       "_view_count": null,
       "_view_module": "@jupyter-widgets/base",
       "_view_module_version": "1.2.0",
       "_view_name": "LayoutView",
       "align_content": null,
       "align_items": null,
       "align_self": null,
       "border": null,
       "bottom": null,
       "display": null,
       "flex": null,
       "flex_flow": null,
       "grid_area": null,
       "grid_auto_columns": null,
       "grid_auto_flow": null,
       "grid_auto_rows": null,
       "grid_column": null,
       "grid_gap": null,
       "grid_row": null,
       "grid_template_areas": null,
       "grid_template_columns": null,
       "grid_template_rows": null,
       "height": null,
       "justify_content": null,
       "justify_items": null,
       "left": null,
       "margin": null,
       "max_height": null,
       "max_width": null,
       "min_height": null,
       "min_width": null,
       "object_fit": null,
       "object_position": null,
       "order": null,
       "overflow": null,
       "overflow_x": null,
       "overflow_y": null,
       "padding": null,
       "right": null,
       "top": null,
       "visibility": null,
       "width": null
      }
     },
     "49b14d8a529740deb8481425780f362d": {
      "model_module": "@jupyter-widgets/base",
      "model_module_version": "1.2.0",
      "model_name": "LayoutModel",
      "state": {
       "_model_module": "@jupyter-widgets/base",
       "_model_module_version": "1.2.0",
       "_model_name": "LayoutModel",
       "_view_count": null,
       "_view_module": "@jupyter-widgets/base",
       "_view_module_version": "1.2.0",
       "_view_name": "LayoutView",
       "align_content": null,
       "align_items": null,
       "align_self": null,
       "border": null,
       "bottom": null,
       "display": null,
       "flex": null,
       "flex_flow": null,
       "grid_area": null,
       "grid_auto_columns": null,
       "grid_auto_flow": null,
       "grid_auto_rows": null,
       "grid_column": null,
       "grid_gap": null,
       "grid_row": null,
       "grid_template_areas": null,
       "grid_template_columns": null,
       "grid_template_rows": null,
       "height": null,
       "justify_content": null,
       "justify_items": null,
       "left": null,
       "margin": null,
       "max_height": null,
       "max_width": null,
       "min_height": null,
       "min_width": null,
       "object_fit": null,
       "object_position": null,
       "order": null,
       "overflow": null,
       "overflow_x": null,
       "overflow_y": null,
       "padding": null,
       "right": null,
       "top": null,
       "visibility": null,
       "width": null
      }
     },
     "4c55c4ce52c34b5dbf68bd9c357d88cf": {
      "model_module": "@jupyter-widgets/controls",
      "model_module_version": "1.5.0",
      "model_name": "FloatProgressModel",
      "state": {
       "_dom_classes": [],
       "_model_module": "@jupyter-widgets/controls",
       "_model_module_version": "1.5.0",
       "_model_name": "FloatProgressModel",
       "_view_count": null,
       "_view_module": "@jupyter-widgets/controls",
       "_view_module_version": "1.5.0",
       "_view_name": "ProgressView",
       "bar_style": "success",
       "description": "",
       "description_tooltip": null,
       "layout": "IPY_MODEL_8b05a6b0bc1c44b89946054f2fdb08bd",
       "max": 60000.0,
       "min": 0.0,
       "orientation": "horizontal",
       "style": "IPY_MODEL_928d23daa4fb42149fa78118ec841d1b",
       "value": 60000.0
      }
     },
     "4c937b95374946a9b4b3897712840fe0": {
      "model_module": "@jupyter-widgets/controls",
      "model_module_version": "1.5.0",
      "model_name": "DescriptionStyleModel",
      "state": {
       "_model_module": "@jupyter-widgets/controls",
       "_model_module_version": "1.5.0",
       "_model_name": "DescriptionStyleModel",
       "_view_count": null,
       "_view_module": "@jupyter-widgets/base",
       "_view_module_version": "1.2.0",
       "_view_name": "StyleView",
       "description_width": ""
      }
     },
     "4f32a69c9fd14b5da8c1b23980ccfb4b": {
      "model_module": "@jupyter-widgets/base",
      "model_module_version": "1.2.0",
      "model_name": "LayoutModel",
      "state": {
       "_model_module": "@jupyter-widgets/base",
       "_model_module_version": "1.2.0",
       "_model_name": "LayoutModel",
       "_view_count": null,
       "_view_module": "@jupyter-widgets/base",
       "_view_module_version": "1.2.0",
       "_view_name": "LayoutView",
       "align_content": null,
       "align_items": null,
       "align_self": null,
       "border": null,
       "bottom": null,
       "display": null,
       "flex": null,
       "flex_flow": null,
       "grid_area": null,
       "grid_auto_columns": null,
       "grid_auto_flow": null,
       "grid_auto_rows": null,
       "grid_column": null,
       "grid_gap": null,
       "grid_row": null,
       "grid_template_areas": null,
       "grid_template_columns": null,
       "grid_template_rows": null,
       "height": null,
       "justify_content": null,
       "justify_items": null,
       "left": null,
       "margin": null,
       "max_height": null,
       "max_width": null,
       "min_height": null,
       "min_width": null,
       "object_fit": null,
       "object_position": null,
       "order": null,
       "overflow": null,
       "overflow_x": null,
       "overflow_y": null,
       "padding": null,
       "right": null,
       "top": null,
       "visibility": null,
       "width": null
      }
     },
     "5068424ffee443a8b3cae8b392d87919": {
      "model_module": "@jupyter-widgets/base",
      "model_module_version": "1.2.0",
      "model_name": "LayoutModel",
      "state": {
       "_model_module": "@jupyter-widgets/base",
       "_model_module_version": "1.2.0",
       "_model_name": "LayoutModel",
       "_view_count": null,
       "_view_module": "@jupyter-widgets/base",
       "_view_module_version": "1.2.0",
       "_view_name": "LayoutView",
       "align_content": null,
       "align_items": null,
       "align_self": null,
       "border": null,
       "bottom": null,
       "display": null,
       "flex": null,
       "flex_flow": null,
       "grid_area": null,
       "grid_auto_columns": null,
       "grid_auto_flow": null,
       "grid_auto_rows": null,
       "grid_column": null,
       "grid_gap": null,
       "grid_row": null,
       "grid_template_areas": null,
       "grid_template_columns": null,
       "grid_template_rows": null,
       "height": null,
       "justify_content": null,
       "justify_items": null,
       "left": null,
       "margin": null,
       "max_height": null,
       "max_width": null,
       "min_height": null,
       "min_width": null,
       "object_fit": null,
       "object_position": null,
       "order": null,
       "overflow": null,
       "overflow_x": null,
       "overflow_y": null,
       "padding": null,
       "right": null,
       "top": null,
       "visibility": null,
       "width": null
      }
     },
     "50c53237e38a465f8676352de83540a4": {
      "model_module": "@jupyter-widgets/controls",
      "model_module_version": "1.5.0",
      "model_name": "FloatProgressModel",
      "state": {
       "_dom_classes": [],
       "_model_module": "@jupyter-widgets/controls",
       "_model_module_version": "1.5.0",
       "_model_name": "FloatProgressModel",
       "_view_count": null,
       "_view_module": "@jupyter-widgets/controls",
       "_view_module_version": "1.5.0",
       "_view_name": "ProgressView",
       "bar_style": "success",
       "description": "",
       "description_tooltip": null,
       "layout": "IPY_MODEL_332b88ba2ad643ac84af832bf9755582",
       "max": 194.0,
       "min": 0.0,
       "orientation": "horizontal",
       "style": "IPY_MODEL_e93c57c84f4a4d4a923453b9bff0b4d2",
       "value": 194.0
      }
     },
     "533e814cf11e40cba54d7c16d57aa0a7": {
      "model_module": "@jupyter-widgets/controls",
      "model_module_version": "1.5.0",
      "model_name": "DescriptionStyleModel",
      "state": {
       "_model_module": "@jupyter-widgets/controls",
       "_model_module_version": "1.5.0",
       "_model_name": "DescriptionStyleModel",
       "_view_count": null,
       "_view_module": "@jupyter-widgets/base",
       "_view_module_version": "1.2.0",
       "_view_name": "StyleView",
       "description_width": ""
      }
     },
     "543f4c6ad4af48a7878441b44c8c3d43": {
      "model_module": "@jupyter-widgets/base",
      "model_module_version": "1.2.0",
      "model_name": "LayoutModel",
      "state": {
       "_model_module": "@jupyter-widgets/base",
       "_model_module_version": "1.2.0",
       "_model_name": "LayoutModel",
       "_view_count": null,
       "_view_module": "@jupyter-widgets/base",
       "_view_module_version": "1.2.0",
       "_view_name": "LayoutView",
       "align_content": null,
       "align_items": null,
       "align_self": null,
       "border": null,
       "bottom": null,
       "display": null,
       "flex": null,
       "flex_flow": null,
       "grid_area": null,
       "grid_auto_columns": null,
       "grid_auto_flow": null,
       "grid_auto_rows": null,
       "grid_column": null,
       "grid_gap": null,
       "grid_row": null,
       "grid_template_areas": null,
       "grid_template_columns": null,
       "grid_template_rows": null,
       "height": null,
       "justify_content": null,
       "justify_items": null,
       "left": null,
       "margin": null,
       "max_height": null,
       "max_width": null,
       "min_height": null,
       "min_width": null,
       "object_fit": null,
       "object_position": null,
       "order": null,
       "overflow": null,
       "overflow_x": null,
       "overflow_y": null,
       "padding": null,
       "right": null,
       "top": null,
       "visibility": null,
       "width": null
      }
     },
     "56f03589c9fb49518bd12db212b0ebc5": {
      "model_module": "@jupyter-widgets/controls",
      "model_module_version": "1.5.0",
      "model_name": "DescriptionStyleModel",
      "state": {
       "_model_module": "@jupyter-widgets/controls",
       "_model_module_version": "1.5.0",
       "_model_name": "DescriptionStyleModel",
       "_view_count": null,
       "_view_module": "@jupyter-widgets/base",
       "_view_module_version": "1.2.0",
       "_view_name": "StyleView",
       "description_width": ""
      }
     },
     "57718f1e13df4d14bc053b0c6968c8bc": {
      "model_module": "@jupyter-widgets/base",
      "model_module_version": "1.2.0",
      "model_name": "LayoutModel",
      "state": {
       "_model_module": "@jupyter-widgets/base",
       "_model_module_version": "1.2.0",
       "_model_name": "LayoutModel",
       "_view_count": null,
       "_view_module": "@jupyter-widgets/base",
       "_view_module_version": "1.2.0",
       "_view_name": "LayoutView",
       "align_content": null,
       "align_items": null,
       "align_self": null,
       "border": null,
       "bottom": null,
       "display": null,
       "flex": null,
       "flex_flow": null,
       "grid_area": null,
       "grid_auto_columns": null,
       "grid_auto_flow": null,
       "grid_auto_rows": null,
       "grid_column": null,
       "grid_gap": null,
       "grid_row": null,
       "grid_template_areas": null,
       "grid_template_columns": null,
       "grid_template_rows": null,
       "height": null,
       "justify_content": null,
       "justify_items": null,
       "left": null,
       "margin": null,
       "max_height": null,
       "max_width": null,
       "min_height": null,
       "min_width": null,
       "object_fit": null,
       "object_position": null,
       "order": null,
       "overflow": null,
       "overflow_x": null,
       "overflow_y": null,
       "padding": null,
       "right": null,
       "top": null,
       "visibility": null,
       "width": null
      }
     },
     "57f279c098824aff86444b6a761027ba": {
      "model_module": "@jupyter-widgets/controls",
      "model_module_version": "1.5.0",
      "model_name": "HTMLModel",
      "state": {
       "_dom_classes": [],
       "_model_module": "@jupyter-widgets/controls",
       "_model_module_version": "1.5.0",
       "_model_name": "HTMLModel",
       "_view_count": null,
       "_view_module": "@jupyter-widgets/controls",
       "_view_module_version": "1.5.0",
       "_view_name": "HTMLView",
       "description": "",
       "description_tooltip": null,
       "layout": "IPY_MODEL_71f14914fddd48d7bd139c7f4d8897d4",
       "placeholder": "​",
       "style": "IPY_MODEL_be1f4bdf91fb410a98410a4cbc8a24dc",
       "value": " 10.0k/10.0k [00:00&lt;00:00, 772kB/s]"
      }
     },
     "58074d57775c44d1ac6fedfd40e137b2": {
      "model_module": "@jupyter-widgets/controls",
      "model_module_version": "1.5.0",
      "model_name": "FloatProgressModel",
      "state": {
       "_dom_classes": [],
       "_model_module": "@jupyter-widgets/controls",
       "_model_module_version": "1.5.0",
       "_model_name": "FloatProgressModel",
       "_view_count": null,
       "_view_module": "@jupyter-widgets/controls",
       "_view_module_version": "1.5.0",
       "_view_name": "ProgressView",
       "bar_style": "success",
       "description": "",
       "description_tooltip": null,
       "layout": "IPY_MODEL_21d52730d4754087aaaecffa453c40ac",
       "max": 1208.0,
       "min": 0.0,
       "orientation": "horizontal",
       "style": "IPY_MODEL_19ba0c8eb1484ac3bc01a910e042216f",
       "value": 1208.0
      }
     },
     "593f1dec5d8447d4b641392308f6023f": {
      "model_module": "@jupyter-widgets/controls",
      "model_module_version": "1.5.0",
      "model_name": "DescriptionStyleModel",
      "state": {
       "_model_module": "@jupyter-widgets/controls",
       "_model_module_version": "1.5.0",
       "_model_name": "DescriptionStyleModel",
       "_view_count": null,
       "_view_module": "@jupyter-widgets/base",
       "_view_module_version": "1.2.0",
       "_view_name": "StyleView",
       "description_width": ""
      }
     },
     "599cf1e955714566bf035d2d74f66a82": {
      "model_module": "@jupyter-widgets/controls",
      "model_module_version": "1.5.0",
      "model_name": "HBoxModel",
      "state": {
       "_dom_classes": [],
       "_model_module": "@jupyter-widgets/controls",
       "_model_module_version": "1.5.0",
       "_model_name": "HBoxModel",
       "_view_count": null,
       "_view_module": "@jupyter-widgets/controls",
       "_view_module_version": "1.5.0",
       "_view_name": "HBoxView",
       "box_style": "",
       "children": [
        "IPY_MODEL_2354e9336ddc474dbac470c93453d53d",
        "IPY_MODEL_11ff1308bfdb4d879f4562b6372b009d",
        "IPY_MODEL_a5d644c769ac4c00b372eb4e5ab9e83a"
       ],
       "layout": "IPY_MODEL_274d52a8855840b8b8ff7a600254c6f3"
      }
     },
     "5a61abaed4df4b3a8b67032ec50756ba": {
      "model_module": "@jupyter-widgets/controls",
      "model_module_version": "1.5.0",
      "model_name": "HTMLModel",
      "state": {
       "_dom_classes": [],
       "_model_module": "@jupyter-widgets/controls",
       "_model_module_version": "1.5.0",
       "_model_name": "HTMLModel",
       "_view_count": null,
       "_view_module": "@jupyter-widgets/controls",
       "_view_module_version": "1.5.0",
       "_view_name": "HTMLView",
       "description": "",
       "description_tooltip": null,
       "layout": "IPY_MODEL_d9bc1705dec84d2c89888e3ca7d6be6f",
       "placeholder": "​",
       "style": "IPY_MODEL_eb6bb54449324056b227fa61dc5e274f",
       "value": " 60000/60000 [00:01&lt;00:00, 56721.94 examples/s]"
      }
     },
     "5abbe21ba4e74f3ba050963def776168": {
      "model_module": "@jupyter-widgets/base",
      "model_module_version": "1.2.0",
      "model_name": "LayoutModel",
      "state": {
       "_model_module": "@jupyter-widgets/base",
       "_model_module_version": "1.2.0",
       "_model_name": "LayoutModel",
       "_view_count": null,
       "_view_module": "@jupyter-widgets/base",
       "_view_module_version": "1.2.0",
       "_view_name": "LayoutView",
       "align_content": null,
       "align_items": null,
       "align_self": null,
       "border": null,
       "bottom": null,
       "display": null,
       "flex": null,
       "flex_flow": null,
       "grid_area": null,
       "grid_auto_columns": null,
       "grid_auto_flow": null,
       "grid_auto_rows": null,
       "grid_column": null,
       "grid_gap": null,
       "grid_row": null,
       "grid_template_areas": null,
       "grid_template_columns": null,
       "grid_template_rows": null,
       "height": null,
       "justify_content": null,
       "justify_items": null,
       "left": null,
       "margin": null,
       "max_height": null,
       "max_width": null,
       "min_height": null,
       "min_width": null,
       "object_fit": null,
       "object_position": null,
       "order": null,
       "overflow": null,
       "overflow_x": null,
       "overflow_y": null,
       "padding": null,
       "right": null,
       "top": null,
       "visibility": null,
       "width": null
      }
     },
     "5bd598d7f0b447ccb00684f511b78351": {
      "model_module": "@jupyter-widgets/controls",
      "model_module_version": "1.5.0",
      "model_name": "ProgressStyleModel",
      "state": {
       "_model_module": "@jupyter-widgets/controls",
       "_model_module_version": "1.5.0",
       "_model_name": "ProgressStyleModel",
       "_view_count": null,
       "_view_module": "@jupyter-widgets/base",
       "_view_module_version": "1.2.0",
       "_view_name": "StyleView",
       "bar_color": null,
       "description_width": ""
      }
     },
     "5bee5a5f65554d3aa877b93e4335289a": {
      "model_module": "@jupyter-widgets/controls",
      "model_module_version": "1.5.0",
      "model_name": "ProgressStyleModel",
      "state": {
       "_model_module": "@jupyter-widgets/controls",
       "_model_module_version": "1.5.0",
       "_model_name": "ProgressStyleModel",
       "_view_count": null,
       "_view_module": "@jupyter-widgets/base",
       "_view_module_version": "1.2.0",
       "_view_name": "StyleView",
       "bar_color": null,
       "description_width": ""
      }
     },
     "5d8222a1f0ba4fa5a74fbc65b8026608": {
      "model_module": "@jupyter-widgets/controls",
      "model_module_version": "1.5.0",
      "model_name": "DescriptionStyleModel",
      "state": {
       "_model_module": "@jupyter-widgets/controls",
       "_model_module_version": "1.5.0",
       "_model_name": "DescriptionStyleModel",
       "_view_count": null,
       "_view_module": "@jupyter-widgets/base",
       "_view_module_version": "1.2.0",
       "_view_name": "StyleView",
       "description_width": ""
      }
     },
     "5f2a4d2f3d1b4af78bf58cab18235d14": {
      "model_module": "@jupyter-widgets/controls",
      "model_module_version": "1.5.0",
      "model_name": "ProgressStyleModel",
      "state": {
       "_model_module": "@jupyter-widgets/controls",
       "_model_module_version": "1.5.0",
       "_model_name": "ProgressStyleModel",
       "_view_count": null,
       "_view_module": "@jupyter-widgets/base",
       "_view_module_version": "1.2.0",
       "_view_name": "StyleView",
       "bar_color": null,
       "description_width": ""
      }
     },
     "5fde9b5993bd461d8cf992e87ef08d77": {
      "model_module": "@jupyter-widgets/controls",
      "model_module_version": "1.5.0",
      "model_name": "ProgressStyleModel",
      "state": {
       "_model_module": "@jupyter-widgets/controls",
       "_model_module_version": "1.5.0",
       "_model_name": "ProgressStyleModel",
       "_view_count": null,
       "_view_module": "@jupyter-widgets/base",
       "_view_module_version": "1.2.0",
       "_view_name": "StyleView",
       "bar_color": null,
       "description_width": ""
      }
     },
     "62f0a05fb1ff4b3aad938e2ef87e9e92": {
      "model_module": "@jupyter-widgets/base",
      "model_module_version": "1.2.0",
      "model_name": "LayoutModel",
      "state": {
       "_model_module": "@jupyter-widgets/base",
       "_model_module_version": "1.2.0",
       "_model_name": "LayoutModel",
       "_view_count": null,
       "_view_module": "@jupyter-widgets/base",
       "_view_module_version": "1.2.0",
       "_view_name": "LayoutView",
       "align_content": null,
       "align_items": null,
       "align_self": null,
       "border": null,
       "bottom": null,
       "display": null,
       "flex": null,
       "flex_flow": null,
       "grid_area": null,
       "grid_auto_columns": null,
       "grid_auto_flow": null,
       "grid_auto_rows": null,
       "grid_column": null,
       "grid_gap": null,
       "grid_row": null,
       "grid_template_areas": null,
       "grid_template_columns": null,
       "grid_template_rows": null,
       "height": null,
       "justify_content": null,
       "justify_items": null,
       "left": null,
       "margin": null,
       "max_height": null,
       "max_width": null,
       "min_height": null,
       "min_width": null,
       "object_fit": null,
       "object_position": null,
       "order": null,
       "overflow": null,
       "overflow_x": null,
       "overflow_y": null,
       "padding": null,
       "right": null,
       "top": null,
       "visibility": null,
       "width": null
      }
     },
     "63c874ee0b27409aab0ff0371e2a0f0b": {
      "model_module": "@jupyter-widgets/controls",
      "model_module_version": "1.5.0",
      "model_name": "FloatProgressModel",
      "state": {
       "_dom_classes": [],
       "_model_module": "@jupyter-widgets/controls",
       "_model_module_version": "1.5.0",
       "_model_name": "FloatProgressModel",
       "_view_count": null,
       "_view_module": "@jupyter-widgets/controls",
       "_view_module_version": "1.5.0",
       "_view_name": "ProgressView",
       "bar_style": "success",
       "description": "",
       "description_tooltip": null,
       "layout": "IPY_MODEL_94a26c483e01433ba7f7f024e63828e9",
       "max": 659.0,
       "min": 0.0,
       "orientation": "horizontal",
       "style": "IPY_MODEL_d1f38eb9e35048a892545f2af707078c",
       "value": 659.0
      }
     },
     "64c1cc6cc91646c0b0cc9a6a4dcbbc89": {
      "model_module": "@jupyter-widgets/base",
      "model_module_version": "1.2.0",
      "model_name": "LayoutModel",
      "state": {
       "_model_module": "@jupyter-widgets/base",
       "_model_module_version": "1.2.0",
       "_model_name": "LayoutModel",
       "_view_count": null,
       "_view_module": "@jupyter-widgets/base",
       "_view_module_version": "1.2.0",
       "_view_name": "LayoutView",
       "align_content": null,
       "align_items": null,
       "align_self": null,
       "border": null,
       "bottom": null,
       "display": null,
       "flex": null,
       "flex_flow": null,
       "grid_area": null,
       "grid_auto_columns": null,
       "grid_auto_flow": null,
       "grid_auto_rows": null,
       "grid_column": null,
       "grid_gap": null,
       "grid_row": null,
       "grid_template_areas": null,
       "grid_template_columns": null,
       "grid_template_rows": null,
       "height": null,
       "justify_content": null,
       "justify_items": null,
       "left": null,
       "margin": null,
       "max_height": null,
       "max_width": null,
       "min_height": null,
       "min_width": null,
       "object_fit": null,
       "object_position": null,
       "order": null,
       "overflow": null,
       "overflow_x": null,
       "overflow_y": null,
       "padding": null,
       "right": null,
       "top": null,
       "visibility": null,
       "width": null
      }
     },
     "65da033ac09d41e1bc06a73d28b42d79": {
      "model_module": "@jupyter-widgets/controls",
      "model_module_version": "1.5.0",
      "model_name": "HTMLModel",
      "state": {
       "_dom_classes": [],
       "_model_module": "@jupyter-widgets/controls",
       "_model_module_version": "1.5.0",
       "_model_name": "HTMLModel",
       "_view_count": null,
       "_view_module": "@jupyter-widgets/controls",
       "_view_module_version": "1.5.0",
       "_view_name": "HTMLView",
       "description": "",
       "description_tooltip": null,
       "layout": "IPY_MODEL_0f92ad38de574e7cbde8c4817496c566",
       "placeholder": "​",
       "style": "IPY_MODEL_79b75dcc11d94bceb68cb0467a6124d1",
       "value": " 1.21k/1.21k [00:00&lt;00:00, 99.5kB/s]"
      }
     },
     "67b50ccc57b444cbac7dafb21481ba12": {
      "model_module": "@jupyter-widgets/controls",
      "model_module_version": "1.5.0",
      "model_name": "HBoxModel",
      "state": {
       "_dom_classes": [],
       "_model_module": "@jupyter-widgets/controls",
       "_model_module_version": "1.5.0",
       "_model_name": "HBoxModel",
       "_view_count": null,
       "_view_module": "@jupyter-widgets/controls",
       "_view_module_version": "1.5.0",
       "_view_name": "HBoxView",
       "box_style": "",
       "children": [
        "IPY_MODEL_05a0ced419714e35a3bc8b4f49893312",
        "IPY_MODEL_18a68056a8204f699c884ab44bc1f732",
        "IPY_MODEL_e09ad370161b405aa666d18cffba1805"
       ],
       "layout": "IPY_MODEL_a4e3b85d96ab4eb5993bc9ba2aad6de5"
      }
     },
     "68c424dd89134b51bf52158b039ee7a6": {
      "model_module": "@jupyter-widgets/base",
      "model_module_version": "1.2.0",
      "model_name": "LayoutModel",
      "state": {
       "_model_module": "@jupyter-widgets/base",
       "_model_module_version": "1.2.0",
       "_model_name": "LayoutModel",
       "_view_count": null,
       "_view_module": "@jupyter-widgets/base",
       "_view_module_version": "1.2.0",
       "_view_name": "LayoutView",
       "align_content": null,
       "align_items": null,
       "align_self": null,
       "border": null,
       "bottom": null,
       "display": null,
       "flex": null,
       "flex_flow": null,
       "grid_area": null,
       "grid_auto_columns": null,
       "grid_auto_flow": null,
       "grid_auto_rows": null,
       "grid_column": null,
       "grid_gap": null,
       "grid_row": null,
       "grid_template_areas": null,
       "grid_template_columns": null,
       "grid_template_rows": null,
       "height": null,
       "justify_content": null,
       "justify_items": null,
       "left": null,
       "margin": null,
       "max_height": null,
       "max_width": null,
       "min_height": null,
       "min_width": null,
       "object_fit": null,
       "object_position": null,
       "order": null,
       "overflow": null,
       "overflow_x": null,
       "overflow_y": null,
       "padding": null,
       "right": null,
       "top": null,
       "visibility": null,
       "width": null
      }
     },
     "695e295e25d0487a9bdae14f802b45ef": {
      "model_module": "@jupyter-widgets/controls",
      "model_module_version": "1.5.0",
      "model_name": "HTMLModel",
      "state": {
       "_dom_classes": [],
       "_model_module": "@jupyter-widgets/controls",
       "_model_module_version": "1.5.0",
       "_model_name": "HTMLModel",
       "_view_count": null,
       "_view_module": "@jupyter-widgets/controls",
       "_view_module_version": "1.5.0",
       "_view_name": "HTMLView",
       "description": "",
       "description_tooltip": null,
       "layout": "IPY_MODEL_91d7aa3b672e4a0691c3e8606caaf8ee",
       "placeholder": "​",
       "style": "IPY_MODEL_331793c1de814489b09f25f5e5d6cf75",
       "value": "Generating train split: 100%"
      }
     },
     "6c3a3b903f1945219279016683d61db4": {
      "model_module": "@jupyter-widgets/controls",
      "model_module_version": "1.5.0",
      "model_name": "DescriptionStyleModel",
      "state": {
       "_model_module": "@jupyter-widgets/controls",
       "_model_module_version": "1.5.0",
       "_model_name": "DescriptionStyleModel",
       "_view_count": null,
       "_view_module": "@jupyter-widgets/base",
       "_view_module_version": "1.2.0",
       "_view_name": "StyleView",
       "description_width": ""
      }
     },
     "6c4f5f516a5349b9b9476d33aa7032ff": {
      "model_module": "@jupyter-widgets/base",
      "model_module_version": "1.2.0",
      "model_name": "LayoutModel",
      "state": {
       "_model_module": "@jupyter-widgets/base",
       "_model_module_version": "1.2.0",
       "_model_name": "LayoutModel",
       "_view_count": null,
       "_view_module": "@jupyter-widgets/base",
       "_view_module_version": "1.2.0",
       "_view_name": "LayoutView",
       "align_content": null,
       "align_items": null,
       "align_self": null,
       "border": null,
       "bottom": null,
       "display": null,
       "flex": null,
       "flex_flow": null,
       "grid_area": null,
       "grid_auto_columns": null,
       "grid_auto_flow": null,
       "grid_auto_rows": null,
       "grid_column": null,
       "grid_gap": null,
       "grid_row": null,
       "grid_template_areas": null,
       "grid_template_columns": null,
       "grid_template_rows": null,
       "height": null,
       "justify_content": null,
       "justify_items": null,
       "left": null,
       "margin": null,
       "max_height": null,
       "max_width": null,
       "min_height": null,
       "min_width": null,
       "object_fit": null,
       "object_position": null,
       "order": null,
       "overflow": null,
       "overflow_x": null,
       "overflow_y": null,
       "padding": null,
       "right": null,
       "top": null,
       "visibility": null,
       "width": null
      }
     },
     "6ced65009a3d4facbeb4a000892e4b90": {
      "model_module": "@jupyter-widgets/controls",
      "model_module_version": "1.5.0",
      "model_name": "HTMLModel",
      "state": {
       "_dom_classes": [],
       "_model_module": "@jupyter-widgets/controls",
       "_model_module_version": "1.5.0",
       "_model_name": "HTMLModel",
       "_view_count": null,
       "_view_module": "@jupyter-widgets/controls",
       "_view_module_version": "1.5.0",
       "_view_name": "HTMLView",
       "description": "",
       "description_tooltip": null,
       "layout": "IPY_MODEL_236117534bb94759837af649b425418b",
       "placeholder": "​",
       "style": "IPY_MODEL_14923b0898fa482ca54aff07446b1438",
       "value": "Downloading readme: 100%"
      }
     },
     "71bb0ec036a041a19d59d521e537162c": {
      "model_module": "@jupyter-widgets/controls",
      "model_module_version": "1.5.0",
      "model_name": "HTMLModel",
      "state": {
       "_dom_classes": [],
       "_model_module": "@jupyter-widgets/controls",
       "_model_module_version": "1.5.0",
       "_model_name": "HTMLModel",
       "_view_count": null,
       "_view_module": "@jupyter-widgets/controls",
       "_view_module_version": "1.5.0",
       "_view_name": "HTMLView",
       "description": "",
       "description_tooltip": null,
       "layout": "IPY_MODEL_9aab9cbb8ca6463488126a81532553f7",
       "placeholder": "​",
       "style": "IPY_MODEL_1c91a372f8694e02ac803caf81849e83",
       "value": "model.safetensors.index.json: 100%"
      }
     },
     "71e220f351da404c8a0d9c6d9350c519": {
      "model_module": "@jupyter-widgets/base",
      "model_module_version": "1.2.0",
      "model_name": "LayoutModel",
      "state": {
       "_model_module": "@jupyter-widgets/base",
       "_model_module_version": "1.2.0",
       "_model_name": "LayoutModel",
       "_view_count": null,
       "_view_module": "@jupyter-widgets/base",
       "_view_module_version": "1.2.0",
       "_view_name": "LayoutView",
       "align_content": null,
       "align_items": null,
       "align_self": null,
       "border": null,
       "bottom": null,
       "display": null,
       "flex": null,
       "flex_flow": null,
       "grid_area": null,
       "grid_auto_columns": null,
       "grid_auto_flow": null,
       "grid_auto_rows": null,
       "grid_column": null,
       "grid_gap": null,
       "grid_row": null,
       "grid_template_areas": null,
       "grid_template_columns": null,
       "grid_template_rows": null,
       "height": null,
       "justify_content": null,
       "justify_items": null,
       "left": null,
       "margin": null,
       "max_height": null,
       "max_width": null,
       "min_height": null,
       "min_width": null,
       "object_fit": null,
       "object_position": null,
       "order": null,
       "overflow": null,
       "overflow_x": null,
       "overflow_y": null,
       "padding": null,
       "right": null,
       "top": null,
       "visibility": null,
       "width": null
      }
     },
     "71f14914fddd48d7bd139c7f4d8897d4": {
      "model_module": "@jupyter-widgets/base",
      "model_module_version": "1.2.0",
      "model_name": "LayoutModel",
      "state": {
       "_model_module": "@jupyter-widgets/base",
       "_model_module_version": "1.2.0",
       "_model_name": "LayoutModel",
       "_view_count": null,
       "_view_module": "@jupyter-widgets/base",
       "_view_module_version": "1.2.0",
       "_view_name": "LayoutView",
       "align_content": null,
       "align_items": null,
       "align_self": null,
       "border": null,
       "bottom": null,
       "display": null,
       "flex": null,
       "flex_flow": null,
       "grid_area": null,
       "grid_auto_columns": null,
       "grid_auto_flow": null,
       "grid_auto_rows": null,
       "grid_column": null,
       "grid_gap": null,
       "grid_row": null,
       "grid_template_areas": null,
       "grid_template_columns": null,
       "grid_template_rows": null,
       "height": null,
       "justify_content": null,
       "justify_items": null,
       "left": null,
       "margin": null,
       "max_height": null,
       "max_width": null,
       "min_height": null,
       "min_width": null,
       "object_fit": null,
       "object_position": null,
       "order": null,
       "overflow": null,
       "overflow_x": null,
       "overflow_y": null,
       "padding": null,
       "right": null,
       "top": null,
       "visibility": null,
       "width": null
      }
     },
     "7206449113664b698f57ae390cac91e0": {
      "model_module": "@jupyter-widgets/controls",
      "model_module_version": "1.5.0",
      "model_name": "HTMLModel",
      "state": {
       "_dom_classes": [],
       "_model_module": "@jupyter-widgets/controls",
       "_model_module_version": "1.5.0",
       "_model_name": "HTMLModel",
       "_view_count": null,
       "_view_module": "@jupyter-widgets/controls",
       "_view_module_version": "1.5.0",
       "_view_name": "HTMLView",
       "description": "",
       "description_tooltip": null,
       "layout": "IPY_MODEL_9e4c0ffbd370473c9e841ecaff7c5f31",
       "placeholder": "​",
       "style": "IPY_MODEL_2c851900b362432c88d2322d2a3f3861",
       "value": "Computing checksums: 100%"
      }
     },
     "72ea4c4ba4984729bda2798d03b8cc2a": {
      "model_module": "@jupyter-widgets/controls",
      "model_module_version": "1.5.0",
      "model_name": "HTMLModel",
      "state": {
       "_dom_classes": [],
       "_model_module": "@jupyter-widgets/controls",
       "_model_module_version": "1.5.0",
       "_model_name": "HTMLModel",
       "_view_count": null,
       "_view_module": "@jupyter-widgets/controls",
       "_view_module_version": "1.5.0",
       "_view_name": "HTMLView",
       "description": "",
       "description_tooltip": null,
       "layout": "IPY_MODEL_0989f88fc9564cc4a225c27d0f178218",
       "placeholder": "​",
       "style": "IPY_MODEL_35d21063c3924c92a6c96637b75c5bda",
       "value": " 194/194 [00:00&lt;00:00, 15.3kB/s]"
      }
     },
     "7507e5c6ece54592995be39b2f01aebd": {
      "model_module": "@jupyter-widgets/controls",
      "model_module_version": "1.5.0",
      "model_name": "HTMLModel",
      "state": {
       "_dom_classes": [],
       "_model_module": "@jupyter-widgets/controls",
       "_model_module_version": "1.5.0",
       "_model_name": "HTMLModel",
       "_view_count": null,
       "_view_module": "@jupyter-widgets/controls",
       "_view_module_version": "1.5.0",
       "_view_name": "HTMLView",
       "description": "",
       "description_tooltip": null,
       "layout": "IPY_MODEL_1fb605e2e7a2459f91ae24687cc4f0c4",
       "placeholder": "​",
       "style": "IPY_MODEL_db82d0765615473e8632874fad7b207d",
       "value": "model-00001-of-00002.safetensors: 100%"
      }
     },
     "77177a51cf6145ebb49bb0f8ac2e93c2": {
      "model_module": "@jupyter-widgets/controls",
      "model_module_version": "1.5.0",
      "model_name": "FloatProgressModel",
      "state": {
       "_dom_classes": [],
       "_model_module": "@jupyter-widgets/controls",
       "_model_module_version": "1.5.0",
       "_model_name": "FloatProgressModel",
       "_view_count": null,
       "_view_module": "@jupyter-widgets/controls",
       "_view_module_version": "1.5.0",
       "_view_name": "ProgressView",
       "bar_style": "success",
       "description": "",
       "description_tooltip": null,
       "layout": "IPY_MODEL_6c4f5f516a5349b9b9476d33aa7032ff",
       "max": 4652072867.0,
       "min": 0.0,
       "orientation": "horizontal",
       "style": "IPY_MODEL_f416e84f66cf484f92c5f0cc9aac21f6",
       "value": 4652072867.0
      }
     },
     "7878e5221d9e4cc799028b2b93bc17d8": {
      "model_module": "@jupyter-widgets/controls",
      "model_module_version": "1.5.0",
      "model_name": "ProgressStyleModel",
      "state": {
       "_model_module": "@jupyter-widgets/controls",
       "_model_module_version": "1.5.0",
       "_model_name": "ProgressStyleModel",
       "_view_count": null,
       "_view_module": "@jupyter-widgets/base",
       "_view_module_version": "1.2.0",
       "_view_name": "StyleView",
       "bar_color": null,
       "description_width": ""
      }
     },
     "79b75dcc11d94bceb68cb0467a6124d1": {
      "model_module": "@jupyter-widgets/controls",
      "model_module_version": "1.5.0",
      "model_name": "DescriptionStyleModel",
      "state": {
       "_model_module": "@jupyter-widgets/controls",
       "_model_module_version": "1.5.0",
       "_model_name": "DescriptionStyleModel",
       "_view_count": null,
       "_view_module": "@jupyter-widgets/base",
       "_view_module_version": "1.2.0",
       "_view_name": "StyleView",
       "description_width": ""
      }
     },
     "79e1fc8343aa4da59c3791eefe3ffaea": {
      "model_module": "@jupyter-widgets/controls",
      "model_module_version": "1.5.0",
      "model_name": "DescriptionStyleModel",
      "state": {
       "_model_module": "@jupyter-widgets/controls",
       "_model_module_version": "1.5.0",
       "_model_name": "DescriptionStyleModel",
       "_view_count": null,
       "_view_module": "@jupyter-widgets/base",
       "_view_module_version": "1.2.0",
       "_view_name": "StyleView",
       "description_width": ""
      }
     },
     "7a87dcfa03184e47b9e465cb9c24fe93": {
      "model_module": "@jupyter-widgets/controls",
      "model_module_version": "1.5.0",
      "model_name": "DescriptionStyleModel",
      "state": {
       "_model_module": "@jupyter-widgets/controls",
       "_model_module_version": "1.5.0",
       "_model_name": "DescriptionStyleModel",
       "_view_count": null,
       "_view_module": "@jupyter-widgets/base",
       "_view_module_version": "1.2.0",
       "_view_name": "StyleView",
       "description_width": ""
      }
     },
     "7be85a9b48604ba38d05a8d41490cffe": {
      "model_module": "@jupyter-widgets/controls",
      "model_module_version": "1.5.0",
      "model_name": "HBoxModel",
      "state": {
       "_dom_classes": [],
       "_model_module": "@jupyter-widgets/controls",
       "_model_module_version": "1.5.0",
       "_model_name": "HBoxModel",
       "_view_count": null,
       "_view_module": "@jupyter-widgets/controls",
       "_view_module_version": "1.5.0",
       "_view_name": "HBoxView",
       "box_style": "",
       "children": [
        "IPY_MODEL_c9ee8c22c65c48b1bbc853dcffb41d61",
        "IPY_MODEL_e9a5eb1a778e495cba7476e35d8fd172",
        "IPY_MODEL_7f148d578ef14bca8aea338de490c12c"
       ],
       "layout": "IPY_MODEL_fc37f45565fa46f2ac173c845e22783e"
      }
     },
     "7e9430b09c6f45609d973eeea0452217": {
      "model_module": "@jupyter-widgets/controls",
      "model_module_version": "1.5.0",
      "model_name": "HTMLModel",
      "state": {
       "_dom_classes": [],
       "_model_module": "@jupyter-widgets/controls",
       "_model_module_version": "1.5.0",
       "_model_name": "HTMLModel",
       "_view_count": null,
       "_view_module": "@jupyter-widgets/controls",
       "_view_module_version": "1.5.0",
       "_view_name": "HTMLView",
       "description": "",
       "description_tooltip": null,
       "layout": "IPY_MODEL_08c3642445b2465bbbb23a943addd6e8",
       "placeholder": "​",
       "style": "IPY_MODEL_a82601554a6d4bdea828be97c9a8eebe",
       "value": " 659/659 [00:00&lt;00:00, 52.7kB/s]"
      }
     },
     "7f148d578ef14bca8aea338de490c12c": {
      "model_module": "@jupyter-widgets/controls",
      "model_module_version": "1.5.0",
      "model_name": "HTMLModel",
      "state": {
       "_dom_classes": [],
       "_model_module": "@jupyter-widgets/controls",
       "_model_module_version": "1.5.0",
       "_model_name": "HTMLModel",
       "_view_count": null,
       "_view_module": "@jupyter-widgets/controls",
       "_view_module_version": "1.5.0",
       "_view_name": "HTMLView",
       "description": "",
       "description_tooltip": null,
       "layout": "IPY_MODEL_57718f1e13df4d14bc053b0c6968c8bc",
       "placeholder": "​",
       "style": "IPY_MODEL_e8681093e5de4276a581696ec6d6b7e0",
       "value": " 9.09M/9.09M [00:00&lt;00:00, 19.9MB/s]"
      }
     },
     "7f6013315f79451f9265b1c4486b3f17": {
      "model_module": "@jupyter-widgets/controls",
      "model_module_version": "1.5.0",
      "model_name": "ProgressStyleModel",
      "state": {
       "_model_module": "@jupyter-widgets/controls",
       "_model_module_version": "1.5.0",
       "_model_name": "ProgressStyleModel",
       "_view_count": null,
       "_view_module": "@jupyter-widgets/base",
       "_view_module_version": "1.2.0",
       "_view_name": "StyleView",
       "bar_color": null,
       "description_width": ""
      }
     },
     "8119550dc408482aa7441ae14c5a46bc": {
      "model_module": "@jupyter-widgets/controls",
      "model_module_version": "1.5.0",
      "model_name": "HTMLModel",
      "state": {
       "_dom_classes": [],
       "_model_module": "@jupyter-widgets/controls",
       "_model_module_version": "1.5.0",
       "_model_name": "HTMLModel",
       "_view_count": null,
       "_view_module": "@jupyter-widgets/controls",
       "_view_module_version": "1.5.0",
       "_view_name": "HTMLView",
       "description": "",
       "description_tooltip": null,
       "layout": "IPY_MODEL_1c1e9ea3f9d545dfb396c0d8b0582d9f",
       "placeholder": "​",
       "style": "IPY_MODEL_533e814cf11e40cba54d7c16d57aa0a7",
       "value": " 51.0k/51.0k [00:00&lt;00:00, 3.19MB/s]"
      }
     },
     "83ea9a7d0fe14f0ea3ddefb1d7ce9b18": {
      "model_module": "@jupyter-widgets/controls",
      "model_module_version": "1.5.0",
      "model_name": "DescriptionStyleModel",
      "state": {
       "_model_module": "@jupyter-widgets/controls",
       "_model_module_version": "1.5.0",
       "_model_name": "DescriptionStyleModel",
       "_view_count": null,
       "_view_module": "@jupyter-widgets/base",
       "_view_module_version": "1.2.0",
       "_view_name": "StyleView",
       "description_width": ""
      }
     },
     "84a4f731cd804eef830fdc62b008b704": {
      "model_module": "@jupyter-widgets/controls",
      "model_module_version": "1.5.0",
      "model_name": "HTMLModel",
      "state": {
       "_dom_classes": [],
       "_model_module": "@jupyter-widgets/controls",
       "_model_module_version": "1.5.0",
       "_model_name": "HTMLModel",
       "_view_count": null,
       "_view_module": "@jupyter-widgets/controls",
       "_view_module_version": "1.5.0",
       "_view_name": "HTMLView",
       "description": "",
       "description_tooltip": null,
       "layout": "IPY_MODEL_3e8d2648650140ff844556f73a71d0c6",
       "placeholder": "​",
       "style": "IPY_MODEL_c2c26a4d80ff4dc8a13ec2d27c189840",
       "value": "Downloading shards: 100%"
      }
     },
     "862c85db272c4042871e448c49cafb15": {
      "model_module": "@jupyter-widgets/base",
      "model_module_version": "1.2.0",
      "model_name": "LayoutModel",
      "state": {
       "_model_module": "@jupyter-widgets/base",
       "_model_module_version": "1.2.0",
       "_model_name": "LayoutModel",
       "_view_count": null,
       "_view_module": "@jupyter-widgets/base",
       "_view_module_version": "1.2.0",
       "_view_name": "LayoutView",
       "align_content": null,
       "align_items": null,
       "align_self": null,
       "border": null,
       "bottom": null,
       "display": null,
       "flex": null,
       "flex_flow": null,
       "grid_area": null,
       "grid_auto_columns": null,
       "grid_auto_flow": null,
       "grid_auto_rows": null,
       "grid_column": null,
       "grid_gap": null,
       "grid_row": null,
       "grid_template_areas": null,
       "grid_template_columns": null,
       "grid_template_rows": null,
       "height": null,
       "justify_content": null,
       "justify_items": null,
       "left": null,
       "margin": null,
       "max_height": null,
       "max_width": null,
       "min_height": null,
       "min_width": null,
       "object_fit": null,
       "object_position": null,
       "order": null,
       "overflow": null,
       "overflow_x": null,
       "overflow_y": null,
       "padding": null,
       "right": null,
       "top": null,
       "visibility": null,
       "width": null
      }
     },
     "86f9e96a34854712977fb5275f8855b8": {
      "model_module": "@jupyter-widgets/controls",
      "model_module_version": "1.5.0",
      "model_name": "ProgressStyleModel",
      "state": {
       "_model_module": "@jupyter-widgets/controls",
       "_model_module_version": "1.5.0",
       "_model_name": "ProgressStyleModel",
       "_view_count": null,
       "_view_module": "@jupyter-widgets/base",
       "_view_module_version": "1.2.0",
       "_view_name": "StyleView",
       "bar_color": null,
       "description_width": ""
      }
     },
     "8869c78bedcb489ea8ff2c53b28a5dec": {
      "model_module": "@jupyter-widgets/controls",
      "model_module_version": "1.5.0",
      "model_name": "ProgressStyleModel",
      "state": {
       "_model_module": "@jupyter-widgets/controls",
       "_model_module_version": "1.5.0",
       "_model_name": "ProgressStyleModel",
       "_view_count": null,
       "_view_module": "@jupyter-widgets/base",
       "_view_module_version": "1.2.0",
       "_view_name": "StyleView",
       "bar_color": null,
       "description_width": ""
      }
     },
     "89c42a30789d4d1ca908ba8e69022fbb": {
      "model_module": "@jupyter-widgets/controls",
      "model_module_version": "1.5.0",
      "model_name": "HBoxModel",
      "state": {
       "_dom_classes": [],
       "_model_module": "@jupyter-widgets/controls",
       "_model_module_version": "1.5.0",
       "_model_name": "HBoxModel",
       "_view_count": null,
       "_view_module": "@jupyter-widgets/controls",
       "_view_module_version": "1.5.0",
       "_view_name": "HBoxView",
       "box_style": "",
       "children": [
        "IPY_MODEL_8bac80d4eac6403abcc98e0c5adfbb9f",
        "IPY_MODEL_2d62e7ac57734ff5ac7c85ac3540c71a",
        "IPY_MODEL_023e5acda86a4af5a8642de5652449bd"
       ],
       "layout": "IPY_MODEL_a6d4d678472e4f179d53317f050148f0"
      }
     },
     "8ad081ce959f423cbaf3d162f411fb3d": {
      "model_module": "@jupyter-widgets/controls",
      "model_module_version": "1.5.0",
      "model_name": "HBoxModel",
      "state": {
       "_dom_classes": [],
       "_model_module": "@jupyter-widgets/controls",
       "_model_module_version": "1.5.0",
       "_model_name": "HBoxModel",
       "_view_count": null,
       "_view_module": "@jupyter-widgets/controls",
       "_view_module_version": "1.5.0",
       "_view_name": "HBoxView",
       "box_style": "",
       "children": [
        "IPY_MODEL_7206449113664b698f57ae390cac91e0",
        "IPY_MODEL_95f2fd2bfcf84c6e84ea4dc834c7a31c",
        "IPY_MODEL_c634a3cf17c84c5db033088b9cef97ff"
       ],
       "layout": "IPY_MODEL_d8dfaf405501478db48f84dd4b6007ef"
      }
     },
     "8b05a6b0bc1c44b89946054f2fdb08bd": {
      "model_module": "@jupyter-widgets/base",
      "model_module_version": "1.2.0",
      "model_name": "LayoutModel",
      "state": {
       "_model_module": "@jupyter-widgets/base",
       "_model_module_version": "1.2.0",
       "_model_name": "LayoutModel",
       "_view_count": null,
       "_view_module": "@jupyter-widgets/base",
       "_view_module_version": "1.2.0",
       "_view_name": "LayoutView",
       "align_content": null,
       "align_items": null,
       "align_self": null,
       "border": null,
       "bottom": null,
       "display": null,
       "flex": null,
       "flex_flow": null,
       "grid_area": null,
       "grid_auto_columns": null,
       "grid_auto_flow": null,
       "grid_auto_rows": null,
       "grid_column": null,
       "grid_gap": null,
       "grid_row": null,
       "grid_template_areas": null,
       "grid_template_columns": null,
       "grid_template_rows": null,
       "height": null,
       "justify_content": null,
       "justify_items": null,
       "left": null,
       "margin": null,
       "max_height": null,
       "max_width": null,
       "min_height": null,
       "min_width": null,
       "object_fit": null,
       "object_position": null,
       "order": null,
       "overflow": null,
       "overflow_x": null,
       "overflow_y": null,
       "padding": null,
       "right": null,
       "top": null,
       "visibility": null,
       "width": null
      }
     },
     "8bac80d4eac6403abcc98e0c5adfbb9f": {
      "model_module": "@jupyter-widgets/controls",
      "model_module_version": "1.5.0",
      "model_name": "HTMLModel",
      "state": {
       "_dom_classes": [],
       "_model_module": "@jupyter-widgets/controls",
       "_model_module_version": "1.5.0",
       "_model_name": "HTMLModel",
       "_view_count": null,
       "_view_module": "@jupyter-widgets/controls",
       "_view_module_version": "1.5.0",
       "_view_name": "HTMLView",
       "description": "",
       "description_tooltip": null,
       "layout": "IPY_MODEL_d52bf7d044234779a6c56b8c8f1da154",
       "placeholder": "​",
       "style": "IPY_MODEL_5d8222a1f0ba4fa5a74fbc65b8026608",
       "value": "Downloading data: 100%"
      }
     },
     "900387af4c4846a192b4ca0ae8e22cb4": {
      "model_module": "@jupyter-widgets/controls",
      "model_module_version": "1.5.0",
      "model_name": "HBoxModel",
      "state": {
       "_dom_classes": [],
       "_model_module": "@jupyter-widgets/controls",
       "_model_module_version": "1.5.0",
       "_model_name": "HBoxModel",
       "_view_count": null,
       "_view_module": "@jupyter-widgets/controls",
       "_view_module_version": "1.5.0",
       "_view_name": "HBoxView",
       "box_style": "",
       "children": [
        "IPY_MODEL_c6eeb756ab1a46eaa6dd6c1560afda20",
        "IPY_MODEL_b01e73a529f74d94b5b80f3379b477d2",
        "IPY_MODEL_b58c524fd67640e2b83bc3bd1d60ef1a"
       ],
       "layout": "IPY_MODEL_49b14d8a529740deb8481425780f362d"
      }
     },
     "91d7aa3b672e4a0691c3e8606caaf8ee": {
      "model_module": "@jupyter-widgets/base",
      "model_module_version": "1.2.0",
      "model_name": "LayoutModel",
      "state": {
       "_model_module": "@jupyter-widgets/base",
       "_model_module_version": "1.2.0",
       "_model_name": "LayoutModel",
       "_view_count": null,
       "_view_module": "@jupyter-widgets/base",
       "_view_module_version": "1.2.0",
       "_view_name": "LayoutView",
       "align_content": null,
       "align_items": null,
       "align_self": null,
       "border": null,
       "bottom": null,
       "display": null,
       "flex": null,
       "flex_flow": null,
       "grid_area": null,
       "grid_auto_columns": null,
       "grid_auto_flow": null,
       "grid_auto_rows": null,
       "grid_column": null,
       "grid_gap": null,
       "grid_row": null,
       "grid_template_areas": null,
       "grid_template_columns": null,
       "grid_template_rows": null,
       "height": null,
       "justify_content": null,
       "justify_items": null,
       "left": null,
       "margin": null,
       "max_height": null,
       "max_width": null,
       "min_height": null,
       "min_width": null,
       "object_fit": null,
       "object_position": null,
       "order": null,
       "overflow": null,
       "overflow_x": null,
       "overflow_y": null,
       "padding": null,
       "right": null,
       "top": null,
       "visibility": null,
       "width": null
      }
     },
     "920a81dc1e4a42379539e29f4d3e4096": {
      "model_module": "@jupyter-widgets/controls",
      "model_module_version": "1.5.0",
      "model_name": "HTMLModel",
      "state": {
       "_dom_classes": [],
       "_model_module": "@jupyter-widgets/controls",
       "_model_module_version": "1.5.0",
       "_model_name": "HTMLModel",
       "_view_count": null,
       "_view_module": "@jupyter-widgets/controls",
       "_view_module_version": "1.5.0",
       "_view_name": "HTMLView",
       "description": "",
       "description_tooltip": null,
       "layout": "IPY_MODEL_da50a6b8786d4979b690ff6c096b8d7d",
       "placeholder": "​",
       "style": "IPY_MODEL_4c937b95374946a9b4b3897712840fe0",
       "value": " 2/2 [00:23&lt;00:00, 10.45s/it]"
      }
     },
     "928d23daa4fb42149fa78118ec841d1b": {
      "model_module": "@jupyter-widgets/controls",
      "model_module_version": "1.5.0",
      "model_name": "ProgressStyleModel",
      "state": {
       "_model_module": "@jupyter-widgets/controls",
       "_model_module_version": "1.5.0",
       "_model_name": "ProgressStyleModel",
       "_view_count": null,
       "_view_module": "@jupyter-widgets/base",
       "_view_module_version": "1.2.0",
       "_view_name": "StyleView",
       "bar_color": null,
       "description_width": ""
      }
     },
     "94727782d0c649ef859ac9eecbcc00dd": {
      "model_module": "@jupyter-widgets/controls",
      "model_module_version": "1.5.0",
      "model_name": "HTMLModel",
      "state": {
       "_dom_classes": [],
       "_model_module": "@jupyter-widgets/controls",
       "_model_module_version": "1.5.0",
       "_model_name": "HTMLModel",
       "_view_count": null,
       "_view_module": "@jupyter-widgets/controls",
       "_view_module_version": "1.5.0",
       "_view_name": "HTMLView",
       "description": "",
       "description_tooltip": null,
       "layout": "IPY_MODEL_ff74579d72b9475b8efdf1833853955a",
       "placeholder": "​",
       "style": "IPY_MODEL_aa2f56fc104e482d8b83ef55455508a8",
       "value": " 132k/132k [00:00&lt;00:00, 6.41MB/s]"
      }
     },
     "94a26c483e01433ba7f7f024e63828e9": {
      "model_module": "@jupyter-widgets/base",
      "model_module_version": "1.2.0",
      "model_name": "LayoutModel",
      "state": {
       "_model_module": "@jupyter-widgets/base",
       "_model_module_version": "1.2.0",
       "_model_name": "LayoutModel",
       "_view_count": null,
       "_view_module": "@jupyter-widgets/base",
       "_view_module_version": "1.2.0",
       "_view_name": "LayoutView",
       "align_content": null,
       "align_items": null,
       "align_self": null,
       "border": null,
       "bottom": null,
       "display": null,
       "flex": null,
       "flex_flow": null,
       "grid_area": null,
       "grid_auto_columns": null,
       "grid_auto_flow": null,
       "grid_auto_rows": null,
       "grid_column": null,
       "grid_gap": null,
       "grid_row": null,
       "grid_template_areas": null,
       "grid_template_columns": null,
       "grid_template_rows": null,
       "height": null,
       "justify_content": null,
       "justify_items": null,
       "left": null,
       "margin": null,
       "max_height": null,
       "max_width": null,
       "min_height": null,
       "min_width": null,
       "object_fit": null,
       "object_position": null,
       "order": null,
       "overflow": null,
       "overflow_x": null,
       "overflow_y": null,
       "padding": null,
       "right": null,
       "top": null,
       "visibility": null,
       "width": null
      }
     },
     "95f2fd2bfcf84c6e84ea4dc834c7a31c": {
      "model_module": "@jupyter-widgets/controls",
      "model_module_version": "1.5.0",
      "model_name": "FloatProgressModel",
      "state": {
       "_dom_classes": [],
       "_model_module": "@jupyter-widgets/controls",
       "_model_module_version": "1.5.0",
       "_model_name": "FloatProgressModel",
       "_view_count": null,
       "_view_module": "@jupyter-widgets/controls",
       "_view_module_version": "1.5.0",
       "_view_name": "ProgressView",
       "bar_style": "success",
       "description": "",
       "description_tooltip": null,
       "layout": "IPY_MODEL_bdb00b0397cc441f80f067678ae9d961",
       "max": 1.0,
       "min": 0.0,
       "orientation": "horizontal",
       "style": "IPY_MODEL_ca09455a02e14f6db721df6b448d0408",
       "value": 1.0
      }
     },
     "96c7348ef63f4399835b8510e32138e0": {
      "model_module": "@jupyter-widgets/base",
      "model_module_version": "1.2.0",
      "model_name": "LayoutModel",
      "state": {
       "_model_module": "@jupyter-widgets/base",
       "_model_module_version": "1.2.0",
       "_model_name": "LayoutModel",
       "_view_count": null,
       "_view_module": "@jupyter-widgets/base",
       "_view_module_version": "1.2.0",
       "_view_name": "LayoutView",
       "align_content": null,
       "align_items": null,
       "align_self": null,
       "border": null,
       "bottom": null,
       "display": null,
       "flex": null,
       "flex_flow": null,
       "grid_area": null,
       "grid_auto_columns": null,
       "grid_auto_flow": null,
       "grid_auto_rows": null,
       "grid_column": null,
       "grid_gap": null,
       "grid_row": null,
       "grid_template_areas": null,
       "grid_template_columns": null,
       "grid_template_rows": null,
       "height": null,
       "justify_content": null,
       "justify_items": null,
       "left": null,
       "margin": null,
       "max_height": null,
       "max_width": null,
       "min_height": null,
       "min_width": null,
       "object_fit": null,
       "object_position": null,
       "order": null,
       "overflow": null,
       "overflow_x": null,
       "overflow_y": null,
       "padding": null,
       "right": null,
       "top": null,
       "visibility": null,
       "width": null
      }
     },
     "99df713e39644782adf734f32c0c6847": {
      "model_module": "@jupyter-widgets/controls",
      "model_module_version": "1.5.0",
      "model_name": "DescriptionStyleModel",
      "state": {
       "_model_module": "@jupyter-widgets/controls",
       "_model_module_version": "1.5.0",
       "_model_name": "DescriptionStyleModel",
       "_view_count": null,
       "_view_module": "@jupyter-widgets/base",
       "_view_module_version": "1.2.0",
       "_view_name": "StyleView",
       "description_width": ""
      }
     },
     "9aab9cbb8ca6463488126a81532553f7": {
      "model_module": "@jupyter-widgets/base",
      "model_module_version": "1.2.0",
      "model_name": "LayoutModel",
      "state": {
       "_model_module": "@jupyter-widgets/base",
       "_model_module_version": "1.2.0",
       "_model_name": "LayoutModel",
       "_view_count": null,
       "_view_module": "@jupyter-widgets/base",
       "_view_module_version": "1.2.0",
       "_view_name": "LayoutView",
       "align_content": null,
       "align_items": null,
       "align_self": null,
       "border": null,
       "bottom": null,
       "display": null,
       "flex": null,
       "flex_flow": null,
       "grid_area": null,
       "grid_auto_columns": null,
       "grid_auto_flow": null,
       "grid_auto_rows": null,
       "grid_column": null,
       "grid_gap": null,
       "grid_row": null,
       "grid_template_areas": null,
       "grid_template_columns": null,
       "grid_template_rows": null,
       "height": null,
       "justify_content": null,
       "justify_items": null,
       "left": null,
       "margin": null,
       "max_height": null,
       "max_width": null,
       "min_height": null,
       "min_width": null,
       "object_fit": null,
       "object_position": null,
       "order": null,
       "overflow": null,
       "overflow_x": null,
       "overflow_y": null,
       "padding": null,
       "right": null,
       "top": null,
       "visibility": null,
       "width": null
      }
     },
     "9e4c0ffbd370473c9e841ecaff7c5f31": {
      "model_module": "@jupyter-widgets/base",
      "model_module_version": "1.2.0",
      "model_name": "LayoutModel",
      "state": {
       "_model_module": "@jupyter-widgets/base",
       "_model_module_version": "1.2.0",
       "_model_name": "LayoutModel",
       "_view_count": null,
       "_view_module": "@jupyter-widgets/base",
       "_view_module_version": "1.2.0",
       "_view_name": "LayoutView",
       "align_content": null,
       "align_items": null,
       "align_self": null,
       "border": null,
       "bottom": null,
       "display": null,
       "flex": null,
       "flex_flow": null,
       "grid_area": null,
       "grid_auto_columns": null,
       "grid_auto_flow": null,
       "grid_auto_rows": null,
       "grid_column": null,
       "grid_gap": null,
       "grid_row": null,
       "grid_template_areas": null,
       "grid_template_columns": null,
       "grid_template_rows": null,
       "height": null,
       "justify_content": null,
       "justify_items": null,
       "left": null,
       "margin": null,
       "max_height": null,
       "max_width": null,
       "min_height": null,
       "min_width": null,
       "object_fit": null,
       "object_position": null,
       "order": null,
       "overflow": null,
       "overflow_x": null,
       "overflow_y": null,
       "padding": null,
       "right": null,
       "top": null,
       "visibility": null,
       "width": null
      }
     },
     "a2941196e61c430aae594450a2ae7a9c": {
      "model_module": "@jupyter-widgets/controls",
      "model_module_version": "1.5.0",
      "model_name": "HBoxModel",
      "state": {
       "_dom_classes": [],
       "_model_module": "@jupyter-widgets/controls",
       "_model_module_version": "1.5.0",
       "_model_name": "HBoxModel",
       "_view_count": null,
       "_view_module": "@jupyter-widgets/controls",
       "_view_module_version": "1.5.0",
       "_view_name": "HBoxView",
       "box_style": "",
       "children": [
        "IPY_MODEL_31afc264cfe448738f36f6458c5f42a2",
        "IPY_MODEL_50c53237e38a465f8676352de83540a4",
        "IPY_MODEL_72ea4c4ba4984729bda2798d03b8cc2a"
       ],
       "layout": "IPY_MODEL_e3ccd4ced3a147ffb657017b4ecf48bf"
      }
     },
     "a2eb75a7c71847d68f2afcf7ab2080ef": {
      "model_module": "@jupyter-widgets/base",
      "model_module_version": "1.2.0",
      "model_name": "LayoutModel",
      "state": {
       "_model_module": "@jupyter-widgets/base",
       "_model_module_version": "1.2.0",
       "_model_name": "LayoutModel",
       "_view_count": null,
       "_view_module": "@jupyter-widgets/base",
       "_view_module_version": "1.2.0",
       "_view_name": "LayoutView",
       "align_content": null,
       "align_items": null,
       "align_self": null,
       "border": null,
       "bottom": null,
       "display": null,
       "flex": null,
       "flex_flow": null,
       "grid_area": null,
       "grid_auto_columns": null,
       "grid_auto_flow": null,
       "grid_auto_rows": null,
       "grid_column": null,
       "grid_gap": null,
       "grid_row": null,
       "grid_template_areas": null,
       "grid_template_columns": null,
       "grid_template_rows": null,
       "height": null,
       "justify_content": null,
       "justify_items": null,
       "left": null,
       "margin": null,
       "max_height": null,
       "max_width": null,
       "min_height": null,
       "min_width": null,
       "object_fit": null,
       "object_position": null,
       "order": null,
       "overflow": null,
       "overflow_x": null,
       "overflow_y": null,
       "padding": null,
       "right": null,
       "top": null,
       "visibility": null,
       "width": null
      }
     },
     "a4c2ad193e2940108ef1138e1c06b696": {
      "model_module": "@jupyter-widgets/controls",
      "model_module_version": "1.5.0",
      "model_name": "DescriptionStyleModel",
      "state": {
       "_model_module": "@jupyter-widgets/controls",
       "_model_module_version": "1.5.0",
       "_model_name": "DescriptionStyleModel",
       "_view_count": null,
       "_view_module": "@jupyter-widgets/base",
       "_view_module_version": "1.2.0",
       "_view_name": "StyleView",
       "description_width": ""
      }
     },
     "a4e3b85d96ab4eb5993bc9ba2aad6de5": {
      "model_module": "@jupyter-widgets/base",
      "model_module_version": "1.2.0",
      "model_name": "LayoutModel",
      "state": {
       "_model_module": "@jupyter-widgets/base",
       "_model_module_version": "1.2.0",
       "_model_name": "LayoutModel",
       "_view_count": null,
       "_view_module": "@jupyter-widgets/base",
       "_view_module_version": "1.2.0",
       "_view_name": "LayoutView",
       "align_content": null,
       "align_items": null,
       "align_self": null,
       "border": null,
       "bottom": null,
       "display": null,
       "flex": null,
       "flex_flow": null,
       "grid_area": null,
       "grid_auto_columns": null,
       "grid_auto_flow": null,
       "grid_auto_rows": null,
       "grid_column": null,
       "grid_gap": null,
       "grid_row": null,
       "grid_template_areas": null,
       "grid_template_columns": null,
       "grid_template_rows": null,
       "height": null,
       "justify_content": null,
       "justify_items": null,
       "left": null,
       "margin": null,
       "max_height": null,
       "max_width": null,
       "min_height": null,
       "min_width": null,
       "object_fit": null,
       "object_position": null,
       "order": null,
       "overflow": null,
       "overflow_x": null,
       "overflow_y": null,
       "padding": null,
       "right": null,
       "top": null,
       "visibility": null,
       "width": null
      }
     },
     "a5c17426ed544fa5a7b927ed4cfebb70": {
      "model_module": "@jupyter-widgets/base",
      "model_module_version": "1.2.0",
      "model_name": "LayoutModel",
      "state": {
       "_model_module": "@jupyter-widgets/base",
       "_model_module_version": "1.2.0",
       "_model_name": "LayoutModel",
       "_view_count": null,
       "_view_module": "@jupyter-widgets/base",
       "_view_module_version": "1.2.0",
       "_view_name": "LayoutView",
       "align_content": null,
       "align_items": null,
       "align_self": null,
       "border": null,
       "bottom": null,
       "display": null,
       "flex": null,
       "flex_flow": null,
       "grid_area": null,
       "grid_auto_columns": null,
       "grid_auto_flow": null,
       "grid_auto_rows": null,
       "grid_column": null,
       "grid_gap": null,
       "grid_row": null,
       "grid_template_areas": null,
       "grid_template_columns": null,
       "grid_template_rows": null,
       "height": null,
       "justify_content": null,
       "justify_items": null,
       "left": null,
       "margin": null,
       "max_height": null,
       "max_width": null,
       "min_height": null,
       "min_width": null,
       "object_fit": null,
       "object_position": null,
       "order": null,
       "overflow": null,
       "overflow_x": null,
       "overflow_y": null,
       "padding": null,
       "right": null,
       "top": null,
       "visibility": null,
       "width": null
      }
     },
     "a5d644c769ac4c00b372eb4e5ab9e83a": {
      "model_module": "@jupyter-widgets/controls",
      "model_module_version": "1.5.0",
      "model_name": "HTMLModel",
      "state": {
       "_dom_classes": [],
       "_model_module": "@jupyter-widgets/controls",
       "_model_module_version": "1.5.0",
       "_model_name": "HTMLModel",
       "_view_count": null,
       "_view_module": "@jupyter-widgets/controls",
       "_view_module_version": "1.5.0",
       "_view_name": "HTMLView",
       "description": "",
       "description_tooltip": null,
       "layout": "IPY_MODEL_c4473f8af09242d585ac9377e18b183c",
       "placeholder": "​",
       "style": "IPY_MODEL_b9dd2de83ed0470693705bdffcfdeb6e",
       "value": " 2/2 [00:02&lt;00:00,  1.12s/it]"
      }
     },
     "a6d4d678472e4f179d53317f050148f0": {
      "model_module": "@jupyter-widgets/base",
      "model_module_version": "1.2.0",
      "model_name": "LayoutModel",
      "state": {
       "_model_module": "@jupyter-widgets/base",
       "_model_module_version": "1.2.0",
       "_model_name": "LayoutModel",
       "_view_count": null,
       "_view_module": "@jupyter-widgets/base",
       "_view_module_version": "1.2.0",
       "_view_name": "LayoutView",
       "align_content": null,
       "align_items": null,
       "align_self": null,
       "border": null,
       "bottom": null,
       "display": null,
       "flex": null,
       "flex_flow": null,
       "grid_area": null,
       "grid_auto_columns": null,
       "grid_auto_flow": null,
       "grid_auto_rows": null,
       "grid_column": null,
       "grid_gap": null,
       "grid_row": null,
       "grid_template_areas": null,
       "grid_template_columns": null,
       "grid_template_rows": null,
       "height": null,
       "justify_content": null,
       "justify_items": null,
       "left": null,
       "margin": null,
       "max_height": null,
       "max_width": null,
       "min_height": null,
       "min_width": null,
       "object_fit": null,
       "object_position": null,
       "order": null,
       "overflow": null,
       "overflow_x": null,
       "overflow_y": null,
       "padding": null,
       "right": null,
       "top": null,
       "visibility": null,
       "width": null
      }
     },
     "a82601554a6d4bdea828be97c9a8eebe": {
      "model_module": "@jupyter-widgets/controls",
      "model_module_version": "1.5.0",
      "model_name": "DescriptionStyleModel",
      "state": {
       "_model_module": "@jupyter-widgets/controls",
       "_model_module_version": "1.5.0",
       "_model_name": "DescriptionStyleModel",
       "_view_count": null,
       "_view_module": "@jupyter-widgets/base",
       "_view_module_version": "1.2.0",
       "_view_name": "StyleView",
       "description_width": ""
      }
     },
     "aa2f56fc104e482d8b83ef55455508a8": {
      "model_module": "@jupyter-widgets/controls",
      "model_module_version": "1.5.0",
      "model_name": "DescriptionStyleModel",
      "state": {
       "_model_module": "@jupyter-widgets/controls",
       "_model_module_version": "1.5.0",
       "_model_name": "DescriptionStyleModel",
       "_view_count": null,
       "_view_module": "@jupyter-widgets/base",
       "_view_module_version": "1.2.0",
       "_view_name": "StyleView",
       "description_width": ""
      }
     },
     "b01e73a529f74d94b5b80f3379b477d2": {
      "model_module": "@jupyter-widgets/controls",
      "model_module_version": "1.5.0",
      "model_name": "FloatProgressModel",
      "state": {
       "_dom_classes": [],
       "_model_module": "@jupyter-widgets/controls",
       "_model_module_version": "1.5.0",
       "_model_name": "FloatProgressModel",
       "_view_count": null,
       "_view_module": "@jupyter-widgets/controls",
       "_view_module_version": "1.5.0",
       "_view_name": "ProgressView",
       "bar_style": "success",
       "description": "",
       "description_tooltip": null,
       "layout": "IPY_MODEL_d016773e5d4844f1a8fbdffa242348a1",
       "max": 13648432.0,
       "min": 0.0,
       "orientation": "horizontal",
       "style": "IPY_MODEL_224fe28b40104089ab8735834253fc9d",
       "value": 13648432.0
      }
     },
     "b58c524fd67640e2b83bc3bd1d60ef1a": {
      "model_module": "@jupyter-widgets/controls",
      "model_module_version": "1.5.0",
      "model_name": "HTMLModel",
      "state": {
       "_dom_classes": [],
       "_model_module": "@jupyter-widgets/controls",
       "_model_module_version": "1.5.0",
       "_model_name": "HTMLModel",
       "_view_count": null,
       "_view_module": "@jupyter-widgets/controls",
       "_view_module_version": "1.5.0",
       "_view_name": "HTMLView",
       "description": "",
       "description_tooltip": null,
       "layout": "IPY_MODEL_5abbe21ba4e74f3ba050963def776168",
       "placeholder": "​",
       "style": "IPY_MODEL_c06a5ddba1224b3a819ca400ea6f5629",
       "value": " 13.6M/13.6M [00:00&lt;00:00, 175MB/s]"
      }
     },
     "b9dd2de83ed0470693705bdffcfdeb6e": {
      "model_module": "@jupyter-widgets/controls",
      "model_module_version": "1.5.0",
      "model_name": "DescriptionStyleModel",
      "state": {
       "_model_module": "@jupyter-widgets/controls",
       "_model_module_version": "1.5.0",
       "_model_name": "DescriptionStyleModel",
       "_view_count": null,
       "_view_module": "@jupyter-widgets/base",
       "_view_module_version": "1.2.0",
       "_view_name": "StyleView",
       "description_width": ""
      }
     },
     "ba5072f39a6b4c579000bf304106d18b": {
      "model_module": "@jupyter-widgets/controls",
      "model_module_version": "1.5.0",
      "model_name": "DescriptionStyleModel",
      "state": {
       "_model_module": "@jupyter-widgets/controls",
       "_model_module_version": "1.5.0",
       "_model_name": "DescriptionStyleModel",
       "_view_count": null,
       "_view_module": "@jupyter-widgets/base",
       "_view_module_version": "1.2.0",
       "_view_name": "StyleView",
       "description_width": ""
      }
     },
     "bb3a88f3ab24457681ba85b0c424cb5e": {
      "model_module": "@jupyter-widgets/controls",
      "model_module_version": "1.5.0",
      "model_name": "HBoxModel",
      "state": {
       "_dom_classes": [],
       "_model_module": "@jupyter-widgets/controls",
       "_model_module_version": "1.5.0",
       "_model_name": "HBoxModel",
       "_view_count": null,
       "_view_module": "@jupyter-widgets/controls",
       "_view_module_version": "1.5.0",
       "_view_name": "HBoxView",
       "box_style": "",
       "children": [
        "IPY_MODEL_6ced65009a3d4facbeb4a000892e4b90",
        "IPY_MODEL_d91357ca76774b858cfe8ffcb2d87907",
        "IPY_MODEL_57f279c098824aff86444b6a761027ba"
       ],
       "layout": "IPY_MODEL_71e220f351da404c8a0d9c6d9350c519"
      }
     },
     "bc0040d7974541679efde58af7776685": {
      "model_module": "@jupyter-widgets/controls",
      "model_module_version": "1.5.0",
      "model_name": "HBoxModel",
      "state": {
       "_dom_classes": [],
       "_model_module": "@jupyter-widgets/controls",
       "_model_module_version": "1.5.0",
       "_model_name": "HBoxModel",
       "_view_count": null,
       "_view_module": "@jupyter-widgets/controls",
       "_view_module_version": "1.5.0",
       "_view_name": "HBoxView",
       "box_style": "",
       "children": [
        "IPY_MODEL_695e295e25d0487a9bdae14f802b45ef",
        "IPY_MODEL_4c55c4ce52c34b5dbf68bd9c357d88cf",
        "IPY_MODEL_5a61abaed4df4b3a8b67032ec50756ba"
       ],
       "layout": "IPY_MODEL_ec611ac754d9495baf0782d0de21ed94"
      }
     },
     "bdb00b0397cc441f80f067678ae9d961": {
      "model_module": "@jupyter-widgets/base",
      "model_module_version": "1.2.0",
      "model_name": "LayoutModel",
      "state": {
       "_model_module": "@jupyter-widgets/base",
       "_model_module_version": "1.2.0",
       "_model_name": "LayoutModel",
       "_view_count": null,
       "_view_module": "@jupyter-widgets/base",
       "_view_module_version": "1.2.0",
       "_view_name": "LayoutView",
       "align_content": null,
       "align_items": null,
       "align_self": null,
       "border": null,
       "bottom": null,
       "display": null,
       "flex": null,
       "flex_flow": null,
       "grid_area": null,
       "grid_auto_columns": null,
       "grid_auto_flow": null,
       "grid_auto_rows": null,
       "grid_column": null,
       "grid_gap": null,
       "grid_row": null,
       "grid_template_areas": null,
       "grid_template_columns": null,
       "grid_template_rows": null,
       "height": null,
       "justify_content": null,
       "justify_items": null,
       "left": null,
       "margin": null,
       "max_height": null,
       "max_width": null,
       "min_height": null,
       "min_width": null,
       "object_fit": null,
       "object_position": null,
       "order": null,
       "overflow": null,
       "overflow_x": null,
       "overflow_y": null,
       "padding": null,
       "right": null,
       "top": null,
       "visibility": null,
       "width": null
      }
     },
     "be1f4bdf91fb410a98410a4cbc8a24dc": {
      "model_module": "@jupyter-widgets/controls",
      "model_module_version": "1.5.0",
      "model_name": "DescriptionStyleModel",
      "state": {
       "_model_module": "@jupyter-widgets/controls",
       "_model_module_version": "1.5.0",
       "_model_name": "DescriptionStyleModel",
       "_view_count": null,
       "_view_module": "@jupyter-widgets/base",
       "_view_module_version": "1.2.0",
       "_view_name": "StyleView",
       "description_width": ""
      }
     },
     "bf8d63db9e0d466e9a24342a2747061d": {
      "model_module": "@jupyter-widgets/controls",
      "model_module_version": "1.5.0",
      "model_name": "HTMLModel",
      "state": {
       "_dom_classes": [],
       "_model_module": "@jupyter-widgets/controls",
       "_model_module_version": "1.5.0",
       "_model_name": "HTMLModel",
       "_view_count": null,
       "_view_module": "@jupyter-widgets/controls",
       "_view_module_version": "1.5.0",
       "_view_name": "HTMLView",
       "description": "",
       "description_tooltip": null,
       "layout": "IPY_MODEL_a5c17426ed544fa5a7b927ed4cfebb70",
       "placeholder": "​",
       "style": "IPY_MODEL_56f03589c9fb49518bd12db212b0ebc5",
       "value": " 1.05G/1.05G [00:04&lt;00:00, 239MB/s]"
      }
     },
     "c06a5ddba1224b3a819ca400ea6f5629": {
      "model_module": "@jupyter-widgets/controls",
      "model_module_version": "1.5.0",
      "model_name": "DescriptionStyleModel",
      "state": {
       "_model_module": "@jupyter-widgets/controls",
       "_model_module_version": "1.5.0",
       "_model_name": "DescriptionStyleModel",
       "_view_count": null,
       "_view_module": "@jupyter-widgets/base",
       "_view_module_version": "1.2.0",
       "_view_name": "StyleView",
       "description_width": ""
      }
     },
     "c07bf1ecf1fb444cb9b7cc082acd2293": {
      "model_module": "@jupyter-widgets/controls",
      "model_module_version": "1.5.0",
      "model_name": "HBoxModel",
      "state": {
       "_dom_classes": [],
       "_model_module": "@jupyter-widgets/controls",
       "_model_module_version": "1.5.0",
       "_model_name": "HBoxModel",
       "_view_count": null,
       "_view_module": "@jupyter-widgets/controls",
       "_view_module_version": "1.5.0",
       "_view_name": "HBoxView",
       "box_style": "",
       "children": [
        "IPY_MODEL_39bf7ec3624141da99740ace09be81f5",
        "IPY_MODEL_58074d57775c44d1ac6fedfd40e137b2",
        "IPY_MODEL_65da033ac09d41e1bc06a73d28b42d79"
       ],
       "layout": "IPY_MODEL_c1f85479793a40f290ff696d03bde9be"
      }
     },
     "c1f85479793a40f290ff696d03bde9be": {
      "model_module": "@jupyter-widgets/base",
      "model_module_version": "1.2.0",
      "model_name": "LayoutModel",
      "state": {
       "_model_module": "@jupyter-widgets/base",
       "_model_module_version": "1.2.0",
       "_model_name": "LayoutModel",
       "_view_count": null,
       "_view_module": "@jupyter-widgets/base",
       "_view_module_version": "1.2.0",
       "_view_name": "LayoutView",
       "align_content": null,
       "align_items": null,
       "align_self": null,
       "border": null,
       "bottom": null,
       "display": null,
       "flex": null,
       "flex_flow": null,
       "grid_area": null,
       "grid_auto_columns": null,
       "grid_auto_flow": null,
       "grid_auto_rows": null,
       "grid_column": null,
       "grid_gap": null,
       "grid_row": null,
       "grid_template_areas": null,
       "grid_template_columns": null,
       "grid_template_rows": null,
       "height": null,
       "justify_content": null,
       "justify_items": null,
       "left": null,
       "margin": null,
       "max_height": null,
       "max_width": null,
       "min_height": null,
       "min_width": null,
       "object_fit": null,
       "object_position": null,
       "order": null,
       "overflow": null,
       "overflow_x": null,
       "overflow_y": null,
       "padding": null,
       "right": null,
       "top": null,
       "visibility": null,
       "width": null
      }
     },
     "c2c26a4d80ff4dc8a13ec2d27c189840": {
      "model_module": "@jupyter-widgets/controls",
      "model_module_version": "1.5.0",
      "model_name": "DescriptionStyleModel",
      "state": {
       "_model_module": "@jupyter-widgets/controls",
       "_model_module_version": "1.5.0",
       "_model_name": "DescriptionStyleModel",
       "_view_count": null,
       "_view_module": "@jupyter-widgets/base",
       "_view_module_version": "1.2.0",
       "_view_name": "StyleView",
       "description_width": ""
      }
     },
     "c4473f8af09242d585ac9377e18b183c": {
      "model_module": "@jupyter-widgets/base",
      "model_module_version": "1.2.0",
      "model_name": "LayoutModel",
      "state": {
       "_model_module": "@jupyter-widgets/base",
       "_model_module_version": "1.2.0",
       "_model_name": "LayoutModel",
       "_view_count": null,
       "_view_module": "@jupyter-widgets/base",
       "_view_module_version": "1.2.0",
       "_view_name": "LayoutView",
       "align_content": null,
       "align_items": null,
       "align_self": null,
       "border": null,
       "bottom": null,
       "display": null,
       "flex": null,
       "flex_flow": null,
       "grid_area": null,
       "grid_auto_columns": null,
       "grid_auto_flow": null,
       "grid_auto_rows": null,
       "grid_column": null,
       "grid_gap": null,
       "grid_row": null,
       "grid_template_areas": null,
       "grid_template_columns": null,
       "grid_template_rows": null,
       "height": null,
       "justify_content": null,
       "justify_items": null,
       "left": null,
       "margin": null,
       "max_height": null,
       "max_width": null,
       "min_height": null,
       "min_width": null,
       "object_fit": null,
       "object_position": null,
       "order": null,
       "overflow": null,
       "overflow_x": null,
       "overflow_y": null,
       "padding": null,
       "right": null,
       "top": null,
       "visibility": null,
       "width": null
      }
     },
     "c634a3cf17c84c5db033088b9cef97ff": {
      "model_module": "@jupyter-widgets/controls",
      "model_module_version": "1.5.0",
      "model_name": "HTMLModel",
      "state": {
       "_dom_classes": [],
       "_model_module": "@jupyter-widgets/controls",
       "_model_module_version": "1.5.0",
       "_model_name": "HTMLModel",
       "_view_count": null,
       "_view_module": "@jupyter-widgets/controls",
       "_view_module_version": "1.5.0",
       "_view_name": "HTMLView",
       "description": "",
       "description_tooltip": null,
       "layout": "IPY_MODEL_64c1cc6cc91646c0b0cc9a6a4dcbbc89",
       "placeholder": "​",
       "style": "IPY_MODEL_ba5072f39a6b4c579000bf304106d18b",
       "value": " 1/1 [00:00&lt;00:00, 125.72it/s]"
      }
     },
     "c6eeb756ab1a46eaa6dd6c1560afda20": {
      "model_module": "@jupyter-widgets/controls",
      "model_module_version": "1.5.0",
      "model_name": "HTMLModel",
      "state": {
       "_dom_classes": [],
       "_model_module": "@jupyter-widgets/controls",
       "_model_module_version": "1.5.0",
       "_model_name": "HTMLModel",
       "_view_count": null,
       "_view_module": "@jupyter-widgets/controls",
       "_view_module_version": "1.5.0",
       "_view_name": "HTMLView",
       "description": "",
       "description_tooltip": null,
       "layout": "IPY_MODEL_199e5c5ce065479e9398f76a1eaa99aa",
       "placeholder": "​",
       "style": "IPY_MODEL_c9746094001945eaabbbe97d065b8a44",
       "value": "adapter_model.safetensors: 100%"
      }
     },
     "c9746094001945eaabbbe97d065b8a44": {
      "model_module": "@jupyter-widgets/controls",
      "model_module_version": "1.5.0",
      "model_name": "DescriptionStyleModel",
      "state": {
       "_model_module": "@jupyter-widgets/controls",
       "_model_module_version": "1.5.0",
       "_model_name": "DescriptionStyleModel",
       "_view_count": null,
       "_view_module": "@jupyter-widgets/base",
       "_view_module_version": "1.2.0",
       "_view_name": "StyleView",
       "description_width": ""
      }
     },
     "c9ee8c22c65c48b1bbc853dcffb41d61": {
      "model_module": "@jupyter-widgets/controls",
      "model_module_version": "1.5.0",
      "model_name": "HTMLModel",
      "state": {
       "_dom_classes": [],
       "_model_module": "@jupyter-widgets/controls",
       "_model_module_version": "1.5.0",
       "_model_name": "HTMLModel",
       "_view_count": null,
       "_view_module": "@jupyter-widgets/controls",
       "_view_module_version": "1.5.0",
       "_view_name": "HTMLView",
       "description": "",
       "description_tooltip": null,
       "layout": "IPY_MODEL_d5a211ca82074f5ba47c035900e7f2fd",
       "placeholder": "​",
       "style": "IPY_MODEL_e5953e6ba6ec401ebc3d1a0cdd6e07fc",
       "value": "tokenizer.json: 100%"
      }
     },
     "ca09455a02e14f6db721df6b448d0408": {
      "model_module": "@jupyter-widgets/controls",
      "model_module_version": "1.5.0",
      "model_name": "ProgressStyleModel",
      "state": {
       "_model_module": "@jupyter-widgets/controls",
       "_model_module_version": "1.5.0",
       "_model_name": "ProgressStyleModel",
       "_view_count": null,
       "_view_module": "@jupyter-widgets/base",
       "_view_module_version": "1.2.0",
       "_view_name": "StyleView",
       "bar_color": null,
       "description_width": ""
      }
     },
     "cc1d6e4894b34d9b800f0d4c73b98353": {
      "model_module": "@jupyter-widgets/base",
      "model_module_version": "1.2.0",
      "model_name": "LayoutModel",
      "state": {
       "_model_module": "@jupyter-widgets/base",
       "_model_module_version": "1.2.0",
       "_model_name": "LayoutModel",
       "_view_count": null,
       "_view_module": "@jupyter-widgets/base",
       "_view_module_version": "1.2.0",
       "_view_name": "LayoutView",
       "align_content": null,
       "align_items": null,
       "align_self": null,
       "border": null,
       "bottom": null,
       "display": null,
       "flex": null,
       "flex_flow": null,
       "grid_area": null,
       "grid_auto_columns": null,
       "grid_auto_flow": null,
       "grid_auto_rows": null,
       "grid_column": null,
       "grid_gap": null,
       "grid_row": null,
       "grid_template_areas": null,
       "grid_template_columns": null,
       "grid_template_rows": null,
       "height": null,
       "justify_content": null,
       "justify_items": null,
       "left": null,
       "margin": null,
       "max_height": null,
       "max_width": null,
       "min_height": null,
       "min_width": null,
       "object_fit": null,
       "object_position": null,
       "order": null,
       "overflow": null,
       "overflow_x": null,
       "overflow_y": null,
       "padding": null,
       "right": null,
       "top": null,
       "visibility": null,
       "width": null
      }
     },
     "ce5da0d730324915b5b8a85d41a79d7a": {
      "model_module": "@jupyter-widgets/base",
      "model_module_version": "1.2.0",
      "model_name": "LayoutModel",
      "state": {
       "_model_module": "@jupyter-widgets/base",
       "_model_module_version": "1.2.0",
       "_model_name": "LayoutModel",
       "_view_count": null,
       "_view_module": "@jupyter-widgets/base",
       "_view_module_version": "1.2.0",
       "_view_name": "LayoutView",
       "align_content": null,
       "align_items": null,
       "align_self": null,
       "border": null,
       "bottom": null,
       "display": null,
       "flex": null,
       "flex_flow": null,
       "grid_area": null,
       "grid_auto_columns": null,
       "grid_auto_flow": null,
       "grid_auto_rows": null,
       "grid_column": null,
       "grid_gap": null,
       "grid_row": null,
       "grid_template_areas": null,
       "grid_template_columns": null,
       "grid_template_rows": null,
       "height": null,
       "justify_content": null,
       "justify_items": null,
       "left": null,
       "margin": null,
       "max_height": null,
       "max_width": null,
       "min_height": null,
       "min_width": null,
       "object_fit": null,
       "object_position": null,
       "order": null,
       "overflow": null,
       "overflow_x": null,
       "overflow_y": null,
       "padding": null,
       "right": null,
       "top": null,
       "visibility": null,
       "width": null
      }
     },
     "d016773e5d4844f1a8fbdffa242348a1": {
      "model_module": "@jupyter-widgets/base",
      "model_module_version": "1.2.0",
      "model_name": "LayoutModel",
      "state": {
       "_model_module": "@jupyter-widgets/base",
       "_model_module_version": "1.2.0",
       "_model_name": "LayoutModel",
       "_view_count": null,
       "_view_module": "@jupyter-widgets/base",
       "_view_module_version": "1.2.0",
       "_view_name": "LayoutView",
       "align_content": null,
       "align_items": null,
       "align_self": null,
       "border": null,
       "bottom": null,
       "display": null,
       "flex": null,
       "flex_flow": null,
       "grid_area": null,
       "grid_auto_columns": null,
       "grid_auto_flow": null,
       "grid_auto_rows": null,
       "grid_column": null,
       "grid_gap": null,
       "grid_row": null,
       "grid_template_areas": null,
       "grid_template_columns": null,
       "grid_template_rows": null,
       "height": null,
       "justify_content": null,
       "justify_items": null,
       "left": null,
       "margin": null,
       "max_height": null,
       "max_width": null,
       "min_height": null,
       "min_width": null,
       "object_fit": null,
       "object_position": null,
       "order": null,
       "overflow": null,
       "overflow_x": null,
       "overflow_y": null,
       "padding": null,
       "right": null,
       "top": null,
       "visibility": null,
       "width": null
      }
     },
     "d1f38eb9e35048a892545f2af707078c": {
      "model_module": "@jupyter-widgets/controls",
      "model_module_version": "1.5.0",
      "model_name": "ProgressStyleModel",
      "state": {
       "_model_module": "@jupyter-widgets/controls",
       "_model_module_version": "1.5.0",
       "_model_name": "ProgressStyleModel",
       "_view_count": null,
       "_view_module": "@jupyter-widgets/base",
       "_view_module_version": "1.2.0",
       "_view_name": "StyleView",
       "bar_color": null,
       "description_width": ""
      }
     },
     "d52bf7d044234779a6c56b8c8f1da154": {
      "model_module": "@jupyter-widgets/base",
      "model_module_version": "1.2.0",
      "model_name": "LayoutModel",
      "state": {
       "_model_module": "@jupyter-widgets/base",
       "_model_module_version": "1.2.0",
       "_model_name": "LayoutModel",
       "_view_count": null,
       "_view_module": "@jupyter-widgets/base",
       "_view_module_version": "1.2.0",
       "_view_name": "LayoutView",
       "align_content": null,
       "align_items": null,
       "align_self": null,
       "border": null,
       "bottom": null,
       "display": null,
       "flex": null,
       "flex_flow": null,
       "grid_area": null,
       "grid_auto_columns": null,
       "grid_auto_flow": null,
       "grid_auto_rows": null,
       "grid_column": null,
       "grid_gap": null,
       "grid_row": null,
       "grid_template_areas": null,
       "grid_template_columns": null,
       "grid_template_rows": null,
       "height": null,
       "justify_content": null,
       "justify_items": null,
       "left": null,
       "margin": null,
       "max_height": null,
       "max_width": null,
       "min_height": null,
       "min_width": null,
       "object_fit": null,
       "object_position": null,
       "order": null,
       "overflow": null,
       "overflow_x": null,
       "overflow_y": null,
       "padding": null,
       "right": null,
       "top": null,
       "visibility": null,
       "width": null
      }
     },
     "d5a211ca82074f5ba47c035900e7f2fd": {
      "model_module": "@jupyter-widgets/base",
      "model_module_version": "1.2.0",
      "model_name": "LayoutModel",
      "state": {
       "_model_module": "@jupyter-widgets/base",
       "_model_module_version": "1.2.0",
       "_model_name": "LayoutModel",
       "_view_count": null,
       "_view_module": "@jupyter-widgets/base",
       "_view_module_version": "1.2.0",
       "_view_name": "LayoutView",
       "align_content": null,
       "align_items": null,
       "align_self": null,
       "border": null,
       "bottom": null,
       "display": null,
       "flex": null,
       "flex_flow": null,
       "grid_area": null,
       "grid_auto_columns": null,
       "grid_auto_flow": null,
       "grid_auto_rows": null,
       "grid_column": null,
       "grid_gap": null,
       "grid_row": null,
       "grid_template_areas": null,
       "grid_template_columns": null,
       "grid_template_rows": null,
       "height": null,
       "justify_content": null,
       "justify_items": null,
       "left": null,
       "margin": null,
       "max_height": null,
       "max_width": null,
       "min_height": null,
       "min_width": null,
       "object_fit": null,
       "object_position": null,
       "order": null,
       "overflow": null,
       "overflow_x": null,
       "overflow_y": null,
       "padding": null,
       "right": null,
       "top": null,
       "visibility": null,
       "width": null
      }
     },
     "d8dfaf405501478db48f84dd4b6007ef": {
      "model_module": "@jupyter-widgets/base",
      "model_module_version": "1.2.0",
      "model_name": "LayoutModel",
      "state": {
       "_model_module": "@jupyter-widgets/base",
       "_model_module_version": "1.2.0",
       "_model_name": "LayoutModel",
       "_view_count": null,
       "_view_module": "@jupyter-widgets/base",
       "_view_module_version": "1.2.0",
       "_view_name": "LayoutView",
       "align_content": null,
       "align_items": null,
       "align_self": null,
       "border": null,
       "bottom": null,
       "display": null,
       "flex": null,
       "flex_flow": null,
       "grid_area": null,
       "grid_auto_columns": null,
       "grid_auto_flow": null,
       "grid_auto_rows": null,
       "grid_column": null,
       "grid_gap": null,
       "grid_row": null,
       "grid_template_areas": null,
       "grid_template_columns": null,
       "grid_template_rows": null,
       "height": null,
       "justify_content": null,
       "justify_items": null,
       "left": null,
       "margin": null,
       "max_height": null,
       "max_width": null,
       "min_height": null,
       "min_width": null,
       "object_fit": null,
       "object_position": null,
       "order": null,
       "overflow": null,
       "overflow_x": null,
       "overflow_y": null,
       "padding": null,
       "right": null,
       "top": null,
       "visibility": null,
       "width": null
      }
     },
     "d91357ca76774b858cfe8ffcb2d87907": {
      "model_module": "@jupyter-widgets/controls",
      "model_module_version": "1.5.0",
      "model_name": "FloatProgressModel",
      "state": {
       "_dom_classes": [],
       "_model_module": "@jupyter-widgets/controls",
       "_model_module_version": "1.5.0",
       "_model_name": "FloatProgressModel",
       "_view_count": null,
       "_view_module": "@jupyter-widgets/controls",
       "_view_module_version": "1.5.0",
       "_view_name": "ProgressView",
       "bar_style": "success",
       "description": "",
       "description_tooltip": null,
       "layout": "IPY_MODEL_5068424ffee443a8b3cae8b392d87919",
       "max": 10023.0,
       "min": 0.0,
       "orientation": "horizontal",
       "style": "IPY_MODEL_86f9e96a34854712977fb5275f8855b8",
       "value": 10023.0
      }
     },
     "d9bc1705dec84d2c89888e3ca7d6be6f": {
      "model_module": "@jupyter-widgets/base",
      "model_module_version": "1.2.0",
      "model_name": "LayoutModel",
      "state": {
       "_model_module": "@jupyter-widgets/base",
       "_model_module_version": "1.2.0",
       "_model_name": "LayoutModel",
       "_view_count": null,
       "_view_module": "@jupyter-widgets/base",
       "_view_module_version": "1.2.0",
       "_view_name": "LayoutView",
       "align_content": null,
       "align_items": null,
       "align_self": null,
       "border": null,
       "bottom": null,
       "display": null,
       "flex": null,
       "flex_flow": null,
       "grid_area": null,
       "grid_auto_columns": null,
       "grid_auto_flow": null,
       "grid_auto_rows": null,
       "grid_column": null,
       "grid_gap": null,
       "grid_row": null,
       "grid_template_areas": null,
       "grid_template_columns": null,
       "grid_template_rows": null,
       "height": null,
       "justify_content": null,
       "justify_items": null,
       "left": null,
       "margin": null,
       "max_height": null,
       "max_width": null,
       "min_height": null,
       "min_width": null,
       "object_fit": null,
       "object_position": null,
       "order": null,
       "overflow": null,
       "overflow_x": null,
       "overflow_y": null,
       "padding": null,
       "right": null,
       "top": null,
       "visibility": null,
       "width": null
      }
     },
     "d9c88ccd9bf24ed2b896672b0e5abca3": {
      "model_module": "@jupyter-widgets/controls",
      "model_module_version": "1.5.0",
      "model_name": "FloatProgressModel",
      "state": {
       "_dom_classes": [],
       "_model_module": "@jupyter-widgets/controls",
       "_model_module_version": "1.5.0",
       "_model_name": "FloatProgressModel",
       "_view_count": null,
       "_view_module": "@jupyter-widgets/controls",
       "_view_module_version": "1.5.0",
       "_view_name": "ProgressView",
       "bar_style": "success",
       "description": "",
       "description_tooltip": null,
       "layout": "IPY_MODEL_05cc72ec8f6c4329b15c43212d680866",
       "max": 132271.0,
       "min": 0.0,
       "orientation": "horizontal",
       "style": "IPY_MODEL_5fde9b5993bd461d8cf992e87ef08d77",
       "value": 132271.0
      }
     },
     "da50a6b8786d4979b690ff6c096b8d7d": {
      "model_module": "@jupyter-widgets/base",
      "model_module_version": "1.2.0",
      "model_name": "LayoutModel",
      "state": {
       "_model_module": "@jupyter-widgets/base",
       "_model_module_version": "1.2.0",
       "_model_name": "LayoutModel",
       "_view_count": null,
       "_view_module": "@jupyter-widgets/base",
       "_view_module_version": "1.2.0",
       "_view_name": "LayoutView",
       "align_content": null,
       "align_items": null,
       "align_self": null,
       "border": null,
       "bottom": null,
       "display": null,
       "flex": null,
       "flex_flow": null,
       "grid_area": null,
       "grid_auto_columns": null,
       "grid_auto_flow": null,
       "grid_auto_rows": null,
       "grid_column": null,
       "grid_gap": null,
       "grid_row": null,
       "grid_template_areas": null,
       "grid_template_columns": null,
       "grid_template_rows": null,
       "height": null,
       "justify_content": null,
       "justify_items": null,
       "left": null,
       "margin": null,
       "max_height": null,
       "max_width": null,
       "min_height": null,
       "min_width": null,
       "object_fit": null,
       "object_position": null,
       "order": null,
       "overflow": null,
       "overflow_x": null,
       "overflow_y": null,
       "padding": null,
       "right": null,
       "top": null,
       "visibility": null,
       "width": null
      }
     },
     "db82d0765615473e8632874fad7b207d": {
      "model_module": "@jupyter-widgets/controls",
      "model_module_version": "1.5.0",
      "model_name": "DescriptionStyleModel",
      "state": {
       "_model_module": "@jupyter-widgets/controls",
       "_model_module_version": "1.5.0",
       "_model_name": "DescriptionStyleModel",
       "_view_count": null,
       "_view_module": "@jupyter-widgets/base",
       "_view_module_version": "1.2.0",
       "_view_name": "StyleView",
       "description_width": ""
      }
     },
     "dca40f203424491f9436e67557314996": {
      "model_module": "@jupyter-widgets/controls",
      "model_module_version": "1.5.0",
      "model_name": "FloatProgressModel",
      "state": {
       "_dom_classes": [],
       "_model_module": "@jupyter-widgets/controls",
       "_model_module_version": "1.5.0",
       "_model_name": "FloatProgressModel",
       "_view_count": null,
       "_view_module": "@jupyter-widgets/controls",
       "_view_module_version": "1.5.0",
       "_view_name": "ProgressView",
       "bar_style": "success",
       "description": "",
       "description_tooltip": null,
       "layout": "IPY_MODEL_e9eaaee8507744058377b976971e90cf",
       "max": 50977.0,
       "min": 0.0,
       "orientation": "horizontal",
       "style": "IPY_MODEL_15ad039b545c4a9f9425add84f4d93b3",
       "value": 50977.0
      }
     },
     "e09ad370161b405aa666d18cffba1805": {
      "model_module": "@jupyter-widgets/controls",
      "model_module_version": "1.5.0",
      "model_name": "HTMLModel",
      "state": {
       "_dom_classes": [],
       "_model_module": "@jupyter-widgets/controls",
       "_model_module_version": "1.5.0",
       "_model_name": "HTMLModel",
       "_view_count": null,
       "_view_module": "@jupyter-widgets/controls",
       "_view_module_version": "1.5.0",
       "_view_name": "HTMLView",
       "description": "",
       "description_tooltip": null,
       "layout": "IPY_MODEL_cc1d6e4894b34d9b800f0d4c73b98353",
       "placeholder": "​",
       "style": "IPY_MODEL_ffa3ad839915438989a36cee7c869adb",
       "value": " 73.0/73.0 [00:00&lt;00:00, 4.02kB/s]"
      }
     },
     "e206bf11813246b586c52971bf690f15": {
      "model_module": "@jupyter-widgets/controls",
      "model_module_version": "1.5.0",
      "model_name": "HTMLModel",
      "state": {
       "_dom_classes": [],
       "_model_module": "@jupyter-widgets/controls",
       "_model_module_version": "1.5.0",
       "_model_name": "HTMLModel",
       "_view_count": null,
       "_view_module": "@jupyter-widgets/controls",
       "_view_module_version": "1.5.0",
       "_view_name": "HTMLView",
       "description": "",
       "description_tooltip": null,
       "layout": "IPY_MODEL_f48d4350e0bb4918be952d6685978e25",
       "placeholder": "​",
       "style": "IPY_MODEL_79e1fc8343aa4da59c3791eefe3ffaea",
       "value": " 4.65G/4.65G [00:18&lt;00:00, 255MB/s]"
      }
     },
     "e29b6455d86c4fa3b2423306c0a12d2a": {
      "model_module": "@jupyter-widgets/controls",
      "model_module_version": "1.5.0",
      "model_name": "HBoxModel",
      "state": {
       "_dom_classes": [],
       "_model_module": "@jupyter-widgets/controls",
       "_model_module_version": "1.5.0",
       "_model_name": "HBoxModel",
       "_view_count": null,
       "_view_module": "@jupyter-widgets/controls",
       "_view_module_version": "1.5.0",
       "_view_name": "HBoxView",
       "box_style": "",
       "children": [
        "IPY_MODEL_3c6c8feed0784702ada68a252ef55a16",
        "IPY_MODEL_63c874ee0b27409aab0ff0371e2a0f0b",
        "IPY_MODEL_7e9430b09c6f45609d973eeea0452217"
       ],
       "layout": "IPY_MODEL_00afc68bc7ed44578e17d026d9a62d8d"
      }
     },
     "e3ccd4ced3a147ffb657017b4ecf48bf": {
      "model_module": "@jupyter-widgets/base",
      "model_module_version": "1.2.0",
      "model_name": "LayoutModel",
      "state": {
       "_model_module": "@jupyter-widgets/base",
       "_model_module_version": "1.2.0",
       "_model_name": "LayoutModel",
       "_view_count": null,
       "_view_module": "@jupyter-widgets/base",
       "_view_module_version": "1.2.0",
       "_view_name": "LayoutView",
       "align_content": null,
       "align_items": null,
       "align_self": null,
       "border": null,
       "bottom": null,
       "display": null,
       "flex": null,
       "flex_flow": null,
       "grid_area": null,
       "grid_auto_columns": null,
       "grid_auto_flow": null,
       "grid_auto_rows": null,
       "grid_column": null,
       "grid_gap": null,
       "grid_row": null,
       "grid_template_areas": null,
       "grid_template_columns": null,
       "grid_template_rows": null,
       "height": null,
       "justify_content": null,
       "justify_items": null,
       "left": null,
       "margin": null,
       "max_height": null,
       "max_width": null,
       "min_height": null,
       "min_width": null,
       "object_fit": null,
       "object_position": null,
       "order": null,
       "overflow": null,
       "overflow_x": null,
       "overflow_y": null,
       "padding": null,
       "right": null,
       "top": null,
       "visibility": null,
       "width": null
      }
     },
     "e4cd32a02e5f4f0591f5ec58b1bd8481": {
      "model_module": "@jupyter-widgets/controls",
      "model_module_version": "1.5.0",
      "model_name": "HBoxModel",
      "state": {
       "_dom_classes": [],
       "_model_module": "@jupyter-widgets/controls",
       "_model_module_version": "1.5.0",
       "_model_name": "HBoxModel",
       "_view_count": null,
       "_view_module": "@jupyter-widgets/controls",
       "_view_module_version": "1.5.0",
       "_view_name": "HBoxView",
       "box_style": "",
       "children": [
        "IPY_MODEL_71bb0ec036a041a19d59d521e537162c",
        "IPY_MODEL_d9c88ccd9bf24ed2b896672b0e5abca3",
        "IPY_MODEL_94727782d0c649ef859ac9eecbcc00dd"
       ],
       "layout": "IPY_MODEL_68c424dd89134b51bf52158b039ee7a6"
      }
     },
     "e5953e6ba6ec401ebc3d1a0cdd6e07fc": {
      "model_module": "@jupyter-widgets/controls",
      "model_module_version": "1.5.0",
      "model_name": "DescriptionStyleModel",
      "state": {
       "_model_module": "@jupyter-widgets/controls",
       "_model_module_version": "1.5.0",
       "_model_name": "DescriptionStyleModel",
       "_view_count": null,
       "_view_module": "@jupyter-widgets/base",
       "_view_module_version": "1.2.0",
       "_view_name": "StyleView",
       "description_width": ""
      }
     },
     "e62cb49bc820417c9c36f5baafafcba7": {
      "model_module": "@jupyter-widgets/controls",
      "model_module_version": "1.5.0",
      "model_name": "DescriptionStyleModel",
      "state": {
       "_model_module": "@jupyter-widgets/controls",
       "_model_module_version": "1.5.0",
       "_model_name": "DescriptionStyleModel",
       "_view_count": null,
       "_view_module": "@jupyter-widgets/base",
       "_view_module_version": "1.2.0",
       "_view_name": "StyleView",
       "description_width": ""
      }
     },
     "e670db2456564df99ff195b642e73cf0": {
      "model_module": "@jupyter-widgets/controls",
      "model_module_version": "1.5.0",
      "model_name": "DescriptionStyleModel",
      "state": {
       "_model_module": "@jupyter-widgets/controls",
       "_model_module_version": "1.5.0",
       "_model_name": "DescriptionStyleModel",
       "_view_count": null,
       "_view_module": "@jupyter-widgets/base",
       "_view_module_version": "1.2.0",
       "_view_name": "StyleView",
       "description_width": ""
      }
     },
     "e8681093e5de4276a581696ec6d6b7e0": {
      "model_module": "@jupyter-widgets/controls",
      "model_module_version": "1.5.0",
      "model_name": "DescriptionStyleModel",
      "state": {
       "_model_module": "@jupyter-widgets/controls",
       "_model_module_version": "1.5.0",
       "_model_name": "DescriptionStyleModel",
       "_view_count": null,
       "_view_module": "@jupyter-widgets/base",
       "_view_module_version": "1.2.0",
       "_view_name": "StyleView",
       "description_width": ""
      }
     },
     "e93c57c84f4a4d4a923453b9bff0b4d2": {
      "model_module": "@jupyter-widgets/controls",
      "model_module_version": "1.5.0",
      "model_name": "ProgressStyleModel",
      "state": {
       "_model_module": "@jupyter-widgets/controls",
       "_model_module_version": "1.5.0",
       "_model_name": "ProgressStyleModel",
       "_view_count": null,
       "_view_module": "@jupyter-widgets/base",
       "_view_module_version": "1.2.0",
       "_view_name": "StyleView",
       "bar_color": null,
       "description_width": ""
      }
     },
     "e9a5eb1a778e495cba7476e35d8fd172": {
      "model_module": "@jupyter-widgets/controls",
      "model_module_version": "1.5.0",
      "model_name": "FloatProgressModel",
      "state": {
       "_dom_classes": [],
       "_model_module": "@jupyter-widgets/controls",
       "_model_module_version": "1.5.0",
       "_model_name": "FloatProgressModel",
       "_view_count": null,
       "_view_module": "@jupyter-widgets/controls",
       "_view_module_version": "1.5.0",
       "_view_name": "ProgressView",
       "bar_style": "success",
       "description": "",
       "description_tooltip": null,
       "layout": "IPY_MODEL_ce5da0d730324915b5b8a85d41a79d7a",
       "max": 9085698.0,
       "min": 0.0,
       "orientation": "horizontal",
       "style": "IPY_MODEL_5f2a4d2f3d1b4af78bf58cab18235d14",
       "value": 9085698.0
      }
     },
     "e9cb5d7ac4e844fb8cf58feb9a31d130": {
      "model_module": "@jupyter-widgets/base",
      "model_module_version": "1.2.0",
      "model_name": "LayoutModel",
      "state": {
       "_model_module": "@jupyter-widgets/base",
       "_model_module_version": "1.2.0",
       "_model_name": "LayoutModel",
       "_view_count": null,
       "_view_module": "@jupyter-widgets/base",
       "_view_module_version": "1.2.0",
       "_view_name": "LayoutView",
       "align_content": null,
       "align_items": null,
       "align_self": null,
       "border": null,
       "bottom": null,
       "display": null,
       "flex": null,
       "flex_flow": null,
       "grid_area": null,
       "grid_auto_columns": null,
       "grid_auto_flow": null,
       "grid_auto_rows": null,
       "grid_column": null,
       "grid_gap": null,
       "grid_row": null,
       "grid_template_areas": null,
       "grid_template_columns": null,
       "grid_template_rows": null,
       "height": null,
       "justify_content": null,
       "justify_items": null,
       "left": null,
       "margin": null,
       "max_height": null,
       "max_width": null,
       "min_height": null,
       "min_width": null,
       "object_fit": null,
       "object_position": null,
       "order": null,
       "overflow": null,
       "overflow_x": null,
       "overflow_y": null,
       "padding": null,
       "right": null,
       "top": null,
       "visibility": null,
       "width": null
      }
     },
     "e9eaaee8507744058377b976971e90cf": {
      "model_module": "@jupyter-widgets/base",
      "model_module_version": "1.2.0",
      "model_name": "LayoutModel",
      "state": {
       "_model_module": "@jupyter-widgets/base",
       "_model_module_version": "1.2.0",
       "_model_name": "LayoutModel",
       "_view_count": null,
       "_view_module": "@jupyter-widgets/base",
       "_view_module_version": "1.2.0",
       "_view_name": "LayoutView",
       "align_content": null,
       "align_items": null,
       "align_self": null,
       "border": null,
       "bottom": null,
       "display": null,
       "flex": null,
       "flex_flow": null,
       "grid_area": null,
       "grid_auto_columns": null,
       "grid_auto_flow": null,
       "grid_auto_rows": null,
       "grid_column": null,
       "grid_gap": null,
       "grid_row": null,
       "grid_template_areas": null,
       "grid_template_columns": null,
       "grid_template_rows": null,
       "height": null,
       "justify_content": null,
       "justify_items": null,
       "left": null,
       "margin": null,
       "max_height": null,
       "max_width": null,
       "min_height": null,
       "min_width": null,
       "object_fit": null,
       "object_position": null,
       "order": null,
       "overflow": null,
       "overflow_x": null,
       "overflow_y": null,
       "padding": null,
       "right": null,
       "top": null,
       "visibility": null,
       "width": null
      }
     },
     "eb6bb54449324056b227fa61dc5e274f": {
      "model_module": "@jupyter-widgets/controls",
      "model_module_version": "1.5.0",
      "model_name": "DescriptionStyleModel",
      "state": {
       "_model_module": "@jupyter-widgets/controls",
       "_model_module_version": "1.5.0",
       "_model_name": "DescriptionStyleModel",
       "_view_count": null,
       "_view_module": "@jupyter-widgets/base",
       "_view_module_version": "1.2.0",
       "_view_name": "StyleView",
       "description_width": ""
      }
     },
     "ec611ac754d9495baf0782d0de21ed94": {
      "model_module": "@jupyter-widgets/base",
      "model_module_version": "1.2.0",
      "model_name": "LayoutModel",
      "state": {
       "_model_module": "@jupyter-widgets/base",
       "_model_module_version": "1.2.0",
       "_model_name": "LayoutModel",
       "_view_count": null,
       "_view_module": "@jupyter-widgets/base",
       "_view_module_version": "1.2.0",
       "_view_name": "LayoutView",
       "align_content": null,
       "align_items": null,
       "align_self": null,
       "border": null,
       "bottom": null,
       "display": null,
       "flex": null,
       "flex_flow": null,
       "grid_area": null,
       "grid_auto_columns": null,
       "grid_auto_flow": null,
       "grid_auto_rows": null,
       "grid_column": null,
       "grid_gap": null,
       "grid_row": null,
       "grid_template_areas": null,
       "grid_template_columns": null,
       "grid_template_rows": null,
       "height": null,
       "justify_content": null,
       "justify_items": null,
       "left": null,
       "margin": null,
       "max_height": null,
       "max_width": null,
       "min_height": null,
       "min_width": null,
       "object_fit": null,
       "object_position": null,
       "order": null,
       "overflow": null,
       "overflow_x": null,
       "overflow_y": null,
       "padding": null,
       "right": null,
       "top": null,
       "visibility": null,
       "width": null
      }
     },
     "ee347556df734ad9b264f9301b4ad5f1": {
      "model_module": "@jupyter-widgets/controls",
      "model_module_version": "1.5.0",
      "model_name": "FloatProgressModel",
      "state": {
       "_dom_classes": [],
       "_model_module": "@jupyter-widgets/controls",
       "_model_module_version": "1.5.0",
       "_model_name": "FloatProgressModel",
       "_view_count": null,
       "_view_module": "@jupyter-widgets/controls",
       "_view_module_version": "1.5.0",
       "_view_name": "ProgressView",
       "bar_style": "success",
       "description": "",
       "description_tooltip": null,
       "layout": "IPY_MODEL_4f32a69c9fd14b5da8c1b23980ccfb4b",
       "max": 2.0,
       "min": 0.0,
       "orientation": "horizontal",
       "style": "IPY_MODEL_5bd598d7f0b447ccb00684f511b78351",
       "value": 2.0
      }
     },
     "eed079bbdc1847938806390c0f570ca8": {
      "model_module": "@jupyter-widgets/base",
      "model_module_version": "1.2.0",
      "model_name": "LayoutModel",
      "state": {
       "_model_module": "@jupyter-widgets/base",
       "_model_module_version": "1.2.0",
       "_model_name": "LayoutModel",
       "_view_count": null,
       "_view_module": "@jupyter-widgets/base",
       "_view_module_version": "1.2.0",
       "_view_name": "LayoutView",
       "align_content": null,
       "align_items": null,
       "align_self": null,
       "border": null,
       "bottom": null,
       "display": null,
       "flex": null,
       "flex_flow": null,
       "grid_area": null,
       "grid_auto_columns": null,
       "grid_auto_flow": null,
       "grid_auto_rows": null,
       "grid_column": null,
       "grid_gap": null,
       "grid_row": null,
       "grid_template_areas": null,
       "grid_template_columns": null,
       "grid_template_rows": null,
       "height": null,
       "justify_content": null,
       "justify_items": null,
       "left": null,
       "margin": null,
       "max_height": null,
       "max_width": null,
       "min_height": null,
       "min_width": null,
       "object_fit": null,
       "object_position": null,
       "order": null,
       "overflow": null,
       "overflow_x": null,
       "overflow_y": null,
       "padding": null,
       "right": null,
       "top": null,
       "visibility": null,
       "width": null
      }
     },
     "f3d2ea1369c347c8b281bef41998928c": {
      "model_module": "@jupyter-widgets/controls",
      "model_module_version": "1.5.0",
      "model_name": "HBoxModel",
      "state": {
       "_dom_classes": [],
       "_model_module": "@jupyter-widgets/controls",
       "_model_module_version": "1.5.0",
       "_model_name": "HBoxModel",
       "_view_count": null,
       "_view_module": "@jupyter-widgets/controls",
       "_view_module_version": "1.5.0",
       "_view_name": "HBoxView",
       "box_style": "",
       "children": [
        "IPY_MODEL_7507e5c6ece54592995be39b2f01aebd",
        "IPY_MODEL_77177a51cf6145ebb49bb0f8ac2e93c2",
        "IPY_MODEL_e206bf11813246b586c52971bf690f15"
       ],
       "layout": "IPY_MODEL_862c85db272c4042871e448c49cafb15"
      }
     },
     "f416e84f66cf484f92c5f0cc9aac21f6": {
      "model_module": "@jupyter-widgets/controls",
      "model_module_version": "1.5.0",
      "model_name": "ProgressStyleModel",
      "state": {
       "_model_module": "@jupyter-widgets/controls",
       "_model_module_version": "1.5.0",
       "_model_name": "ProgressStyleModel",
       "_view_count": null,
       "_view_module": "@jupyter-widgets/base",
       "_view_module_version": "1.2.0",
       "_view_name": "StyleView",
       "bar_color": null,
       "description_width": ""
      }
     },
     "f433ec72b2a14e4bbf82cf078bb31a92": {
      "model_module": "@jupyter-widgets/controls",
      "model_module_version": "1.5.0",
      "model_name": "HTMLModel",
      "state": {
       "_dom_classes": [],
       "_model_module": "@jupyter-widgets/controls",
       "_model_module_version": "1.5.0",
       "_model_name": "HTMLModel",
       "_view_count": null,
       "_view_module": "@jupyter-widgets/controls",
       "_view_module_version": "1.5.0",
       "_view_name": "HTMLView",
       "description": "",
       "description_tooltip": null,
       "layout": "IPY_MODEL_62f0a05fb1ff4b3aad938e2ef87e9e92",
       "placeholder": "​",
       "style": "IPY_MODEL_593f1dec5d8447d4b641392308f6023f",
       "value": "tokenizer_config.json: 100%"
      }
     },
     "f48d4350e0bb4918be952d6685978e25": {
      "model_module": "@jupyter-widgets/base",
      "model_module_version": "1.2.0",
      "model_name": "LayoutModel",
      "state": {
       "_model_module": "@jupyter-widgets/base",
       "_model_module_version": "1.2.0",
       "_model_name": "LayoutModel",
       "_view_count": null,
       "_view_module": "@jupyter-widgets/base",
       "_view_module_version": "1.2.0",
       "_view_name": "LayoutView",
       "align_content": null,
       "align_items": null,
       "align_self": null,
       "border": null,
       "bottom": null,
       "display": null,
       "flex": null,
       "flex_flow": null,
       "grid_area": null,
       "grid_auto_columns": null,
       "grid_auto_flow": null,
       "grid_auto_rows": null,
       "grid_column": null,
       "grid_gap": null,
       "grid_row": null,
       "grid_template_areas": null,
       "grid_template_columns": null,
       "grid_template_rows": null,
       "height": null,
       "justify_content": null,
       "justify_items": null,
       "left": null,
       "margin": null,
       "max_height": null,
       "max_width": null,
       "min_height": null,
       "min_width": null,
       "object_fit": null,
       "object_position": null,
       "order": null,
       "overflow": null,
       "overflow_x": null,
       "overflow_y": null,
       "padding": null,
       "right": null,
       "top": null,
       "visibility": null,
       "width": null
      }
     },
     "fa3891b8b7d14fed8828c682d02d4728": {
      "model_module": "@jupyter-widgets/controls",
      "model_module_version": "1.5.0",
      "model_name": "HBoxModel",
      "state": {
       "_dom_classes": [],
       "_model_module": "@jupyter-widgets/controls",
       "_model_module_version": "1.5.0",
       "_model_name": "HBoxModel",
       "_view_count": null,
       "_view_module": "@jupyter-widgets/controls",
       "_view_module_version": "1.5.0",
       "_view_name": "HBoxView",
       "box_style": "",
       "children": [
        "IPY_MODEL_84a4f731cd804eef830fdc62b008b704",
        "IPY_MODEL_ee347556df734ad9b264f9301b4ad5f1",
        "IPY_MODEL_920a81dc1e4a42379539e29f4d3e4096"
       ],
       "layout": "IPY_MODEL_eed079bbdc1847938806390c0f570ca8"
      }
     },
     "fb8378b753de413dbfab00dbbeaa1f1e": {
      "model_module": "@jupyter-widgets/base",
      "model_module_version": "1.2.0",
      "model_name": "LayoutModel",
      "state": {
       "_model_module": "@jupyter-widgets/base",
       "_model_module_version": "1.2.0",
       "_model_name": "LayoutModel",
       "_view_count": null,
       "_view_module": "@jupyter-widgets/base",
       "_view_module_version": "1.2.0",
       "_view_name": "LayoutView",
       "align_content": null,
       "align_items": null,
       "align_self": null,
       "border": null,
       "bottom": null,
       "display": null,
       "flex": null,
       "flex_flow": null,
       "grid_area": null,
       "grid_auto_columns": null,
       "grid_auto_flow": null,
       "grid_auto_rows": null,
       "grid_column": null,
       "grid_gap": null,
       "grid_row": null,
       "grid_template_areas": null,
       "grid_template_columns": null,
       "grid_template_rows": null,
       "height": null,
       "justify_content": null,
       "justify_items": null,
       "left": null,
       "margin": null,
       "max_height": null,
       "max_width": null,
       "min_height": null,
       "min_width": null,
       "object_fit": null,
       "object_position": null,
       "order": null,
       "overflow": null,
       "overflow_x": null,
       "overflow_y": null,
       "padding": null,
       "right": null,
       "top": null,
       "visibility": null,
       "width": null
      }
     },
     "fc37f45565fa46f2ac173c845e22783e": {
      "model_module": "@jupyter-widgets/base",
      "model_module_version": "1.2.0",
      "model_name": "LayoutModel",
      "state": {
       "_model_module": "@jupyter-widgets/base",
       "_model_module_version": "1.2.0",
       "_model_name": "LayoutModel",
       "_view_count": null,
       "_view_module": "@jupyter-widgets/base",
       "_view_module_version": "1.2.0",
       "_view_name": "LayoutView",
       "align_content": null,
       "align_items": null,
       "align_self": null,
       "border": null,
       "bottom": null,
       "display": null,
       "flex": null,
       "flex_flow": null,
       "grid_area": null,
       "grid_auto_columns": null,
       "grid_auto_flow": null,
       "grid_auto_rows": null,
       "grid_column": null,
       "grid_gap": null,
       "grid_row": null,
       "grid_template_areas": null,
       "grid_template_columns": null,
       "grid_template_rows": null,
       "height": null,
       "justify_content": null,
       "justify_items": null,
       "left": null,
       "margin": null,
       "max_height": null,
       "max_width": null,
       "min_height": null,
       "min_width": null,
       "object_fit": null,
       "object_position": null,
       "order": null,
       "overflow": null,
       "overflow_x": null,
       "overflow_y": null,
       "padding": null,
       "right": null,
       "top": null,
       "visibility": null,
       "width": null
      }
     },
     "ff74579d72b9475b8efdf1833853955a": {
      "model_module": "@jupyter-widgets/base",
      "model_module_version": "1.2.0",
      "model_name": "LayoutModel",
      "state": {
       "_model_module": "@jupyter-widgets/base",
       "_model_module_version": "1.2.0",
       "_model_name": "LayoutModel",
       "_view_count": null,
       "_view_module": "@jupyter-widgets/base",
       "_view_module_version": "1.2.0",
       "_view_name": "LayoutView",
       "align_content": null,
       "align_items": null,
       "align_self": null,
       "border": null,
       "bottom": null,
       "display": null,
       "flex": null,
       "flex_flow": null,
       "grid_area": null,
       "grid_auto_columns": null,
       "grid_auto_flow": null,
       "grid_auto_rows": null,
       "grid_column": null,
       "grid_gap": null,
       "grid_row": null,
       "grid_template_areas": null,
       "grid_template_columns": null,
       "grid_template_rows": null,
       "height": null,
       "justify_content": null,
       "justify_items": null,
       "left": null,
       "margin": null,
       "max_height": null,
       "max_width": null,
       "min_height": null,
       "min_width": null,
       "object_fit": null,
       "object_position": null,
       "order": null,
       "overflow": null,
       "overflow_x": null,
       "overflow_y": null,
       "padding": null,
       "right": null,
       "top": null,
       "visibility": null,
       "width": null
      }
     },
     "ffa3ad839915438989a36cee7c869adb": {
      "model_module": "@jupyter-widgets/controls",
      "model_module_version": "1.5.0",
      "model_name": "DescriptionStyleModel",
      "state": {
       "_model_module": "@jupyter-widgets/controls",
       "_model_module_version": "1.5.0",
       "_model_name": "DescriptionStyleModel",
       "_view_count": null,
       "_view_module": "@jupyter-widgets/base",
       "_view_module_version": "1.2.0",
       "_view_name": "StyleView",
       "description_width": ""
      }
     }
    },
    "version_major": 2,
    "version_minor": 0
   }
  }
 },
 "nbformat": 4,
 "nbformat_minor": 5
}
